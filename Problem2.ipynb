{
 "cells": [
  {
   "cell_type": "code",
   "execution_count": 2,
   "metadata": {},
   "outputs": [],
   "source": [
    "import matplotlib.pyplot as plt\n",
    "import pandas as pd\n",
    "import numpy as np\n"
   ]
  },
  {
   "cell_type": "code",
   "execution_count": 3,
   "metadata": {},
   "outputs": [],
   "source": [
    "from train_valid_test_loader import load_train_valid_test_datasets"
   ]
  },
  {
   "cell_type": "code",
   "execution_count": 4,
   "metadata": {},
   "outputs": [],
   "source": [
    "train_tuple, valid_tuple, test_tuple, n_users, n_items = load_train_valid_test_datasets()"
   ]
  },
  {
   "cell_type": "code",
   "execution_count": 5,
   "metadata": {},
   "outputs": [
    {
     "name": "stdout",
     "output_type": "stream",
     "text": [
      "      movieId                                      title  release_year  \\\n",
      "0           0                           Toy Story (1995)          1995   \n",
      "1           1                           GoldenEye (1995)          1995   \n",
      "2           2                          Four Rooms (1995)          1995   \n",
      "3           3                          Get Shorty (1995)          1995   \n",
      "4           4                             Copycat (1995)          1995   \n",
      "...       ...                                        ...           ...   \n",
      "1676     1676                          Mat' i syn (1997)          1998   \n",
      "1677     1677                           B. Monkey (1998)          1998   \n",
      "1678     1678                       Sliding Doors (1998)          1998   \n",
      "1679     1679                        You So Crazy (1994)          1994   \n",
      "1680     1680  Scream of Stone (Schrei aus Stein) (1991)          1996   \n",
      "\n",
      "      orig_item_id  \n",
      "0                1  \n",
      "1                2  \n",
      "2                3  \n",
      "3                4  \n",
      "4                5  \n",
      "...            ...  \n",
      "1676          1678  \n",
      "1677          1679  \n",
      "1678          1680  \n",
      "1679          1681  \n",
      "1680          1682  \n",
      "\n",
      "[1681 rows x 4 columns]\n"
     ]
    }
   ],
   "source": [
    "movies_df = pd.read_csv('/Users/brandonmukadziwashe/CS135/cs135-24f-assignments/CS-135-Project-B/data_movie_lens_100k/movie_info.csv')\n",
    "ratings_df = pd.read_csv('/Users/brandonmukadziwashe/CS135/cs135-24f-assignments/CS-135-Project-B/data_movie_lens_100k/ratings_all_development_set.csv')\n",
    "# print(movies_df)\n",
    "# Rename columns\n",
    "ratings_df = ratings_df.rename(columns={'user_id': 'userId', 'item_id': 'movieId'})\n",
    "movies_df = movies_df.rename(columns={'item_id': 'movieId'})\n",
    "\n",
    "\n",
    "# Add a new column 'timestamp' filled with zeros\n",
    "ratings_df['timestamp'] = 0\n",
    "\n",
    "\n",
    "# print(ratings_df)\n",
    "print(movies_df)"
   ]
  },
  {
   "cell_type": "code",
   "execution_count": null,
   "metadata": {},
   "outputs": [],
   "source": []
  },
  {
   "cell_type": "code",
   "execution_count": null,
   "metadata": {
    "id": "OmO7jmrpkvZf"
   },
   "outputs": [],
   "source": [
    "# # import the dataset\n",
    "# import pandas as pd\n",
    "# movies_df = pd.read_csv('data/ml-latest-small/movies.csv')\n",
    "# ratings_df = pd.read_csv('data/ml-latest-small/ratings.csv')"
   ]
  },
  {
   "cell_type": "code",
   "execution_count": 6,
   "metadata": {
    "colab": {
     "base_uri": "https://localhost:8080/"
    },
    "id": "Q-KRTGaskvdn",
    "outputId": "ec89b4c8-ee99-407c-ce07-8d9ddcf0f0b1"
   },
   "outputs": [
    {
     "name": "stdout",
     "output_type": "stream",
     "text": [
      "The dimensions of movies dataframe are: (1681, 4) \n",
      "The dimensions of ratings dataframe are: (89992, 4)\n"
     ]
    }
   ],
   "source": [
    "print('The dimensions of movies dataframe are:', movies_df.shape,'\\nThe dimensions of ratings dataframe are:', ratings_df.shape)"
   ]
  },
  {
   "cell_type": "code",
   "execution_count": 7,
   "metadata": {
    "colab": {
     "base_uri": "https://localhost:8080/",
     "height": 195
    },
    "id": "ALPeuAiBk0mM",
    "outputId": "8afc063a-7b73-4cdf-b624-cf36ecfa231a"
   },
   "outputs": [
    {
     "data": {
      "text/html": [
       "<div>\n",
       "<style scoped>\n",
       "    .dataframe tbody tr th:only-of-type {\n",
       "        vertical-align: middle;\n",
       "    }\n",
       "\n",
       "    .dataframe tbody tr th {\n",
       "        vertical-align: top;\n",
       "    }\n",
       "\n",
       "    .dataframe thead th {\n",
       "        text-align: right;\n",
       "    }\n",
       "</style>\n",
       "<table border=\"1\" class=\"dataframe\">\n",
       "  <thead>\n",
       "    <tr style=\"text-align: right;\">\n",
       "      <th></th>\n",
       "      <th>movieId</th>\n",
       "      <th>title</th>\n",
       "      <th>release_year</th>\n",
       "      <th>orig_item_id</th>\n",
       "    </tr>\n",
       "  </thead>\n",
       "  <tbody>\n",
       "    <tr>\n",
       "      <th>0</th>\n",
       "      <td>0</td>\n",
       "      <td>Toy Story (1995)</td>\n",
       "      <td>1995</td>\n",
       "      <td>1</td>\n",
       "    </tr>\n",
       "    <tr>\n",
       "      <th>1</th>\n",
       "      <td>1</td>\n",
       "      <td>GoldenEye (1995)</td>\n",
       "      <td>1995</td>\n",
       "      <td>2</td>\n",
       "    </tr>\n",
       "    <tr>\n",
       "      <th>2</th>\n",
       "      <td>2</td>\n",
       "      <td>Four Rooms (1995)</td>\n",
       "      <td>1995</td>\n",
       "      <td>3</td>\n",
       "    </tr>\n",
       "    <tr>\n",
       "      <th>3</th>\n",
       "      <td>3</td>\n",
       "      <td>Get Shorty (1995)</td>\n",
       "      <td>1995</td>\n",
       "      <td>4</td>\n",
       "    </tr>\n",
       "    <tr>\n",
       "      <th>4</th>\n",
       "      <td>4</td>\n",
       "      <td>Copycat (1995)</td>\n",
       "      <td>1995</td>\n",
       "      <td>5</td>\n",
       "    </tr>\n",
       "  </tbody>\n",
       "</table>\n",
       "</div>"
      ],
      "text/plain": [
       "   movieId              title  release_year  orig_item_id\n",
       "0        0   Toy Story (1995)          1995             1\n",
       "1        1   GoldenEye (1995)          1995             2\n",
       "2        2  Four Rooms (1995)          1995             3\n",
       "3        3  Get Shorty (1995)          1995             4\n",
       "4        4     Copycat (1995)          1995             5"
      ]
     },
     "execution_count": 7,
     "metadata": {},
     "output_type": "execute_result"
    }
   ],
   "source": [
    "# Take a look at movies_df\n",
    "movies_df.head()"
   ]
  },
  {
   "cell_type": "code",
   "execution_count": 9,
   "metadata": {
    "colab": {
     "base_uri": "https://localhost:8080/",
     "height": 195
    },
    "id": "KzPoqkWbk0oh",
    "outputId": "762a17ed-9513-48f8-f1ef-0c1b63347624"
   },
   "outputs": [
    {
     "data": {
      "text/html": [
       "<div>\n",
       "<style scoped>\n",
       "    .dataframe tbody tr th:only-of-type {\n",
       "        vertical-align: middle;\n",
       "    }\n",
       "\n",
       "    .dataframe tbody tr th {\n",
       "        vertical-align: top;\n",
       "    }\n",
       "\n",
       "    .dataframe thead th {\n",
       "        text-align: right;\n",
       "    }\n",
       "</style>\n",
       "<table border=\"1\" class=\"dataframe\">\n",
       "  <thead>\n",
       "    <tr style=\"text-align: right;\">\n",
       "      <th></th>\n",
       "      <th>userId</th>\n",
       "      <th>movieId</th>\n",
       "      <th>rating</th>\n",
       "      <th>timestamp</th>\n",
       "    </tr>\n",
       "  </thead>\n",
       "  <tbody>\n",
       "    <tr>\n",
       "      <th>0</th>\n",
       "      <td>772</td>\n",
       "      <td>36</td>\n",
       "      <td>3</td>\n",
       "      <td>0</td>\n",
       "    </tr>\n",
       "    <tr>\n",
       "      <th>1</th>\n",
       "      <td>471</td>\n",
       "      <td>228</td>\n",
       "      <td>5</td>\n",
       "      <td>0</td>\n",
       "    </tr>\n",
       "    <tr>\n",
       "      <th>2</th>\n",
       "      <td>641</td>\n",
       "      <td>401</td>\n",
       "      <td>4</td>\n",
       "      <td>0</td>\n",
       "    </tr>\n",
       "    <tr>\n",
       "      <th>3</th>\n",
       "      <td>312</td>\n",
       "      <td>98</td>\n",
       "      <td>4</td>\n",
       "      <td>0</td>\n",
       "    </tr>\n",
       "    <tr>\n",
       "      <th>4</th>\n",
       "      <td>58</td>\n",
       "      <td>504</td>\n",
       "      <td>5</td>\n",
       "      <td>0</td>\n",
       "    </tr>\n",
       "  </tbody>\n",
       "</table>\n",
       "</div>"
      ],
      "text/plain": [
       "   userId  movieId  rating  timestamp\n",
       "0     772       36       3          0\n",
       "1     471      228       5          0\n",
       "2     641      401       4          0\n",
       "3     312       98       4          0\n",
       "4      58      504       5          0"
      ]
     },
     "execution_count": 9,
     "metadata": {},
     "output_type": "execute_result"
    }
   ],
   "source": [
    "# Take a look at ratings_df\n",
    "ratings_df.head()"
   ]
  },
  {
   "cell_type": "code",
   "execution_count": 8,
   "metadata": {
    "colab": {
     "base_uri": "https://localhost:8080/"
    },
    "id": "2TUaWt96k0q7",
    "outputId": "afd13baa-d03e-40c9-9dcf-f8c4cbda08d0"
   },
   "outputs": [
    {
     "name": "stdout",
     "output_type": "stream",
     "text": [
      "Movie names: {0: 'Toy Story (1995)', 1: 'GoldenEye (1995)', 2: 'Four Rooms (1995)', 3: 'Get Shorty (1995)', 4: 'Copycat (1995)', 5: 'Shanghai Triad (Yao a yao yao dao waipo qiao) (1995)', 6: 'Twelve Monkeys (1995)', 7: 'Babe (1995)', 8: 'Dead Man Walking (1995)', 9: 'Richard III (1995)', 10: 'Seven (Se7en) (1995)', 11: 'Usual Suspects, The (1995)', 12: 'Mighty Aphrodite (1995)', 13: 'Postino, Il (1994)', 14: \"Mr. Holland's Opus (1995)\", 15: 'French Twist (Gazon maudit) (1995)', 16: 'From Dusk Till Dawn (1996)', 17: 'White Balloon, The (1995)', 18: \"Antonia's Line (1995)\", 19: 'Angels and Insects (1995)', 20: 'Muppet Treasure Island (1996)', 21: 'Braveheart (1995)', 22: 'Taxi Driver (1976)', 23: 'Rumble in the Bronx (1995)', 24: 'Birdcage, The (1996)', 25: 'Brothers McMullen, The (1995)', 26: 'Bad Boys (1995)', 27: 'Apollo 13 (1995)', 28: 'Batman Forever (1995)', 29: 'Belle de jour (1967)', 30: 'Crimson Tide (1995)', 31: 'Crumb (1994)', 32: 'Desperado (1995)', 33: 'Doom Generation, The (1995)', 34: 'Free Willy 2: The Adventure Home (1995)', 35: 'Mad Love (1995)', 36: 'Nadja (1994)', 37: 'Net, The (1995)', 38: 'Strange Days (1995)', 39: 'To Wong Foo, Thanks for Everything! Julie Newmar (1995)', 40: 'Billy Madison (1995)', 41: 'Clerks (1994)', 42: 'Disclosure (1994)', 43: 'Dolores Claiborne (1994)', 44: 'Eat Drink Man Woman (1994)', 45: 'Exotica (1994)', 46: 'Ed Wood (1994)', 47: 'Hoop Dreams (1994)', 48: 'I.Q. (1994)', 49: 'Star Wars (1977)', 50: 'Legends of the Fall (1994)', 51: 'Madness of King George, The (1994)', 52: 'Natural Born Killers (1994)', 53: 'Outbreak (1995)', 54: 'Professional, The (1994)', 55: 'Pulp Fiction (1994)', 56: 'Priest (1994)', 57: 'Quiz Show (1994)', 58: 'Three Colors: Red (1994)', 59: 'Three Colors: Blue (1993)', 60: 'Three Colors: White (1994)', 61: 'Stargate (1994)', 62: 'Santa Clause, The (1994)', 63: 'Shawshank Redemption, The (1994)', 64: \"What's Eating Gilbert Grape (1993)\", 65: 'While You Were Sleeping (1995)', 66: 'Ace Ventura: Pet Detective (1994)', 67: 'Crow, The (1994)', 68: 'Forrest Gump (1994)', 69: 'Four Weddings and a Funeral (1994)', 70: 'Lion King, The (1994)', 71: 'Mask, The (1994)', 72: 'Maverick (1994)', 73: 'Faster Pussycat! Kill! Kill! (1965)', 74: 'Brother Minister: The Assassination of Malcolm X (1994)', 75: \"Carlito's Way (1993)\", 76: 'Firm, The (1993)', 77: 'Free Willy (1993)', 78: 'Fugitive, The (1993)', 79: 'Hot Shots! Part Deux (1993)', 80: 'Hudsucker Proxy, The (1994)', 81: 'Jurassic Park (1993)', 82: 'Much Ado About Nothing (1993)', 83: \"Robert A. Heinlein's The Puppet Masters (1994)\", 84: 'Ref, The (1994)', 85: 'Remains of the Day, The (1993)', 86: 'Searching for Bobby Fischer (1993)', 87: 'Sleepless in Seattle (1993)', 88: 'Blade Runner (1982)', 89: 'So I Married an Axe Murderer (1993)', 90: 'Nightmare Before Christmas, The (1993)', 91: 'True Romance (1993)', 92: 'Welcome to the Dollhouse (1995)', 93: 'Home Alone (1990)', 94: 'Aladdin (1992)', 95: 'Terminator 2: Judgment Day (1991)', 96: 'Dances with Wolves (1990)', 97: 'Silence of the Lambs, The (1991)', 98: 'Snow White and the Seven Dwarfs (1937)', 99: 'Fargo (1996)', 100: 'Heavy Metal (1981)', 101: 'Aristocats, The (1970)', 102: 'All Dogs Go to Heaven 2 (1996)', 103: 'Theodore Rex (1995)', 104: 'Sgt. Bilko (1996)', 105: 'Diabolique (1996)', 106: 'Moll Flanders (1996)', 107: 'Kids in the Hall: Brain Candy (1996)', 108: 'Mystery Science Theater 3000: The Movie (1996)', 109: 'Operation Dumbo Drop (1995)', 110: 'Truth About Cats & Dogs, The (1996)', 111: 'Flipper (1996)', 112: 'Horseman on the Roof, The (Hussard sur le toit, Le) (1995)', 113: 'Wallace & Gromit: The Best of Aardman Animation (1996)', 114: 'Haunted World of Edward D. Wood Jr., The (1995)', 115: 'Cold Comfort Farm (1995)', 116: 'Rock, The (1996)', 117: 'Twister (1996)', 118: 'Maya Lin: A Strong Clear Vision (1994)', 119: 'Striptease (1996)', 120: 'Independence Day (ID4) (1996)', 121: 'Cable Guy, The (1996)', 122: 'Frighteners, The (1996)', 123: 'Lone Star (1996)', 124: 'Phenomenon (1996)', 125: 'Spitfire Grill, The (1996)', 126: 'Godfather, The (1972)', 127: 'Supercop (1992)', 128: 'Bound (1996)', 129: 'Kansas City (1996)', 130: \"Breakfast at Tiffany's (1961)\", 131: 'Wizard of Oz, The (1939)', 132: 'Gone with the Wind (1939)', 133: 'Citizen Kane (1941)', 134: '2001: A Space Odyssey (1968)', 135: 'Mr. Smith Goes to Washington (1939)', 136: 'Big Night (1996)', 137: 'D3: The Mighty Ducks (1996)', 138: 'Love Bug, The (1969)', 139: 'Homeward Bound: The Incredible Journey (1993)', 140: '20,000 Leagues Under the Sea (1954)', 141: 'Bedknobs and Broomsticks (1971)', 142: 'Sound of Music, The (1965)', 143: 'Die Hard (1988)', 144: 'Lawnmower Man, The (1992)', 145: 'Unhook the Stars (1996)', 146: 'Long Kiss Goodnight, The (1996)', 147: 'Ghost and the Darkness, The (1996)', 148: 'Jude (1996)', 149: 'Swingers (1996)', 150: 'Willy Wonka and the Chocolate Factory (1971)', 151: 'Sleeper (1973)', 152: 'Fish Called Wanda, A (1988)', 153: \"Monty Python's Life of Brian (1979)\", 154: 'Dirty Dancing (1987)', 155: 'Reservoir Dogs (1992)', 156: 'Platoon (1986)', 157: \"Weekend at Bernie's (1989)\", 158: 'Basic Instinct (1992)', 159: 'Glengarry Glen Ross (1992)', 160: 'Top Gun (1986)', 161: 'On Golden Pond (1981)', 162: 'Return of the Pink Panther, The (1974)', 163: 'Abyss, The (1989)', 164: 'Jean de Florette (1986)', 165: 'Manon of the Spring (Manon des sources) (1986)', 166: 'Private Benjamin (1980)', 167: 'Monty Python and the Holy Grail (1974)', 168: 'Wrong Trousers, The (1993)', 169: 'Cinema Paradiso (1988)', 170: 'Delicatessen (1991)', 171: 'Empire Strikes Back, The (1980)', 172: 'Princess Bride, The (1987)', 173: 'Raiders of the Lost Ark (1981)', 174: 'Brazil (1985)', 175: 'Aliens (1986)', 176: 'Good, The Bad and The Ugly, The (1966)', 177: '12 Angry Men (1957)', 178: 'Clockwork Orange, A (1971)', 179: 'Apocalypse Now (1979)', 180: 'Return of the Jedi (1983)', 181: 'GoodFellas (1990)', 182: 'Alien (1979)', 183: 'Army of Darkness (1993)', 184: 'Psycho (1960)', 185: 'Blues Brothers, The (1980)', 186: 'Godfather: Part II, The (1974)', 187: 'Full Metal Jacket (1987)', 188: 'Grand Day Out, A (1992)', 189: 'Henry V (1989)', 190: 'Amadeus (1984)', 191: 'Raging Bull (1980)', 192: 'Right Stuff, The (1983)', 193: 'Sting, The (1973)', 194: 'Terminator, The (1984)', 195: 'Dead Poets Society (1989)', 196: 'Graduate, The (1967)', 197: 'Nikita (La Femme Nikita) (1990)', 198: 'Bridge on the River Kwai, The (1957)', 199: 'Shining, The (1980)', 200: 'Evil Dead II (1987)', 201: 'Groundhog Day (1993)', 202: 'Unforgiven (1992)', 203: 'Back to the Future (1985)', 204: 'Patton (1970)', 205: 'Akira (1988)', 206: 'Cyrano de Bergerac (1990)', 207: 'Young Frankenstein (1974)', 208: 'This Is Spinal Tap (1984)', 209: 'Indiana Jones and the Last Crusade (1989)', 210: 'M*A*S*H (1970)', 211: 'Unbearable Lightness of Being, The (1988)', 212: 'Room with a View, A (1986)', 213: 'Pink Floyd - The Wall (1982)', 214: 'Field of Dreams (1989)', 215: 'When Harry Met Sally... (1989)', 216: \"Bram Stoker's Dracula (1992)\", 217: 'Cape Fear (1991)', 218: 'Nightmare on Elm Street, A (1984)', 219: 'Mirror Has Two Faces, The (1996)', 220: 'Breaking the Waves (1996)', 221: 'Star Trek: First Contact (1996)', 222: 'Sling Blade (1996)', 223: 'Ridicule (1996)', 224: '101 Dalmatians (1996)', 225: 'Die Hard 2 (1990)', 226: 'Star Trek VI: The Undiscovered Country (1991)', 227: 'Star Trek: The Wrath of Khan (1982)', 228: 'Star Trek III: The Search for Spock (1984)', 229: 'Star Trek IV: The Voyage Home (1986)', 230: 'Batman Returns (1992)', 231: 'Young Guns (1988)', 232: 'Under Siege (1992)', 233: 'Jaws (1975)', 234: 'Mars Attacks! (1996)', 235: 'Citizen Ruth (1996)', 236: 'Jerry Maguire (1996)', 237: 'Raising Arizona (1987)', 238: 'Sneakers (1992)', 239: 'Beavis and Butt-head Do America (1996)', 240: 'Last of the Mohicans, The (1992)', 241: 'Kolya (1996)', 242: 'Jungle2Jungle (1997)', 243: \"Smilla's Sense of Snow (1997)\", 244: \"Devil's Own, The (1997)\", 245: 'Chasing Amy (1997)', 246: 'Turbo: A Power Rangers Movie (1997)', 247: 'Grosse Pointe Blank (1997)', 248: 'Austin Powers: International Man of Mystery (1997)', 249: 'Fifth Element, The (1997)', 250: 'Shall We Dance? (1996)', 251: 'Lost World: Jurassic Park, The (1997)', 252: 'Pillow Book, The (1995)', 253: 'Batman & Robin (1997)', 254: \"My Best Friend's Wedding (1997)\", 255: 'When the Cats Away (Chacun cherche son chat) (1996)', 256: 'Men in Black (1997)', 257: 'Contact (1997)', 258: 'George of the Jungle (1997)', 259: 'Event Horizon (1997)', 260: 'Air Bud (1997)', 261: 'In the Company of Men (1997)', 262: 'Steel (1997)', 263: 'Mimic (1997)', 264: 'Hunt for Red October, The (1990)', 265: 'Kull the Conqueror (1997)', 266: 'Chasing Amy (1997)', 267: 'Full Monty, The (1997)', 268: 'Gattaca (1997)', 269: 'Starship Troopers (1997)', 270: 'Good Will Hunting (1997)', 271: 'Heat (1995)', 272: 'Sabrina (1995)', 273: 'Sense and Sensibility (1995)', 274: 'Leaving Las Vegas (1995)', 275: 'Restoration (1995)', 276: 'Bed of Roses (1996)', 277: 'Once Upon a Time... When We Were Colored (1995)', 278: 'Up Close and Personal (1996)', 279: 'River Wild, The (1994)', 280: 'Time to Kill, A (1996)', 281: 'Emma (1996)', 282: 'Tin Cup (1996)', 283: 'Secrets & Lies (1996)', 284: 'English Patient, The (1996)', 285: \"Marvin's Room (1996)\", 286: 'Scream (1996)', 287: 'Evita (1996)', 288: 'Fierce Creatures (1997)', 289: 'Absolute Power (1997)', 290: 'Rosewood (1997)', 291: 'Donnie Brasco (1997)', 292: 'Liar Liar (1997)', 293: 'Breakdown (1997)', 294: 'Promesse, La (1996)', 295: \"Ulee's Gold (1997)\", 296: 'Face/Off (1997)', 297: 'Hoodlum (1997)', 298: 'Air Force One (1997)', 299: 'In & Out (1997)', 300: 'L.A. Confidential (1997)', 301: \"Ulee's Gold (1997)\", 302: 'Fly Away Home (1996)', 303: 'Ice Storm, The (1997)', 304: 'Mrs. Brown (Her Majesty, Mrs. Brown) (1997)', 305: \"Devil's Advocate, The (1997)\", 306: 'FairyTale: A True Story (1997)', 307: 'Deceiver (1997)', 308: 'Rainmaker, The (1997)', 309: 'Wings of the Dove, The (1997)', 310: 'Midnight in the Garden of Good and Evil (1997)', 311: 'Titanic (1997)', 312: '3 Ninjas: High Noon At Mega Mountain (1998)', 313: 'Apt Pupil (1998)', 314: 'As Good As It Gets (1997)', 315: 'In the Name of the Father (1993)', 316: \"Schindler's List (1993)\", 317: 'Everyone Says I Love You (1996)', 318: 'Paradise Lost: The Child Murders at Robin Hood Hills (1996)', 319: 'Mother (1996)', 320: 'Murder at 1600 (1997)', 321: \"Dante's Peak (1997)\", 322: 'Lost Highway (1997)', 323: 'Crash (1996)', 324: 'G.I. Jane (1997)', 325: 'Cop Land (1997)', 326: 'Conspiracy Theory (1997)', 327: 'Desperate Measures (1998)', 328: '187 (1997)', 329: 'Edge, The (1997)', 330: 'Kiss the Girls (1997)', 331: 'Game, The (1997)', 332: 'U Turn (1997)', 333: 'How to Be a Player (1997)', 334: 'Playing God (1997)', 335: 'House of Yes, The (1997)', 336: 'Bean (1997)', 337: 'Mad City (1997)', 338: 'Boogie Nights (1997)', 339: 'Critical Care (1997)', 340: 'Man Who Knew Too Little, The (1997)', 341: 'Alien: Resurrection (1997)', 342: 'Apostle, The (1997)', 343: 'Deconstructing Harry (1997)', 344: 'Jackie Brown (1997)', 345: 'Wag the Dog (1997)', 346: 'Desperate Measures (1998)', 347: 'Hard Rain (1998)', 348: 'Fallen (1998)', 349: 'Prophecy II, The (1998)', 350: 'Spice World (1997)', 351: 'Deep Rising (1998)', 352: 'Wedding Singer, The (1998)', 353: 'Sphere (1998)', 354: 'Client, The (1994)', 355: \"One Flew Over the Cuckoo's Nest (1975)\", 356: 'Spawn (1997)', 357: 'Assignment, The (1997)', 358: 'Wonderland (1997)', 359: 'Incognito (1997)', 360: 'Blues Brothers 2000 (1998)', 361: 'Sudden Death (1995)', 362: 'Ace Ventura: When Nature Calls (1995)', 363: 'Powder (1995)', 364: 'Dangerous Minds (1995)', 365: 'Clueless (1995)', 366: 'Bio-Dome (1996)', 367: 'Black Sheep (1996)', 368: 'Mary Reilly (1996)', 369: 'Bridges of Madison County, The (1995)', 370: 'Jeffrey (1995)', 371: 'Judge Dredd (1995)', 372: 'Mighty Morphin Power Rangers: The Movie (1995)', 373: 'Showgirls (1995)', 374: 'Houseguest (1994)', 375: 'Heavyweights (1994)', 376: 'Miracle on 34th Street (1994)', 377: 'Tales From the Crypt Presents: Demon Knight (1995)', 378: 'Star Trek: Generations (1994)', 379: \"Muriel's Wedding (1994)\", 380: 'Adventures of Priscilla, Queen of the Desert, The (1994)', 381: 'Flintstones, The (1994)', 382: 'Naked Gun 33 1/3: The Final Insult (1994)', 383: 'True Lies (1994)', 384: 'Addams Family Values (1993)', 385: 'Age of Innocence, The (1993)', 386: 'Beverly Hills Cop III (1994)', 387: 'Black Beauty (1994)', 388: 'Fear of a Black Hat (1993)', 389: 'Last Action Hero (1993)', 390: 'Man Without a Face, The (1993)', 391: 'Mrs. Doubtfire (1993)', 392: 'Radioland Murders (1994)', 393: 'Robin Hood: Men in Tights (1993)', 394: 'Serial Mom (1994)', 395: 'Striking Distance (1993)', 396: 'Super Mario Bros. (1993)', 397: 'Three Musketeers, The (1993)', 398: 'Little Rascals, The (1994)', 399: 'Brady Bunch Movie, The (1995)', 400: 'Ghost (1990)', 401: 'Batman (1989)', 402: 'Pinocchio (1940)', 403: 'Mission: Impossible (1996)', 404: 'Thinner (1996)', 405: 'Spy Hard (1996)', 406: 'Close Shave, A (1995)', 407: 'Jack (1996)', 408: 'Kingpin (1996)', 409: 'Nutty Professor, The (1996)', 410: 'Very Brady Sequel, A (1996)', 411: 'Tales from the Crypt Presents: Bordello of Blood (1996)', 412: 'My Favorite Year (1982)', 413: 'Apple Dumpling Gang, The (1975)', 414: 'Old Yeller (1957)', 415: 'Parent Trap, The (1961)', 416: 'Cinderella (1950)', 417: 'Mary Poppins (1964)', 418: 'Alice in Wonderland (1951)', 419: \"William Shakespeare's Romeo and Juliet (1996)\", 420: 'Aladdin and the King of Thieves (1996)', 421: 'E.T. the Extra-Terrestrial (1982)', 422: 'Children of the Corn: The Gathering (1996)', 423: 'Bob Roberts (1992)', 424: 'Transformers: The Movie, The (1986)', 425: 'To Kill a Mockingbird (1962)', 426: 'Harold and Maude (1971)', 427: 'Day the Earth Stood Still, The (1951)', 428: 'Duck Soup (1933)', 429: 'Highlander (1986)', 430: 'Fantasia (1940)', 431: 'Heathers (1989)', 432: 'Forbidden Planet (1956)', 433: 'Butch Cassidy and the Sundance Kid (1969)', 434: 'American Werewolf in London, An (1981)', 435: \"Amityville 1992: It's About Time (1992)\", 436: 'Amityville 3-D (1983)', 437: 'Amityville: A New Generation (1993)', 438: 'Amityville II: The Possession (1982)', 439: 'Amityville Horror, The (1979)', 440: 'Amityville Curse, The (1990)', 441: 'Birds, The (1963)', 442: 'Blob, The (1958)', 443: 'Body Snatcher, The (1945)', 444: 'Burnt Offerings (1976)', 445: 'Carrie (1976)', 446: 'Omen, The (1976)', 447: 'Star Trek: The Motion Picture (1979)', 448: 'Star Trek V: The Final Frontier (1989)', 449: 'Grease (1978)', 450: 'Jaws 2 (1978)', 451: 'Jaws 3-D (1983)', 452: 'Bastard Out of Carolina (1996)', 453: \"Jackie Chan's First Strike (1996)\", 454: 'Beverly Hills Ninja (1997)', 455: 'Free Willy 3: The Rescue (1997)', 456: 'Nixon (1995)', 457: 'Cry, the Beloved Country (1995)', 458: 'Crossing Guard, The (1995)', 459: 'Smoke (1995)', 460: 'Like Water For Chocolate (Como agua para chocolate) (1992)', 461: 'Secret of Roan Inish, The (1994)', 462: 'Vanya on 42nd Street (1994)', 463: 'Jungle Book, The (1994)', 464: 'Red Rock West (1992)', 465: 'Bronx Tale, A (1993)', 466: 'Rudy (1993)', 467: 'Short Cuts (1993)', 468: 'Tombstone (1993)', 469: 'Courage Under Fire (1996)', 470: 'Dragonheart (1996)', 471: 'James and the Giant Peach (1996)', 472: 'Dr. Strangelove or: How I Learned to Stop Worrying and Love the Bomb (1963)', 473: 'Trainspotting (1996)', 474: 'First Wives Club, The (1996)', 475: 'Matilda (1996)', 476: 'Philadelphia Story, The (1940)', 477: 'Vertigo (1958)', 478: 'North by Northwest (1959)', 479: 'Apartment, The (1960)', 480: 'Some Like It Hot (1959)', 481: 'Casablanca (1942)', 482: 'Maltese Falcon, The (1941)', 483: 'My Fair Lady (1964)', 484: 'Sabrina (1954)', 485: 'Roman Holiday (1953)', 486: 'Sunset Blvd. (1950)', 487: 'Notorious (1946)', 488: 'To Catch a Thief (1955)', 489: 'Adventures of Robin Hood, The (1938)', 490: 'East of Eden (1955)', 491: 'Thin Man, The (1934)', 492: 'His Girl Friday (1940)', 493: 'Around the World in 80 Days (1956)', 494: \"It's a Wonderful Life (1946)\", 495: 'Bringing Up Baby (1938)', 496: 'African Queen, The (1951)', 497: 'Cat on a Hot Tin Roof (1958)', 498: 'Fly Away Home (1996)', 499: 'Dumbo (1941)', 500: 'Bananas (1971)', 501: 'Candidate, The (1972)', 502: 'Bonnie and Clyde (1967)', 503: 'Dial M for Murder (1954)', 504: 'Rebel Without a Cause (1955)', 505: 'Streetcar Named Desire, A (1951)', 506: 'People vs. Larry Flynt, The (1996)', 507: 'My Left Foot (1989)', 508: 'Magnificent Seven, The (1954)', 509: 'Lawrence of Arabia (1962)', 510: 'Wings of Desire (1987)', 511: 'Third Man, The (1949)', 512: 'Annie Hall (1977)', 513: 'Boot, Das (1981)', 514: 'Local Hero (1983)', 515: 'Manhattan (1979)', 516: \"Miller's Crossing (1990)\", 517: 'Treasure of the Sierra Madre, The (1948)', 518: 'Great Escape, The (1963)', 519: 'Deer Hunter, The (1978)', 520: 'Down by Law (1986)', 521: 'Cool Hand Luke (1967)', 522: 'Great Dictator, The (1940)', 523: 'Big Sleep, The (1946)', 524: 'Ben-Hur (1959)', 525: 'Gandhi (1982)', 526: 'Killing Fields, The (1984)', 527: 'My Life as a Dog (Mitt liv som hund) (1985)', 528: 'Man Who Would Be King, The (1975)', 529: 'Shine (1996)', 530: 'Kama Sutra: A Tale of Love (1996)', 531: 'Daytrippers, The (1996)', 532: 'Traveller (1997)', 533: 'Addicted to Love (1997)', 534: 'Ponette (1996)', 535: 'My Own Private Idaho (1991)', 536: 'Anastasia (1997)', 537: 'Mouse Hunt (1997)', 538: 'Money Train (1995)', 539: 'Mortal Kombat (1995)', 540: 'Pocahontas (1995)', 541: 'Misérables, Les (1995)', 542: \"Things to Do in Denver when You're Dead (1995)\", 543: 'Vampire in Brooklyn (1995)', 544: 'Broken Arrow (1996)', 545: \"Young Poisoner's Handbook, The (1995)\", 546: 'NeverEnding Story III, The (1994)', 547: 'Rob Roy (1995)', 548: 'Die Hard: With a Vengeance (1995)', 549: 'Lord of Illusions (1995)', 550: 'Species (1995)', 551: 'Walk in the Clouds, A (1995)', 552: 'Waterworld (1995)', 553: \"White Man's Burden (1995)\", 554: 'Wild Bill (1995)', 555: 'Farinelli: il castrato (1994)', 556: 'Heavenly Creatures (1994)', 557: 'Interview with the Vampire (1994)', 558: \"Kid in King Arthur's Court, A (1995)\", 559: \"Mary Shelley's Frankenstein (1994)\", 560: 'Quick and the Dead, The (1995)', 561: \"Stephen King's The Langoliers (1995)\", 562: 'Tales from the Hood (1995)', 563: 'Village of the Damned (1995)', 564: 'Clear and Present Danger (1994)', 565: \"Wes Craven's New Nightmare (1994)\", 566: 'Speed (1994)', 567: 'Wolf (1994)', 568: 'Wyatt Earp (1994)', 569: 'Another Stakeout (1993)', 570: 'Blown Away (1994)', 571: 'Body Snatchers (1993)', 572: 'Boxing Helena (1993)', 573: \"City Slickers II: The Legend of Curly's Gold (1994)\", 574: 'Cliffhanger (1993)', 575: 'Coneheads (1993)', 576: 'Demolition Man (1993)', 577: 'Fatal Instinct (1993)', 578: 'Englishman Who Went Up a Hill, But Came Down a Mountain, The (1995)', 579: 'Kalifornia (1993)', 580: 'Piano, The (1993)', 581: 'Romeo Is Bleeding (1993)', 582: 'Secret Garden, The (1993)', 583: 'Son in Law (1993)', 584: 'Terminal Velocity (1994)', 585: 'Hour of the Pig, The (1993)', 586: 'Beauty and the Beast (1991)', 587: 'Wild Bunch, The (1969)', 588: 'Hellraiser: Bloodline (1996)', 589: 'Primal Fear (1996)', 590: 'True Crime (1995)', 591: 'Stalingrad (1993)', 592: 'Heavy (1995)', 593: 'Fan, The (1996)', 594: 'Hunchback of Notre Dame, The (1996)', 595: 'Eraser (1996)', 596: 'Big Squeeze, The (1996)', 597: 'Police Story 4: Project S (Chao ji ji hua) (1993)', 598: \"Daniel Defoe's Robinson Crusoe (1996)\", 599: 'For Whom the Bell Tolls (1943)', 600: 'American in Paris, An (1951)', 601: 'Rear Window (1954)', 602: 'It Happened One Night (1934)', 603: 'Meet Me in St. Louis (1944)', 604: 'All About Eve (1950)', 605: 'Rebecca (1940)', 606: 'Spellbound (1945)', 607: 'Father of the Bride (1950)', 608: 'Gigi (1958)', 609: 'Laura (1944)', 610: 'Lost Horizon (1937)', 611: 'My Man Godfrey (1936)', 612: 'Giant (1956)', 613: '39 Steps, The (1935)', 614: 'Night of the Living Dead (1968)', 615: 'Blue Angel, The (Blaue Engel, Der) (1930)', 616: 'Picnic (1955)', 617: 'Extreme Measures (1996)', 618: 'Chamber, The (1996)', 619: 'Davy Crockett, King of the Wild Frontier (1955)', 620: 'Swiss Family Robinson (1960)', 621: 'Angels in the Outfield (1994)', 622: 'Three Caballeros, The (1945)', 623: 'Sword in the Stone, The (1963)', 624: 'So Dear to My Heart (1949)', 625: 'Robin Hood: Prince of Thieves (1991)', 626: 'Sleepers (1996)', 627: 'Victor/Victoria (1982)', 628: 'Great Race, The (1965)', 629: 'Crying Game, The (1992)', 630: \"Sophie's Choice (1982)\", 631: 'Christmas Carol, A (1938)', 632: \"Microcosmos: Le peuple de l'herbe (1996)\", 633: 'Fog, The (1980)', 634: 'Escape from New York (1981)', 635: 'Howling, The (1981)', 636: 'Return of Martin Guerre, The (Retour de Martin Guerre, Le) (1982)', 637: 'Tin Drum, The (Blechtrommel, Die) (1979)', 638: 'Cook the Thief His Wife & Her Lover, The (1989)', 639: 'Paths of Glory (1957)', 640: 'Grifters, The (1990)', 641: 'The Innocent (1994)', 642: 'Thin Blue Line, The (1988)', 643: 'Paris Is Burning (1990)', 644: 'Once Upon a Time in the West (1969)', 645: 'Ran (1985)', 646: 'Quiet Man, The (1952)', 647: 'Once Upon a Time in America (1984)', 648: 'Seventh Seal, The (Sjunde inseglet, Det) (1957)', 649: 'Glory (1989)', 650: 'Rosencrantz and Guildenstern Are Dead (1990)', 651: 'Touch of Evil (1958)', 652: 'Chinatown (1974)', 653: 'Stand by Me (1986)', 654: 'M (1931)', 655: 'Manchurian Candidate, The (1962)', 656: 'Pump Up the Volume (1990)', 657: 'Arsenic and Old Lace (1944)', 658: 'Fried Green Tomatoes (1991)', 659: 'High Noon (1952)', 660: 'Somewhere in Time (1980)', 661: 'Being There (1979)', 662: 'Paris, Texas (1984)', 663: 'Alien 3 (1992)', 664: \"Blood For Dracula (Andy Warhol's Dracula) (1974)\", 665: 'Audrey Rose (1977)', 666: 'Blood Beach (1981)', 667: 'Body Parts (1991)', 668: 'Body Snatchers (1993)', 669: 'Bride of Frankenstein (1935)', 670: 'Candyman (1992)', 671: 'Cape Fear (1962)', 672: 'Cat People (1982)', 673: 'Nosferatu (Nosferatu, eine Symphonie des Grauens) (1922)', 674: 'Crucible, The (1996)', 675: 'Fire on the Mountain (1996)', 676: 'Volcano (1997)', 677: 'Conan the Barbarian (1981)', 678: 'Kull the Conqueror (1997)', 679: 'Wishmaster (1997)', 680: 'I Know What You Did Last Summer (1997)', 681: 'Rocket Man (1997)', 682: 'In the Line of Fire (1993)', 683: 'Executive Decision (1996)', 684: 'Perfect World, A (1993)', 685: \"McHale's Navy (1997)\", 686: 'Leave It to Beaver (1997)', 687: 'Jackal, The (1997)', 688: 'Seven Years in Tibet (1997)', 689: 'Dark City (1998)', 690: 'American President, The (1995)', 691: 'Casino (1995)', 692: 'Persuasion (1995)', 693: 'Kicking and Screaming (1995)', 694: 'City Hall (1996)', 695: 'Basketball Diaries, The (1995)', 696: 'Browning Version, The (1994)', 697: 'Little Women (1994)', 698: 'Miami Rhapsody (1995)', 699: 'Wonderful, Horrible Life of Leni Riefenstahl, The (1993)', 700: 'Barcelona (1994)', 701: \"Widows' Peak (1994)\", 702: 'House of the Spirits, The (1993)', 703: \"Singin' in the Rain (1952)\", 704: 'Bad Moon (1996)', 705: 'Enchanted April (1991)', 706: 'Sex, Lies, and Videotape (1989)', 707: 'Strictly Ballroom (1992)', 708: 'Better Off Dead... (1985)', 709: 'Substance of Fire, The (1996)', 710: 'Tin Men (1987)', 711: 'Othello (1995)', 712: 'Carrington (1995)', 713: 'To Die For (1995)', 714: 'Home for the Holidays (1995)', 715: 'Juror, The (1996)', 716: 'In the Bleak Midwinter (1995)', 717: 'Canadian Bacon (1994)', 718: 'First Knight (1995)', 719: 'Mallrats (1995)', 720: 'Nine Months (1995)', 721: 'Boys on the Side (1995)', 722: 'Circle of Friends (1995)', 723: 'Exit to Eden (1994)', 724: 'Fluke (1995)', 725: 'Immortal Beloved (1994)', 726: 'Junior (1994)', 727: 'Nell (1994)', 728: 'Queen Margot (Reine Margot, La) (1994)', 729: 'Corrina, Corrina (1994)', 730: 'Dave (1993)', 731: 'Go Fish (1994)', 732: 'Made in America (1993)', 733: 'Philadelphia (1993)', 734: 'Shadowlands (1993)', 735: 'Sirens (1994)', 736: 'Threesome (1994)', 737: 'Pretty Woman (1990)', 738: 'Jane Eyre (1996)', 739: 'Last Supper, The (1995)', 740: 'Ransom (1996)', 741: 'Crow: City of Angels, The (1996)', 742: 'Michael Collins (1996)', 743: 'Ruling Class, The (1972)', 744: 'Real Genius (1985)', 745: 'Benny & Joon (1993)', 746: 'Saint, The (1997)', 747: 'MatchMaker, The (1997)', 748: 'Amistad (1997)', 749: 'Tomorrow Never Dies (1997)', 750: 'Replacement Killers, The (1998)', 751: 'Burnt By the Sun (1994)', 752: 'Red Corner (1997)', 753: 'Jumanji (1995)', 754: 'Father of the Bride Part II (1995)', 755: 'Across the Sea of Time (1995)', 756: 'Lawnmower Man 2: Beyond Cyberspace (1996)', 757: 'Fair Game (1995)', 758: 'Screamers (1995)', 759: 'Nick of Time (1995)', 760: 'Beautiful Girls (1996)', 761: 'Happy Gilmore (1996)', 762: 'If Lucy Fell (1996)', 763: 'Boomerang (1992)', 764: 'Man of the Year (1995)', 765: 'Addiction, The (1995)', 766: 'Casper (1995)', 767: 'Congo (1995)', 768: 'Devil in a Blue Dress (1995)', 769: 'Johnny Mnemonic (1995)', 770: 'Kids (1995)', 771: 'Mute Witness (1994)', 772: 'Prophecy, The (1995)', 773: 'Something to Talk About (1995)', 774: 'Three Wishes (1995)', 775: 'Castle Freak (1995)', 776: 'Don Juan DeMarco (1995)', 777: 'Drop Zone (1994)', 778: 'Dumb & Dumber (1994)', 779: 'French Kiss (1995)', 780: 'Little Odessa (1994)', 781: 'Milk Money (1994)', 782: 'Beyond Bedlam (1993)', 783: 'Only You (1994)', 784: 'Perez Family, The (1995)', 785: 'Roommates (1995)', 786: 'Relative Fear (1994)', 787: 'Swimming with Sharks (1995)', 788: 'Tommy Boy (1995)', 789: 'Baby-Sitters Club, The (1995)', 790: 'Bullets Over Broadway (1994)', 791: 'Crooklyn (1994)', 792: 'It Could Happen to You (1994)', 793: 'Richie Rich (1994)', 794: 'Speechless (1994)', 795: 'Timecop (1994)', 796: 'Bad Company (1995)', 797: 'Boys Life (1995)', 798: 'In the Mouth of Madness (1995)', 799: 'Air Up There, The (1994)', 800: 'Hard Target (1993)', 801: 'Heaven & Earth (1993)', 802: 'Jimmy Hollywood (1994)', 803: 'Manhattan Murder Mystery (1993)', 804: 'Menace II Society (1993)', 805: 'Poetic Justice (1993)', 806: 'Program, The (1993)', 807: 'Rising Sun (1993)', 808: 'Shadow, The (1994)', 809: 'Thirty-Two Short Films About Glenn Gould (1993)', 810: 'Andre (1994)', 811: 'Celluloid Closet, The (1995)', 812: 'Great Day in Harlem, A (1994)', 813: 'One Fine Day (1996)', 814: 'Candyman: Farewell to the Flesh (1995)', 815: 'Frisk (1995)', 816: 'Girl 6 (1996)', 817: 'Eddie (1996)', 818: 'Space Jam (1996)', 819: 'Mrs. Winterbourne (1996)', 820: 'Faces (1968)', 821: 'Mulholland Falls (1996)', 822: 'Great White Hype, The (1996)', 823: 'Arrival, The (1996)', 824: 'Phantom, The (1996)', 825: 'Daylight (1996)', 826: 'Alaska (1996)', 827: 'Fled (1996)', 828: 'Power 98 (1995)', 829: 'Escape from L.A. (1996)', 830: 'Bogus (1996)', 831: 'Bulletproof (1996)', 832: 'Halloween: The Curse of Michael Myers (1995)', 833: 'Gay Divorcee, The (1934)', 834: 'Ninotchka (1939)', 835: 'Meet John Doe (1941)', 836: 'In the Line of Duty 2 (1987)', 837: 'Loch Ness (1995)', 838: 'Last Man Standing (1996)', 839: 'Glimmer Man, The (1996)', 840: 'Pollyanna (1960)', 841: 'Shaggy Dog, The (1959)', 842: 'Freeway (1996)', 843: 'That Thing You Do! (1996)', 844: 'To Gillian on Her 37th Birthday (1996)', 845: 'Looking for Richard (1996)', 846: 'Murder, My Sweet (1944)', 847: 'Days of Thunder (1990)', 848: 'Perfect Candidate, A (1996)', 849: 'Two or Three Things I Know About Her (1966)', 850: 'Bloody Child, The (1996)', 851: 'Braindead (1992)', 852: 'Bad Taste (1987)', 853: 'Diva (1981)', 854: 'Night on Earth (1991)', 855: 'Paris Was a Woman (1995)', 856: 'Amityville: Dollhouse (1996)', 857: \"April Fool's Day (1986)\", 858: 'Believers, The (1987)', 859: 'Nosferatu a Venezia (1986)', 860: 'Jingle All the Way (1996)', 861: 'Garden of Finzi-Contini, The (Giardino dei Finzi-Contini, Il) (1970)', 862: 'My Fellow Americans (1996)', 863: 'Ice Storm, The (1997)', 864: 'Michael (1996)', 865: 'Whole Wide World, The (1996)', 866: 'Hearts and Minds (1996)', 867: 'Fools Rush In (1997)', 868: 'Touch (1997)', 869: 'Vegas Vacation (1997)', 870: 'Love Jones (1997)', 871: 'Picture Perfect (1997)', 872: 'Career Girls (1997)', 873: \"She's So Lovely (1997)\", 874: 'Money Talks (1997)', 875: 'Excess Baggage (1997)', 876: 'That Darn Cat! (1997)', 877: 'Peacemaker, The (1997)', 878: 'Soul Food (1997)', 879: 'Money Talks (1997)', 880: 'Washington Square (1997)', 881: 'Telling Lies in America (1997)', 882: 'Year of the Horse (1997)', 883: 'Phantoms (1998)', 884: 'Life Less Ordinary, A (1997)', 885: \"Eve's Bayou (1997)\", 886: 'One Night Stand (1997)', 887: 'Tango Lesson, The (1997)', 888: 'Mortal Kombat: Annihilation (1997)', 889: 'Bent (1997)', 890: 'Flubber (1997)', 891: 'For Richer or Poorer (1997)', 892: 'Home Alone 3 (1997)', 893: 'Scream 2 (1997)', 894: 'Sweet Hereafter, The (1997)', 895: 'Time Tracers (1995)', 896: 'Postman, The (1997)', 897: 'Winter Guest, The (1997)', 898: 'Kundun (1997)', 899: 'Mr. Magoo (1997)', 900: 'Big Lebowski, The (1998)', 901: 'Afterglow (1997)', 902: 'Ma vie en rose (My Life in Pink) (1997)', 903: 'Great Expectations (1998)', 904: 'Oscar & Lucinda (1997)', 905: 'Vermin (1998)', 906: 'Half Baked (1998)', 907: 'Dangerous Beauty (1998)', 908: 'Nil By Mouth (1997)', 909: 'Twilight (1998)', 910: 'U.S. Marshalls (1998)', 911: 'Love and Death on Long Island (1997)', 912: 'Wild Things (1998)', 913: 'Primary Colors (1998)', 914: 'Lost in Space (1998)', 915: 'Mercury Rising (1998)', 916: 'City of Angels (1998)', 917: 'City of Lost Children, The (1995)', 918: 'Two Bits (1995)', 919: 'Farewell My Concubine (1993)', 920: 'Dead Man (1995)', 921: 'Raise the Red Lantern (1991)', 922: 'White Squall (1996)', 923: 'Unforgettable (1996)', 924: 'Down Periscope (1996)', 925: 'Flower of My Secret, The (Flor de mi secreto, La) (1995)', 926: 'Craft, The (1996)', 927: 'Harriet the Spy (1996)', 928: 'Chain Reaction (1996)', 929: 'Island of Dr. Moreau, The (1996)', 930: 'First Kid (1996)', 931: 'Funeral, The (1996)', 932: \"Preacher's Wife, The (1996)\", 933: 'Paradise Road (1997)', 934: 'Brassed Off (1996)', 935: 'Thousand Acres, A (1997)', 936: 'Smile Like Yours, A (1997)', 937: 'Murder in the First (1995)', 938: 'Airheads (1994)', 939: 'With Honors (1994)', 940: \"What's Love Got to Do with It (1993)\", 941: 'Killing Zoe (1994)', 942: 'Renaissance Man (1994)', 943: 'Charade (1963)', 944: 'Fox and the Hound, The (1981)', 945: 'Big Blue, The (Grand bleu, Le) (1988)', 946: 'Booty Call (1997)', 947: 'How to Make an American Quilt (1995)', 948: 'Georgia (1995)', 949: 'Indian in the Cupboard, The (1995)', 950: 'Blue in the Face (1995)', 951: 'Unstrung Heroes (1995)', 952: 'Unzipped (1995)', 953: 'Before Sunrise (1995)', 954: \"Nobody's Fool (1994)\", 955: 'Pushing Hands (1992)', 956: 'To Live (Huozhe) (1994)', 957: 'Dazed and Confused (1993)', 958: 'Naked (1993)', 959: 'Orlando (1993)', 960: 'Ruby in Paradise (1993)', 961: 'Some Folks Call It a Sling Blade (1993)', 962: 'Month by the Lake, A (1995)', 963: 'Funny Face (1957)', 964: 'Affair to Remember, An (1957)', 965: 'Little Lord Fauntleroy (1936)', 966: 'Inspector General, The (1949)', 967: 'Winnie the Pooh and the Blustery Day (1968)', 968: 'Hear My Song (1991)', 969: 'Mediterraneo (1991)', 970: 'Passion Fish (1992)', 971: 'Grateful Dead (1995)', 972: 'Eye for an Eye (1996)', 973: 'Fear (1996)', 974: 'Solo (1996)', 975: 'Substitute, The (1996)', 976: \"Heaven's Prisoners (1996)\", 977: 'Trigger Effect, The (1996)', 978: 'Mother Night (1996)', 979: 'Dangerous Ground (1997)', 980: 'Maximum Risk (1996)', 981: \"Rich Man's Wife, The (1996)\", 982: 'Shadow Conspiracy (1997)', 983: 'Blood & Wine (1997)', 984: 'Turbulence (1997)', 985: 'Underworld (1997)', 986: 'Beautician and the Beast, The (1997)', 987: \"Cats Don't Dance (1997)\", 988: 'Anna Karenina (1997)', 989: 'Keys to Tulsa (1997)', 990: 'Head Above Water (1996)', 991: 'Hercules (1997)', 992: 'Last Time I Committed Suicide, The (1997)', 993: 'Kiss Me, Guido (1997)', 994: 'Big Green, The (1995)', 995: 'Stuart Saves His Family (1995)', 996: 'Cabin Boy (1994)', 997: 'Clean Slate (1994)', 998: 'Lightning Jack (1994)', 999: 'Stupids, The (1996)', 1000: 'Pest, The (1997)', 1001: 'That Darn Cat! (1997)', 1002: 'Geronimo: An American Legend (1993)', 1003: 'Double vie de Véronique, La (Double Life of Veronique, The) (1991)', 1004: 'Until the End of the World (Bis ans Ende der Welt) (1991)', 1005: 'Waiting for Guffman (1996)', 1006: 'I Shot Andy Warhol (1996)', 1007: 'Stealing Beauty (1996)', 1008: 'Basquiat (1996)', 1009: '2 Days in the Valley (1996)', 1010: 'Private Parts (1997)', 1011: 'Anaconda (1997)', 1012: \"Romy and Michele's High School Reunion (1997)\", 1013: 'Shiloh (1997)', 1014: 'Con Air (1997)', 1015: 'Trees Lounge (1996)', 1016: 'Tie Me Up! Tie Me Down! (1990)', 1017: 'Die xue shuang xiong (Killer, The) (1989)', 1018: 'Gaslight (1944)', 1019: '8 1/2 (1963)', 1020: 'Fast, Cheap & Out of Control (1997)', 1021: \"Fathers' Day (1997)\", 1022: 'Mrs. Dalloway (1997)', 1023: 'Fire Down Below (1997)', 1024: 'Lay of the Land, The (1997)', 1025: 'Shooter, The (1995)', 1026: 'Grumpier Old Men (1995)', 1027: 'Jury Duty (1995)', 1028: 'Beverly Hillbillies, The (1993)', 1029: 'Lassie (1994)', 1030: 'Little Big League (1994)', 1031: 'Homeward Bound II: Lost in San Francisco (1996)', 1032: 'Quest, The (1996)', 1033: 'Cool Runnings (1993)', 1034: 'Drop Dead Fred (1991)', 1035: 'Grease 2 (1982)', 1036: 'Switchback (1997)', 1037: 'Hamlet (1996)', 1038: 'Two if by Sea (1996)', 1039: 'Forget Paris (1995)', 1040: 'Just Cause (1995)', 1041: 'Rent-a-Kid (1995)', 1042: 'Paper, The (1994)', 1043: 'Fearless (1993)', 1044: 'Malice (1993)', 1045: 'Multiplicity (1996)', 1046: \"She's the One (1996)\", 1047: 'House Arrest (1996)', 1048: 'Ghost and Mrs. Muir, The (1947)', 1049: 'Associate, The (1996)', 1050: 'Dracula: Dead and Loving It (1995)', 1051: 'Now and Then (1995)', 1052: 'Mr. Wrong (1996)', 1053: 'Simple Twist of Fate, A (1994)', 1054: 'Cronos (1992)', 1055: 'Pallbearer, The (1996)', 1056: 'War, The (1994)', 1057: \"Don't Be a Menace to South Central While Drinking Your Juice in the Hood (1996)\", 1058: 'Adventures of Pinocchio, The (1996)', 1059: 'Evening Star, The (1996)', 1060: 'Four Days in September (1997)', 1061: 'Little Princess, A (1995)', 1062: 'Crossfire (1947)', 1063: 'Koyaanisqatsi (1983)', 1064: 'Balto (1995)', 1065: 'Bottle Rocket (1996)', 1066: \"Star Maker, The (Uomo delle stelle, L') (1995)\", 1067: 'Amateur (1994)', 1068: 'Living in Oblivion (1995)', 1069: 'Party Girl (1995)', 1070: \"Pyromaniac's Love Story, A (1995)\", 1071: 'Shallow Grave (1994)', 1072: 'Reality Bites (1994)', 1073: 'Man of No Importance, A (1994)', 1074: 'Pagemaster, The (1994)', 1075: 'Love and a .45 (1994)', 1076: 'Oliver & Company (1988)', 1077: \"Joe's Apartment (1996)\", 1078: 'Celestial Clockwork (1994)', 1079: 'Curdled (1996)', 1080: 'Female Perversions (1996)', 1081: 'Albino Alligator (1996)', 1082: 'Anne Frank Remembered (1995)', 1083: 'Carried Away (1996)', 1084: \"It's My Party (1995)\", 1085: 'Bloodsport 2 (1995)', 1086: 'Double Team (1997)', 1087: 'Speed 2: Cruise Control (1997)', 1088: 'Sliver (1993)', 1089: \"Pete's Dragon (1977)\", 1090: 'Dear God (1996)', 1091: 'Live Nude Girls (1995)', 1092: 'Thin Line Between Love and Hate, A (1996)', 1093: 'High School High (1996)', 1094: 'Commandments (1997)', 1095: 'Hate (Haine, La) (1995)', 1096: 'Flirting With Disaster (1996)', 1097: 'Red Firecracker, Green Firecracker (1994)', 1098: 'What Happened Was... (1994)', 1099: 'Six Degrees of Separation (1993)', 1100: 'Two Much (1996)', 1101: 'Trust (1990)', 1102: \"C'est arrivé près de chez vous (1992)\", 1103: 'Firestorm (1998)', 1104: 'Newton Boys, The (1998)', 1105: 'Beyond Rangoon (1995)', 1106: 'Feast of July (1995)', 1107: 'Death and the Maiden (1994)', 1108: 'Tank Girl (1995)', 1109: 'Double Happiness (1994)', 1110: 'Cobb (1994)', 1111: 'Mrs. Parker and the Vicious Circle (1994)', 1112: 'Faithful (1996)', 1113: 'Twelfth Night (1996)', 1114: 'Mark of Zorro, The (1940)', 1115: 'Surviving Picasso (1996)', 1116: 'Up in Smoke (1978)', 1117: 'Some Kind of Wonderful (1987)', 1118: \"I'm Not Rappaport (1996)\", 1119: 'Umbrellas of Cherbourg, The (Parapluies de Cherbourg, Les) (1964)', 1120: 'They Made Me a Criminal (1939)', 1121: 'Last Time I Saw Paris, The (1954)', 1122: 'Farewell to Arms, A (1932)', 1123: 'Innocents, The (1961)', 1124: 'Old Man and the Sea, The (1958)', 1125: 'Truman Show, The (1998)', 1126: 'Heidi Fleiss: Hollywood Madam (1995) ', 1127: 'Chungking Express (1994)', 1128: \"Jupiter's Wife (1994)\", 1129: 'Safe (1995)', 1130: 'Feeling Minnesota (1996)', 1131: 'Escape to Witch Mountain (1975)', 1132: 'Get on the Bus (1996)', 1133: 'Doors, The (1991)', 1134: 'Ghosts of Mississippi (1996)', 1135: 'Beautiful Thing (1996)', 1136: 'Best Men (1997)', 1137: 'Hackers (1995)', 1138: 'Road to Wellville, The (1994)', 1139: 'War Room, The (1993)', 1140: 'When We Were Kings (1996)', 1141: 'Hard Eight (1996)', 1142: 'Quiet Room, The (1996)', 1143: 'Blue Chips (1994)', 1144: 'Calendar Girl (1993)', 1145: 'My Family (1995)', 1146: 'Tom & Viv (1994)', 1147: 'Walkabout (1971)', 1148: 'Last Dance (1996)', 1149: 'Original Gangstas (1996)', 1150: 'In Love and War (1996)', 1151: 'Backbeat (1993)', 1152: 'Alphaville (1965)', 1153: 'Rendezvous in Paris (Rendez-vous de Paris, Les) (1995)', 1154: 'Cyclo (1995)', 1155: 'Relic, The (1997)', 1156: 'Fille seule, La (A Single Girl) (1995)', 1157: 'Stalker (1979)', 1158: 'Love! Valour! Compassion! (1997)', 1159: 'Palookaville (1996)', 1160: 'Phat Beach (1996)', 1161: 'Portrait of a Lady, The (1996)', 1162: 'Zeus and Roxanne (1997)', 1163: 'Big Bully (1996)', 1164: 'Love & Human Remains (1993)', 1165: 'Sum of Us, The (1994)', 1166: 'Little Buddha (1993)', 1167: 'Fresh (1994)', 1168: 'Spanking the Monkey (1994)', 1169: 'Wild Reeds (1994)', 1170: 'Women, The (1939)', 1171: 'Bliss (1997)', 1172: 'Caught (1996)', 1173: 'Hugo Pool (1997)', 1174: 'Welcome To Sarajevo (1997)', 1175: 'Dunston Checks In (1996)', 1176: 'Major Payne (1994)', 1177: 'Man of the House (1995)', 1178: 'I Love Trouble (1994)', 1179: 'Low Down Dirty Shame, A (1994)', 1180: 'Cops and Robbersons (1994)', 1181: 'Cowboy Way, The (1994)', 1182: 'Endless Summer 2, The (1994)', 1183: 'In the Army Now (1994)', 1184: 'Inkwell, The (1994)', 1185: 'Switchblade Sisters (1975)', 1186: 'Young Guns II (1990)', 1187: 'Prefontaine (1997)', 1188: 'That Old Feeling (1997)', 1189: 'Letter From Death Row, A (1998)', 1190: 'Boys of St. Vincent, The (1993)', 1191: 'Before the Rain (Pred dozhdot) (1994)', 1192: 'Once Were Warriors (1994)', 1193: 'Strawberry and Chocolate (Fresa y chocolate) (1993)', 1194: 'Savage Nights (Nuits fauves, Les) (1992)', 1195: 'Family Thing, A (1996)', 1196: 'Purple Noon (1960)', 1197: 'Cemetery Man (Dellamorte Dellamore) (1994)', 1198: 'Kim (1950)', 1199: 'Marlene Dietrich: Shadow and Light (1996) ', 1200: 'Maybe, Maybe Not (Bewegte Mann, Der) (1994)', 1201: 'Top Hat (1935)', 1202: 'To Be or Not to Be (1942)', 1203: 'Secret Agent, The (1996)', 1204: 'Amos & Andrew (1993)', 1205: 'Jade (1995)', 1206: 'Kiss of Death (1995)', 1207: 'Mixed Nuts (1994)', 1208: 'Virtuosity (1995)', 1209: 'Blue Sky (1994)', 1210: 'Flesh and Bone (1993)', 1211: 'Guilty as Sin (1993)', 1212: 'In the Realm of the Senses (Ai no corrida) (1976)', 1213: 'Barb Wire (1996)', 1214: 'Kissed (1996)', 1215: 'Assassins (1995)', 1216: 'Friday (1995)', 1217: 'Goofy Movie, A (1995)', 1218: 'Higher Learning (1995)', 1219: 'When a Man Loves a Woman (1994)', 1220: 'Judgment Night (1993)', 1221: 'King of the Hill (1993)', 1222: 'Scout, The (1994)', 1223: 'Angus (1995)', 1224: 'Night Falls on Manhattan (1997)', 1225: 'Awfully Big Adventure, An (1995)', 1226: 'Under Siege 2: Dark Territory (1995)', 1227: 'Poison Ivy II (1995)', 1228: 'Ready to Wear (Pret-A-Porter) (1994)', 1229: 'Marked for Death (1990)', 1230: 'Madonna: Truth or Dare (1991)', 1231: 'Nénette et Boni (1996)', 1232: 'Chairman of the Board (1998)', 1233: 'Big Bang Theory, The (1994)', 1234: 'Other Voices, Other Rooms (1997)', 1235: 'Twisted (1996)', 1236: 'Full Speed (1996)', 1237: 'Cutthroat Island (1995)', 1238: 'Ghost in the Shell (Kokaku kidotai) (1995)', 1239: 'Van, The (1996)', 1240: 'Old Lady Who Walked in the Sea, The (Vieille qui marchait dans la mer, La) (1991)', 1241: 'Night Flier (1997)', 1242: 'Metro (1997)', 1243: \"Gridlock'd (1997)\", 1244: 'Bushwhacked (1995)', 1245: 'Bad Girls (1994)', 1246: 'Blink (1994)', 1247: 'For Love or Money (1993)', 1248: 'Best of the Best 3: No Turning Back (1995)', 1249: 'A Chef in Love (1996)', 1250: 'Contempt (Mépris, Le) (1963)', 1251: 'Tie That Binds, The (1995)', 1252: \"Gone Fishin' (1997)\", 1253: 'Broken English (1996)', 1254: 'Designated Mourner, The (1997)', 1255: 'Designated Mourner, The (1997)', 1256: 'Trial and Error (1997)', 1257: 'Pie in the Sky (1995)', 1258: 'Total Eclipse (1995)', 1259: 'Run of the Country, The (1995)', 1260: 'Walking and Talking (1996)', 1261: 'Foxfire (1996)', 1262: 'Nothing to Lose (1994)', 1263: 'Star Maps (1997)', 1264: 'Bread and Chocolate (Pane e cioccolata) (1973)', 1265: 'Clockers (1995)', 1266: 'Bitter Moon (1992)', 1267: 'Love in the Afternoon (1957)', 1268: 'Life with Mikey (1993)', 1269: 'North (1994)', 1270: 'Talking About Sex (1994)', 1271: 'Color of Night (1994)', 1272: 'Robocop 3 (1993)', 1273: 'Killer (Bulletproof Heart) (1994)', 1274: 'Sunset Park (1996)', 1275: 'Set It Off (1996)', 1276: 'Selena (1997)', 1277: 'Wild America (1997)', 1278: 'Gang Related (1997)', 1279: 'Manny & Lo (1996)', 1280: 'Grass Harp, The (1995)', 1281: 'Out to Sea (1997)', 1282: 'Before and After (1996)', 1283: 'Princess Caraboo (1994)', 1284: 'Shall We Dance? (1937)', 1285: 'Ed (1996)', 1286: 'Denise Calls Up (1995)', 1287: 'Jack and Sarah (1995)', 1288: 'Country Life (1994)', 1289: 'Celtic Pride (1996)', 1290: 'Simple Wish, A (1997)', 1291: 'Star Kid (1997)', 1292: 'Ayn Rand: A Sense of Life (1997)', 1293: 'Kicked in the Head (1997)', 1294: 'Indian Summer (1996)', 1295: 'Love Affair (1994)', 1296: 'Band Wagon, The (1953)', 1297: 'Penny Serenade (1941)', 1298: \"'Til There Was You (1997)\", 1299: 'Stripes (1981)', 1300: 'Late Bloomers (1996)', 1301: 'Getaway, The (1994)', 1302: 'New York Cop (1996)', 1303: \"National Lampoon's Senior Trip (1995)\", 1304: 'Delta of Venus (1994)', 1305: 'Carmen Miranda: Bananas Is My Business (1994)', 1306: 'Babyfever (1994)', 1307: 'Very Natural Thing, A (1974)', 1308: 'Walk in the Sun, A (1945)', 1309: 'Waiting to Exhale (1995)', 1310: 'Pompatus of Love, The (1996)', 1311: 'Palmetto (1998)', 1312: 'Surviving the Game (1994)', 1313: 'Inventing the Abbotts (1997)', 1314: 'Horse Whisperer, The (1998)', 1315: 'Journey of August King, The (1995)', 1316: 'Catwalk (1995)', 1317: 'Neon Bible, The (1995)', 1318: 'Homage (1995)', 1319: 'Open Season (1996)', 1320: 'Metisse (Café au Lait) (1993)', 1321: \"Wooden Man's Bride, The (Wu Kui) (1994)\", 1322: 'Loaded (1994)', 1323: 'August (1996)', 1324: 'Boys (1996)', 1325: 'Captives (1994)', 1326: 'Of Love and Shadows (1994)', 1327: 'Low Life, The (1994)', 1328: 'An Unforgettable Summer (1994)', 1329: 'Last Klezmer: Leopold Kozlowski, His Life and Music, The (1995)', 1330: \"My Life and Times With Antonin Artaud (En compagnie d'Antonin Artaud) (1993)\", 1331: 'Midnight Dancers (Sibak) (1994)', 1332: 'Somebody to Love (1994)', 1333: 'American Buffalo (1996)', 1334: 'Kazaam (1996)', 1335: 'Larger Than Life (1996)', 1336: 'Two Deaths (1995)', 1337: 'Stefano Quantestorie (1993)', 1338: 'Crude Oasis, The (1995)', 1339: 'Hedd Wyn (1992)', 1340: 'Convent, The (Convento, O) (1995)', 1341: 'Lotto Land (1995)', 1342: 'Story of Xinghua, The (1993)', 1343: 'Day the Sun Turned Cold, The (Tianguo niezi) (1994)', 1344: 'Dingo (1992)', 1345: 'Ballad of Narayama, The (Narayama Bushiko) (1958)', 1346: 'Every Other Weekend (1990)', 1347: 'Mille bolle blu (1993)', 1348: 'Crows and Sparrows (1949)', 1349: \"Lover's Knot (1996)\", 1350: 'Shadow of Angels (Schatten der Engel) (1976)', 1351: '1-900 (1994)', 1352: 'Venice/Venice (1992)', 1353: 'Infinity (1996)', 1354: \"Ed's Next Move (1996)\", 1355: 'For the Moment (1994)', 1356: 'The Deadly Cure (1996)', 1357: 'Boys in Venice (1996)', 1358: 'Sexual Life of the Belgians, The (1994)', 1359: 'Search for One-eye Jimmy, The (1996)', 1360: 'American Strays (1996)', 1361: 'Leopard Son, The (1996)', 1362: 'Bird of Prey (1996)', 1363: 'Johnny 100 Pesos (1993)', 1364: 'JLG/JLG - autoportrait de décembre (1994)', 1365: 'Faust (1994)', 1366: 'Mina Tannenbaum (1994)', 1367: 'Forbidden Christ, The (Cristo proibito, Il) (1950)', 1368: \"I Can't Sleep (J'ai pas sommeil) (1994)\", 1369: 'Machine, The (1994)', 1370: 'Stranger, The (1994)', 1371: 'Good Morning (1971)', 1372: 'Falling in Love Again (1980)', 1373: 'Cement Garden, The (1993)', 1374: 'Meet Wally Sparks (1997)', 1375: 'Hotel de Love (1996)', 1376: 'Rhyme & Reason (1997)', 1377: 'Love and Other Catastrophes (1996)', 1378: 'Hollow Reed (1996)', 1379: 'Losing Chase (1996)', 1380: 'Bonheur, Le (1965)', 1381: 'Second Jungle Book: Mowgli & Baloo, The (1997)', 1382: 'Squeeze (1996)', 1383: \"Roseanna's Grave (For Roseanna) (1997)\", 1384: 'Tetsuo II: Body Hammer (1992)', 1385: 'Fall (1997)', 1386: 'Gabbeh (1996)', 1387: 'Mondo (1996)', 1388: 'Innocent Sleep, The (1995)', 1389: 'For Ever Mozart (1996)', 1390: 'Locusts, The (1997)', 1391: 'Stag (1997)', 1392: 'Swept from the Sea (1997)', 1393: 'Hurricane Streets (1998)', 1394: 'Stonewall (1995)', 1395: 'Of Human Bondage (1934)', 1396: 'Anna (1996)', 1397: 'Stranger in the House (1997)', 1398: 'Picture Bride (1995)', 1399: 'M. Butterfly (1993)', 1400: 'Ciao, Professore! (1993)', 1401: 'Caro Diario (Dear Diary) (1994)', 1402: 'Withnail and I (1987)', 1403: \"Boy's Life 2 (1997)\", 1404: 'When Night Is Falling (1995)', 1405: 'Specialist, The (1994)', 1406: 'Gordy (1995)', 1407: 'Swan Princess, The (1994)', 1408: 'Harlem (1993)', 1409: 'Barbarella (1968)', 1410: 'Land Before Time III: The Time of the Great Giving (1995) (V)', 1411: 'Street Fighter (1994)', 1412: 'Coldblooded (1995)', 1413: 'Next Karate Kid, The (1994)', 1414: 'No Escape (1994)', 1415: 'Turning, The (1992)', 1416: 'Joy Luck Club, The (1993)', 1417: 'Highlander III: The Sorcerer (1994)', 1418: \"Gilligan's Island: The Movie (1998)\", 1419: 'My Crazy Life (Mi vida loca) (1993)', 1420: 'Suture (1993)', 1421: 'Walking Dead, The (1995)', 1422: 'I Like It Like That (1994)', 1423: \"I'll Do Anything (1994)\", 1424: 'Grace of My Heart (1996)', 1425: 'Drunks (1995)', 1426: 'SubUrbia (1997)', 1427: 'Sliding Doors (1998)', 1428: 'Ill Gotten Gains (1997)', 1429: 'Legal Deceit (1997)', 1430: 'Mighty, The (1998)', 1431: 'Men of Means (1998)', 1432: 'Shooting Fish (1997)', 1433: 'Steal Big, Steal Little (1995)', 1434: 'Mr. Jones (1993)', 1435: 'House Party 3 (1994)', 1436: 'Panther (1995)', 1437: \"Jason's Lyric (1994)\", 1438: 'Above the Rim (1994)', 1439: 'Moonlight and Valentino (1995)', 1440: 'Scarlet Letter, The (1995)', 1441: '8 Seconds (1994)', 1442: 'That Darn Cat! (1965)', 1443: 'Ladybird Ladybird (1994)', 1444: 'Bye Bye, Love (1995)', 1445: 'Century (1993)', 1446: 'My Favorite Season (1993)', 1447: 'Pather Panchali (1955)', 1448: 'Golden Earrings (1947)', 1449: 'Foreign Correspondent (1940)', 1450: 'Lady of Burlesque (1943)', 1451: 'Angel on My Shoulder (1946)', 1452: 'Angel and the Badman (1947)', 1453: 'Outlaw, The (1943)', 1454: 'Beat the Devil (1954)', 1455: 'Love Is All There Is (1996)', 1456: 'Damsel in Distress, A (1937)', 1457: 'Madame Butterfly (1995)', 1458: 'Sleepover (1995)', 1459: 'Here Comes Cookie (1935)', 1460: 'Thieves (Voleurs, Les) (1996)', 1461: 'Boys, Les (1997)', 1462: 'Stars Fell on Henrietta, The (1995)', 1463: 'Last Summer in the Hamptons (1995)', 1464: \"Margaret's Museum (1995)\", 1465: 'Saint of Fort Washington, The (1993)', 1466: 'Cure, The (1995)', 1467: 'Tom and Huck (1995)', 1468: 'Gumby: The Movie (1995)', 1469: 'Hideaway (1995)', 1470: 'Visitors, The (Visiteurs, Les) (1993)', 1471: 'Little Princess, The (1939)', 1472: 'Nina Takes a Lover (1994)', 1473: 'Bhaji on the Beach (1993)', 1474: 'Raw Deal (1948)', 1475: 'Nightwatch (1997)', 1476: 'Dead Presidents (1995)', 1477: 'Reckless (1995)', 1478: 'Herbie Rides Again (1974)', 1479: 'S.F.W. (1994)', 1480: 'Gate of Heavenly Peace, The (1995)', 1481: 'Man in the Iron Mask, The (1998)', 1482: 'Jerky Boys, The (1994)', 1483: 'Colonel Chabert, Le (1994)', 1484: 'Girl in the Cadillac (1995)', 1485: 'Even Cowgirls Get the Blues (1993)', 1486: 'Germinal (1993)', 1487: 'Chasers (1994)', 1488: 'Fausto (1993)', 1489: 'Tough and Deadly (1995)', 1490: 'Window to Paris (1994)', 1491: 'Modern Affair, A (1995)', 1492: 'Mostro, Il (1994)', 1493: 'Flirt (1995)', 1494: 'Carpool (1996)', 1495: 'Line King: Al Hirschfeld, The (1996)', 1496: 'Farmer & Chase (1995)', 1497: 'Grosse Fatigue (1994)', 1498: 'Santa with Muscles (1996)', 1499: 'Prisoner of the Mountains (Kavkazsky Plennik) (1996)', 1500: 'Naked in New York (1994)', 1501: 'Gold Diggers: The Secret of Bear Mountain (1995)', 1502: 'Bewegte Mann, Der (1994)', 1503: 'Killer: A Journal of Murder (1995)', 1504: 'Nelly & Monsieur Arnaud (1995)', 1505: 'Three Lives and Only One Death (1996)', 1506: 'Babysitter, The (1995)', 1507: 'Getting Even with Dad (1994)', 1508: 'Mad Dog Time (1996)', 1509: 'Children of the Revolution (1996)', 1510: 'World of Apu, The (Apur Sansar) (1959)', 1511: 'Sprung (1997)', 1512: 'Dream With the Fishes (1997)', 1513: 'Wings of Courage (1995)', 1514: 'Wedding Gift, The (1994)', 1515: 'Race the Sun (1996)', 1516: 'Losing Isaiah (1995)', 1517: 'New Jersey Drive (1995)', 1518: 'Fear, The (1995)', 1519: 'Mr. Wonderful (1993)', 1520: 'Trial by Jury (1994)', 1521: 'Good Man in Africa, A (1994)', 1522: 'Kaspar Hauser (1993)', 1523: 'Object of My Affection, The (1998)', 1524: 'Witness (1985)', 1525: 'Senseless (1998)', 1526: 'Nowhere (1997)', 1527: 'Underground (1995)', 1528: 'Jefferson in Paris (1995)', 1529: 'Far From Home: The Adventures of Yellow Dog (1995)', 1530: 'Foreign Student (1994)', 1531: \"I Don't Want to Talk About It (De eso no se habla) (1993)\", 1532: 'Twin Town (1997)', 1533: \"Enfer, L' (1994)\", 1534: 'Aiqing wansui (1994)', 1535: 'Cosi (1996)', 1536: 'All Over Me (1997)', 1537: 'Being Human (1993)', 1538: 'Amazing Panda Adventure, The (1995)', 1539: 'Beans of Egypt, Maine, The (1994)', 1540: 'Scarlet Letter, The (1926)', 1541: 'Johns (1996)', 1542: 'It Takes Two (1995)', 1543: 'Frankie Starlight (1995)', 1544: 'Shadows (Cienie) (1988)', 1545: 'Show, The (1995)', 1546: 'The Courtyard (1995)', 1547: 'Dream Man (1995)', 1548: 'Destiny Turns on the Radio (1995)', 1549: 'Glass Shield, The (1994)', 1550: 'Hunted, The (1995)', 1551: 'Underneath, The (1995)', 1552: 'Safe Passage (1994)', 1553: 'Secret Adventures of Tom Thumb, The (1993)', 1554: 'Condition Red (1995)', 1555: 'Yankee Zulu (1994)', 1556: 'Aparajito (1956)', 1557: 'Hostile Intentions (1994)', 1558: 'Clean Slate (Coup de Torchon) (1981)', 1559: 'Tigrero: A Film That Was Never Made (1994)', 1560: \"Eye of Vichy, The (Oeil de Vichy, L') (1993)\", 1561: 'Promise, The (Versprechen, Das) (1994)', 1562: 'To Cross the Rubicon (1991)', 1563: 'Daens (1992)', 1564: 'Man from Down Under, The (1943)', 1565: 'Careful (1992)', 1566: 'Vermont Is For Lovers (1992)', 1567: 'Vie est belle, La (Life is Rosey) (1987)', 1568: 'Quartier Mozart (1992)', 1569: 'Touki Bouki (Journey of the Hyena) (1973)', 1570: \"Wend Kuuni (God's Gift) (1982)\", 1571: 'Spirits of the Dead (Tre passi nel delirio) (1968)', 1572: \"Pharaoh's Army (1995)\", 1573: 'I, Worst of All (Yo, la peor de todas) (1990)', 1574: 'Hungarian Fairy Tale, A (1987)', 1575: 'Death in the Garden (Mort en ce jardin, La) (1956)', 1576: 'Collectionneuse, La (1967)', 1577: 'Baton Rouge (1988)', 1578: 'Liebelei (1933)', 1579: 'Woman in Question, The (1950)', 1580: 'T-Men (1947)', 1581: 'Invitation, The (Zaproszenie) (1986)', 1582: 'Symphonie pastorale, La (1946)', 1583: 'American Dream (1990)', 1584: 'Lashou shentan (1992)', 1585: 'Terror in a Texas Town (1958)', 1586: 'Salut cousin! (1996)', 1587: 'Schizopolis (1996)', 1588: 'To Have, or Not (1995)', 1589: 'Duoluo tianshi (1995)', 1590: 'Magic Hour, The (1998)', 1591: 'Death in Brunswick (1991)', 1592: 'Everest (1998)', 1593: 'Shopping (1994)', 1594: 'Nemesis 2: Nebula (1995)', 1595: 'Romper Stomper (1992)', 1596: 'City of Industry (1997)', 1597: \"Someone Else's America (1995)\", 1598: 'Guantanamera (1994)', 1599: 'Office Killer (1997)', 1600: 'Price Above Rubies, A (1998)', 1601: 'Angela (1995)', 1602: 'He Walked by Night (1948)', 1603: 'Love Serenade (1996)', 1604: 'Deceiver (1997)', 1605: 'Hurricane Streets (1998)', 1606: 'Buddy (1997)', 1607: 'B*A*P*S (1997)', 1608: 'Truth or Consequences, N.M. (1997)', 1609: 'Intimate Relations (1996)', 1610: 'Leading Man, The (1996)', 1611: 'Tokyo Fist (1995)', 1612: 'Reluctant Debutante, The (1958)', 1613: 'Warriors of Virtue (1997)', 1614: 'Desert Winds (1995)', 1615: 'Hugo Pool (1997)', 1616: 'King of New York (1990)', 1617: 'All Things Fair (1996)', 1618: 'Sixth Man, The (1997)', 1619: 'Butterfly Kiss (1995)', 1620: 'Paris, France (1993)', 1621: 'Cérémonie, La (1995)', 1622: 'Hush (1998)', 1623: 'Nightwatch (1997)', 1624: 'Nobody Loves Me (Keiner liebt mich) (1994)', 1625: 'Wife, The (1995)', 1626: 'Lamerica (1994)', 1627: 'Nico Icon (1995)', 1628: 'Silence of the Palace, The (Saimt el Qusur) (1994)', 1629: 'Slingshot, The (1993)', 1630: 'Land and Freedom (Tierra y libertad) (1995)', 1631: 'Á köldum klaka (Cold Fever) (1994)', 1632: 'Etz Hadomim Tafus (Under the Domin Tree) (1994)', 1633: 'Two Friends (1986) ', 1634: 'Brothers in Trouble (1995)', 1635: 'Girls Town (1996)', 1636: 'Normal Life (1996)', 1637: 'Bitter Sugar (Azucar Amargo) (1996)', 1638: 'Eighth Day, The (1996)', 1639: 'Dadetown (1995)', 1640: \"Some Mother's Son (1996)\", 1641: 'Angel Baby (1995)', 1642: 'Sudden Manhattan (1996)', 1643: 'Butcher Boy, The (1998)', 1644: 'Men With Guns (1997)', 1645: 'Hana-bi (1997)', 1646: 'Niagara, Niagara (1997)', 1647: 'Big One, The (1997)', 1648: 'Butcher Boy, The (1998)', 1649: 'Spanish Prisoner, The (1997)', 1650: 'Temptress Moon (Feng Yue) (1996)', 1651: 'Entertaining Angels: The Dorothy Day Story (1996)', 1652: 'Chairman of the Board (1998)', 1653: 'Favor, The (1994)', 1654: 'Little City (1998)', 1655: 'Target (1995)', 1656: 'Substance of Fire, The (1996)', 1657: 'Getting Away With Murder (1996)', 1658: 'Small Faces (1995)', 1659: 'New Age, The (1994)', 1660: 'Rough Magic (1995)', 1661: 'Nothing Personal (1995)', 1662: '8 Heads in a Duffel Bag (1997)', 1663: \"Brother's Kiss, A (1997)\", 1664: 'Ripe (1996)', 1665: 'Next Step, The (1995)', 1666: 'Wedding Bell Blues (1996)', 1667: 'MURDER and murder (1996)', 1668: 'Tainted (1998)', 1669: 'Further Gesture, A (1996)', 1670: 'Kika (1993)', 1671: 'Mirage (1995)', 1672: 'Mamma Roma (1962)', 1673: 'Sunchaser, The (1996)', 1674: 'War at Home, The (1996)', 1675: 'Sweet Nothing (1995)', 1676: \"Mat' i syn (1997)\", 1677: 'B. Monkey (1998)', 1678: 'Sliding Doors (1998)', 1679: 'You So Crazy (1994)', 1680: 'Scream of Stone (Schrei aus Stein) (1991)'}\n",
      "Number of unique users: 943\n",
      "Number of unique movies: 1662\n",
      "The full rating matrix will have: 1567266 elements.\n",
      "----------\n",
      "Number of ratings: 89992\n",
      "Therefore:  5.741973602438897 % of the matrix is filled.\n",
      "We have an incredibly sparse matrix to work with here.\n",
      "And... as you can imagine, as the number of users and products grow, the number of elements will increase by n*2\n",
      "You are going to need a lot of memory to work with global scale... storing a full matrix in memory would be a challenge.\n",
      "One advantage here is that matrix factorization can realize the rating matrix implicitly, thus we don't need all the data\n"
     ]
    }
   ],
   "source": [
    "# Movie ID to movie name mapping\n",
    "movie_names = movies_df.set_index('movieId')['title'].to_dict()\n",
    "n_users = len(ratings_df.userId.unique())\n",
    "n_items = len(ratings_df.movieId.unique())\n",
    "print(\"Movie names:\", movie_names)\n",
    "print(\"Number of unique users:\", n_users)\n",
    "print(\"Number of unique movies:\", n_items)\n",
    "print(\"The full rating matrix will have:\", n_users*n_items, 'elements.')\n",
    "print('----------')\n",
    "print(\"Number of ratings:\", len(ratings_df))\n",
    "print(\"Therefore: \", len(ratings_df) / (n_users*n_items) * 100, '% of the matrix is filled.')\n",
    "print(\"We have an incredibly sparse matrix to work with here.\")\n",
    "print(\"And... as you can imagine, as the number of users and products grow, the number of elements will increase by n*2\")\n",
    "print(\"You are going to need a lot of memory to work with global scale... storing a full matrix in memory would be a challenge.\")\n",
    "print(\"One advantage here is that matrix factorization can realize the rating matrix implicitly, thus we don't need all the data\")"
   ]
  },
  {
   "cell_type": "code",
   "execution_count": 9,
   "metadata": {
    "id": "YnkTvMsCk0tY"
   },
   "outputs": [],
   "source": [
    "import torch\n",
    "import numpy as np\n",
    "import tqdm\n",
    "from torch.autograd import Variable\n",
    "# from tqdm import tqdm_notebook as tqdm\n",
    "\n",
    "class MatrixFactorization(torch.nn.Module):\n",
    "    def __init__(self, n_users, n_items, n_factors=20):\n",
    "        super().__init__()\n",
    "        # create user embeddings\n",
    "        self.user_factors = torch.nn.Embedding(n_users, n_factors) # think of this as a lookup table for the input.\n",
    "        # create item embeddings\n",
    "        self.item_factors = torch.nn.Embedding(n_items, n_factors) # think of this as a lookup table for the input.\n",
    "        self.user_factors.weight.data.uniform_(0, 0.05)\n",
    "        self.item_factors.weight.data.uniform_(0, 0.05)\n",
    "        \n",
    "    def forward(self, data):\n",
    "        # matrix multiplication\n",
    "        users, items = data[:,0], data[:,1]\n",
    "        return (self.user_factors(users)*self.item_factors(items)).sum(1)\n",
    "    # def forward(self, user, item):\n",
    "    # \t# matrix multiplication\n",
    "    #     return (self.user_factors(user)*self.item_factors(item)).sum(1)\n",
    "    \n",
    "    def predict(self, user, item):\n",
    "        return self.forward(user, item)"
   ]
  },
  {
   "cell_type": "code",
   "execution_count": 10,
   "metadata": {
    "id": "LTlGvz7sk0v2"
   },
   "outputs": [],
   "source": [
    "# Creating the dataloader (necessary for PyTorch)\n",
    "from torch.utils.data.dataset import Dataset\n",
    "from torch.utils.data import DataLoader # package that helps transform your data to machine learning readiness\n",
    "\n",
    "# Note: This isn't 'good' practice, in a MLops sense but we'll roll with this since the data is already loaded in memory.\n",
    "class Loader(Dataset):\n",
    "    def __init__(self):\n",
    "        self.ratings = ratings_df.copy()\n",
    "        \n",
    "        # Extract all user IDs and movie IDs\n",
    "        users = ratings_df.userId.unique()\n",
    "        movies = ratings_df.movieId.unique()\n",
    "        \n",
    "        #--- Producing new continuous IDs for users and movies ---\n",
    "        \n",
    "        # Unique values : index\n",
    "        self.userid2idx = {o:i for i,o in enumerate(users)}\n",
    "        self.movieid2idx = {o:i for i,o in enumerate(movies)}\n",
    "        \n",
    "        # Obtained continuous ID for users and movies\n",
    "        self.idx2userid = {i:o for o,i in self.userid2idx.items()}\n",
    "        self.idx2movieid = {i:o for o,i in self.movieid2idx.items()}\n",
    "        \n",
    "        # return the id from the indexed values as noted in the lambda function down below.\n",
    "        self.ratings.movieId = ratings_df.movieId.apply(lambda x: self.movieid2idx[x])\n",
    "        self.ratings.userId = ratings_df.userId.apply(lambda x: self.userid2idx[x])\n",
    "        \n",
    "        \n",
    "        self.x = self.ratings.drop(['rating', 'timestamp'], axis=1).values\n",
    "        self.y = self.ratings['rating'].values\n",
    "        self.x, self.y = torch.tensor(self.x), torch.tensor(self.y) # Transforms the data to tensors (ready for torch models.)\n",
    "\n",
    "    def __getitem__(self, index):\n",
    "        return (self.x[index], self.y[index])\n",
    "\n",
    "    def __len__(self):\n",
    "        return len(self.ratings)"
   ]
  },
  {
   "cell_type": "code",
   "execution_count": 11,
   "metadata": {
    "colab": {
     "base_uri": "https://localhost:8080/"
    },
    "id": "J6MK3Ymmk0yi",
    "outputId": "50e960e6-ccc7-4852-98cf-55144f7848c7"
   },
   "outputs": [
    {
     "name": "stdout",
     "output_type": "stream",
     "text": [
      "Is running on GPU: False\n",
      "MatrixFactorization(\n",
      "  (user_factors): Embedding(943, 8)\n",
      "  (item_factors): Embedding(1662, 8)\n",
      ")\n",
      "user_factors.weight tensor([[0.0341, 0.0392, 0.0311,  ..., 0.0353, 0.0028, 0.0197],\n",
      "        [0.0061, 0.0208, 0.0398,  ..., 0.0400, 0.0372, 0.0316],\n",
      "        [0.0306, 0.0250, 0.0155,  ..., 0.0131, 0.0288, 0.0302],\n",
      "        ...,\n",
      "        [0.0302, 0.0104, 0.0281,  ..., 0.0276, 0.0161, 0.0404],\n",
      "        [0.0418, 0.0072, 0.0217,  ..., 0.0471, 0.0462, 0.0493],\n",
      "        [0.0438, 0.0467, 0.0033,  ..., 0.0361, 0.0149, 0.0259]])\n",
      "item_factors.weight tensor([[0.0443, 0.0463, 0.0248,  ..., 0.0027, 0.0059, 0.0266],\n",
      "        [0.0272, 0.0198, 0.0342,  ..., 0.0349, 0.0264, 0.0297],\n",
      "        [0.0323, 0.0461, 0.0035,  ..., 0.0165, 0.0382, 0.0283],\n",
      "        ...,\n",
      "        [0.0304, 0.0165, 0.0030,  ..., 0.0236, 0.0333, 0.0354],\n",
      "        [0.0460, 0.0010, 0.0054,  ..., 0.0096, 0.0020, 0.0487],\n",
      "        [0.0118, 0.0035, 0.0342,  ..., 0.0194, 0.0499, 0.0409]])\n"
     ]
    }
   ],
   "source": [
    "num_epochs = 128\n",
    "cuda = torch.cuda.is_available()\n",
    "\n",
    "print(\"Is running on GPU:\", cuda)\n",
    "\n",
    "model = MatrixFactorization(n_users, n_items, n_factors=8)\n",
    "print(model)\n",
    "for name, param in model.named_parameters():\n",
    "    if param.requires_grad:\n",
    "        print(name, param.data)\n",
    "# GPU enable if you have a GPU...\n",
    "if cuda:\n",
    "    model = model.cuda()\n",
    "\n",
    "# MSE loss\n",
    "loss_fn = torch.nn.L1Loss()\n",
    "\n",
    "# ADAM optimizier\n",
    "optimizer = torch.optim.Adam(model.parameters(), lr=1e-3)\n",
    "\n",
    "# Train data\n",
    "train_set = Loader()\n",
    "train_loader = DataLoader(train_set, 128, shuffle=True)"
   ]
  },
  {
   "cell_type": "code",
   "execution_count": 12,
   "metadata": {
    "colab": {
     "base_uri": "https://localhost:8080/"
    },
    "id": "zs_GVbSYmhib",
    "outputId": "d4a5a7f6-f2a6-4d08-9083-84a2812c3f45"
   },
   "outputs": [
    {
     "name": "stdout",
     "output_type": "stream",
     "text": [
      "user_factors.weight tensor([[0.0341, 0.0392, 0.0311,  ..., 0.0353, 0.0028, 0.0197],\n",
      "        [0.0061, 0.0208, 0.0398,  ..., 0.0400, 0.0372, 0.0316],\n",
      "        [0.0306, 0.0250, 0.0155,  ..., 0.0131, 0.0288, 0.0302],\n",
      "        ...,\n",
      "        [0.0302, 0.0104, 0.0281,  ..., 0.0276, 0.0161, 0.0404],\n",
      "        [0.0418, 0.0072, 0.0217,  ..., 0.0471, 0.0462, 0.0493],\n",
      "        [0.0438, 0.0467, 0.0033,  ..., 0.0361, 0.0149, 0.0259]])\n",
      "item_factors.weight tensor([[0.0443, 0.0463, 0.0248,  ..., 0.0027, 0.0059, 0.0266],\n",
      "        [0.0272, 0.0198, 0.0342,  ..., 0.0349, 0.0264, 0.0297],\n",
      "        [0.0323, 0.0461, 0.0035,  ..., 0.0165, 0.0382, 0.0283],\n",
      "        ...,\n",
      "        [0.0304, 0.0165, 0.0030,  ..., 0.0236, 0.0333, 0.0354],\n",
      "        [0.0460, 0.0010, 0.0054,  ..., 0.0096, 0.0020, 0.0487],\n",
      "        [0.0118, 0.0035, 0.0342,  ..., 0.0194, 0.0499, 0.0409]])\n"
     ]
    }
   ],
   "source": [
    "# By training the model, we will have tuned latent factors for movies and users.\n",
    "c = 0\n",
    "uw = 0\n",
    "iw = 0 \n",
    "for name, param in model.named_parameters():\n",
    "    if param.requires_grad:\n",
    "        print(name, param.data)\n",
    "        if c == 0:\n",
    "          uw = param.data\n",
    "          c +=1\n",
    "        else:\n",
    "          iw = param.data\n",
    "        #print('param_data', param_data)"
   ]
  },
  {
   "cell_type": "code",
   "execution_count": 13,
   "metadata": {
    "id": "IJgie01_p8k5"
   },
   "outputs": [],
   "source": [
    "trained_movie_embeddings = model.item_factors.weight.data.cpu().numpy()"
   ]
  },
  {
   "cell_type": "code",
   "execution_count": 14,
   "metadata": {
    "colab": {
     "base_uri": "https://localhost:8080/"
    },
    "id": "R-_tHZ_E_rub",
    "outputId": "cb97ce5d-7140-43fa-8ffa-7603a22eee2c"
   },
   "outputs": [
    {
     "data": {
      "text/plain": [
       "1662"
      ]
     },
     "execution_count": 14,
     "metadata": {},
     "output_type": "execute_result"
    }
   ],
   "source": [
    "len(trained_movie_embeddings) # unique movie factor weights"
   ]
  },
  {
   "cell_type": "code",
   "execution_count": 15,
   "metadata": {
    "id": "bl9s4iqXy75q"
   },
   "outputs": [
    {
     "name": "stderr",
     "output_type": "stream",
     "text": [
      "/Users/brandonmukadziwashe/micromamba/envs/cs135_env/lib/python3.10/site-packages/sklearn/cluster/_kmeans.py:870: FutureWarning: The default value of `n_init` will change from 10 to 'auto' in 1.4. Set the value of `n_init` explicitly to suppress the warning\n",
      "  warnings.warn(\n"
     ]
    }
   ],
   "source": [
    "from sklearn.cluster import KMeans\n",
    "# Fit the clusters based on the movie weights\n",
    "kmeans = KMeans(n_clusters=10, random_state=0).fit(trained_movie_embeddings)"
   ]
  },
  {
   "cell_type": "code",
   "execution_count": 16,
   "metadata": {
    "colab": {
     "base_uri": "https://localhost:8080/"
    },
    "id": "8MDzp-9u-m5n",
    "outputId": "c6f77e4d-68d1-49c5-c022-25e80e99007d"
   },
   "outputs": [
    {
     "name": "stdout",
     "output_type": "stream",
     "text": [
      "Cluster #0\n",
      "\t Silence of the Lambs, The (1991)\n",
      "\t Men in Black (1997)\n",
      "\t Jaws (1975)\n",
      "\t Casablanca (1942)\n",
      "\t Seven (Se7en) (1995)\n",
      "\t Hunt for Red October, The (1990)\n",
      "\t Mars Attacks! (1996)\n",
      "\t This Is Spinal Tap (1984)\n",
      "\t Lone Star (1996)\n",
      "\t Monty Python's Life of Brian (1979)\n",
      "Cluster #1\n",
      "\t Liar Liar (1997)\n",
      "\t English Patient, The (1996)\n",
      "\t Raiders of the Lost Ark (1981)\n",
      "\t Titanic (1997)\n",
      "\t Back to the Future (1985)\n",
      "\t Princess Bride, The (1987)\n",
      "\t Full Monty, The (1997)\n",
      "\t Forrest Gump (1994)\n",
      "\t Dead Man Walking (1995)\n",
      "\t Braveheart (1995)\n",
      "Cluster #2\n",
      "\t Contact (1997)\n",
      "\t Return of the Jedi (1983)\n",
      "\t Schindler's List (1993)\n",
      "\t Four Weddings and a Funeral (1994)\n",
      "\t Chasing Amy (1997)\n",
      "\t Game, The (1997)\n",
      "\t Fish Called Wanda, A (1988)\n",
      "\t Time to Kill, A (1996)\n",
      "\t Top Gun (1986)\n",
      "\t Babe (1995)\n",
      "Cluster #3\n",
      "\t Scream (1996)\n",
      "\t Star Trek: First Contact (1996)\n",
      "\t Mission: Impossible (1996)\n",
      "\t Aliens (1986)\n",
      "\t Shawshank Redemption, The (1994)\n",
      "\t Evita (1996)\n",
      "\t Sense and Sensibility (1995)\n",
      "\t Broken Arrow (1996)\n",
      "\t Wizard of Oz, The (1939)\n",
      "\t Trainspotting (1996)\n",
      "Cluster #4\n",
      "\t Toy Story (1995)\n",
      "\t Independence Day (ID4) (1996)\n",
      "\t Fugitive, The (1993)\n",
      "\t Jurassic Park (1993)\n",
      "\t Raising Arizona (1987)\n",
      "\t Young Frankenstein (1974)\n",
      "\t Mrs. Doubtfire (1993)\n",
      "\t Postino, Il (1994)\n",
      "\t Taxi Driver (1976)\n",
      "\t North by Northwest (1959)\n",
      "Cluster #5\n",
      "\t Pulp Fiction (1994)\n",
      "\t Leaving Las Vegas (1995)\n",
      "\t E.T. the Extra-Terrestrial (1982)\n",
      "\t Terminator 2: Judgment Day (1991)\n",
      "\t Truth About Cats & Dogs, The (1996)\n",
      "\t Dances with Wolves (1990)\n",
      "\t One Flew Over the Cuckoo's Nest (1975)\n",
      "\t Graduate, The (1967)\n",
      "\t It's a Wonderful Life (1946)\n",
      "\t Heat (1995)\n",
      "Cluster #6\n",
      "\t Fargo (1996)\n",
      "\t Air Force One (1997)\n",
      "\t Twelve Monkeys (1995)\n",
      "\t Monty Python and the Holy Grail (1974)\n",
      "\t Indiana Jones and the Last Crusade (1989)\n",
      "\t Terminator, The (1984)\n",
      "\t Saint, The (1997)\n",
      "\t Twister (1996)\n",
      "\t In & Out (1997)\n",
      "\t Speed (1994)\n",
      "Cluster #7\n",
      "\t Star Wars (1977)\n",
      "\t Jerry Maguire (1996)\n",
      "\t Empire Strikes Back, The (1980)\n",
      "\t Conspiracy Theory (1997)\n",
      "\t Mr. Holland's Opus (1995)\n",
      "\t Groundhog Day (1993)\n",
      "\t Usual Suspects, The (1995)\n",
      "\t Phenomenon (1996)\n",
      "\t Sting, The (1973)\n",
      "\t Psycho (1960)\n",
      "Cluster #8\n",
      "\t Alien (1979)\n",
      "\t Amadeus (1984)\n",
      "\t Ransom (1996)\n",
      "\t Die Hard (1988)\n",
      "\t Dante's Peak (1997)\n",
      "\t Shining, The (1980)\n",
      "\t Rear Window (1954)\n",
      "\t Citizen Kane (1941)\n",
      "\t Devil's Advocate, The (1997)\n",
      "\t Sabrina (1995)\n",
      "Cluster #9\n",
      "\t Godfather, The (1972)\n",
      "\t Rock, The (1996)\n",
      "\t Willy Wonka and the Chocolate Factory (1971)\n",
      "\t L.A. Confidential (1997)\n",
      "\t When Harry Met Sally... (1989)\n",
      "\t Blade Runner (1982)\n",
      "\t 2001: A Space Odyssey (1968)\n",
      "\t Clockwork Orange, A (1971)\n",
      "\t Murder at 1600 (1997)\n",
      "\t Brazil (1985)\n"
     ]
    }
   ],
   "source": [
    "'''It can be seen here that the movies that are in the same cluster tend to have\n",
    "similar genres. Also note that the algorithm is unfamiliar with the movie name\n",
    "and only obtained the relationships by looking at the numbers representing how\n",
    "users have responded to the movie selections.'''\n",
    "for cluster in range(10):\n",
    "  print(\"Cluster #{}\".format(cluster))\n",
    "  movs = []\n",
    "  for movidx in np.where(kmeans.labels_ == cluster)[0]:\n",
    "    movid = train_set.idx2movieid[movidx]\n",
    "     # Check how many ratings this movie has rat_count = ratings_df.loc[ratings_df['movieId'] == movid].count().iloc[0]\n",
    "    rat_count = ratings_df.loc[ratings_df['movieId'] == movid].count().iloc[0]\n",
    "    movs.append((movie_names[movid], rat_count))\n",
    "  for mov in sorted(movs, key=lambda tup: tup[1], reverse=True)[:10]:\n",
    "    print(\"\\t\", mov[0])"
   ]
  },
  {
   "cell_type": "markdown",
   "metadata": {},
   "source": [
    "### Making Predictions"
   ]
  },
  {
   "cell_type": "markdown",
   "metadata": {},
   "source": [
    "#### Step 1: Cluster Analysis"
   ]
  },
  {
   "cell_type": "code",
   "execution_count": 17,
   "metadata": {},
   "outputs": [],
   "source": [
    "# Assign each movie to a cluster\n",
    "movie_clusters = {}\n",
    "for cluster in range(10):\n",
    "    for movidx in np.where(kmeans.labels_ == cluster)[0]:\n",
    "        movid = train_set.idx2movieid[movidx]\n",
    "        movie_clusters[movid] = cluster\n"
   ]
  },
  {
   "cell_type": "markdown",
   "metadata": {},
   "source": [
    "#### Step 2: Enhance the Training Data: Add the cluster information to the ratings data:"
   ]
  },
  {
   "cell_type": "code",
   "execution_count": 18,
   "metadata": {},
   "outputs": [],
   "source": [
    "# Add cluster information to ratings_df\n",
    "ratings_df['cluster'] = ratings_df['movieId'].map(movie_clusters)\n"
   ]
  },
  {
   "cell_type": "markdown",
   "metadata": {},
   "source": [
    "#### Step 3: Train a Model for Each Cluster"
   ]
  },
  {
   "cell_type": "code",
   "execution_count": 19,
   "metadata": {},
   "outputs": [],
   "source": [
    "from surprise import SVD, Dataset, Reader\n",
    "from surprise.model_selection import train_test_split\n",
    "\n",
    "# Placeholder for cluster models\n",
    "cluster_models = {}\n",
    "\n",
    "# Train a model for each cluster\n",
    "for cluster in range(10):\n",
    "    cluster_data = ratings_df[ratings_df['cluster'] == cluster]\n",
    "    \n",
    "    if cluster_data.empty:\n",
    "        continue  # Skip empty clusters\n",
    "\n",
    "    # Prepare data for the surprise library\n",
    "    reader = Reader(rating_scale=(0.5, 5))\n",
    "    data = Dataset.load_from_df(cluster_data[['userId', 'movieId', 'rating']], reader)\n",
    "    trainset = data.build_full_trainset()\n",
    "    \n",
    "    # Train an SVD model\n",
    "    model = SVD()\n",
    "    model.fit(trainset)\n",
    "    cluster_models[cluster] = model"
   ]
  },
  {
   "cell_type": "markdown",
   "metadata": {},
   "source": [
    "#### Step 4: Predict Ratings for Leaderboard Data: For each movie-user pair in the leaderboard data, use the appropriate cluster model"
   ]
  },
  {
   "cell_type": "code",
   "execution_count": 20,
   "metadata": {},
   "outputs": [
    {
     "data": {
      "text/html": [
       "<div>\n",
       "<style scoped>\n",
       "    .dataframe tbody tr th:only-of-type {\n",
       "        vertical-align: middle;\n",
       "    }\n",
       "\n",
       "    .dataframe tbody tr th {\n",
       "        vertical-align: top;\n",
       "    }\n",
       "\n",
       "    .dataframe thead th {\n",
       "        text-align: right;\n",
       "    }\n",
       "</style>\n",
       "<table border=\"1\" class=\"dataframe\">\n",
       "  <thead>\n",
       "    <tr style=\"text-align: right;\">\n",
       "      <th></th>\n",
       "      <th>user_id</th>\n",
       "      <th>item_id</th>\n",
       "      <th>rating</th>\n",
       "    </tr>\n",
       "  </thead>\n",
       "  <tbody>\n",
       "    <tr>\n",
       "      <th>0</th>\n",
       "      <td>503</td>\n",
       "      <td>204</td>\n",
       "      <td>NaN</td>\n",
       "    </tr>\n",
       "    <tr>\n",
       "      <th>1</th>\n",
       "      <td>795</td>\n",
       "      <td>185</td>\n",
       "      <td>NaN</td>\n",
       "    </tr>\n",
       "    <tr>\n",
       "      <th>2</th>\n",
       "      <td>42</td>\n",
       "      <td>403</td>\n",
       "      <td>NaN</td>\n",
       "    </tr>\n",
       "    <tr>\n",
       "      <th>3</th>\n",
       "      <td>327</td>\n",
       "      <td>740</td>\n",
       "      <td>NaN</td>\n",
       "    </tr>\n",
       "    <tr>\n",
       "      <th>4</th>\n",
       "      <td>285</td>\n",
       "      <td>98</td>\n",
       "      <td>NaN</td>\n",
       "    </tr>\n",
       "    <tr>\n",
       "      <th>...</th>\n",
       "      <td>...</td>\n",
       "      <td>...</td>\n",
       "      <td>...</td>\n",
       "    </tr>\n",
       "    <tr>\n",
       "      <th>9995</th>\n",
       "      <td>463</td>\n",
       "      <td>292</td>\n",
       "      <td>NaN</td>\n",
       "    </tr>\n",
       "    <tr>\n",
       "      <th>9996</th>\n",
       "      <td>372</td>\n",
       "      <td>485</td>\n",
       "      <td>NaN</td>\n",
       "    </tr>\n",
       "    <tr>\n",
       "      <th>9997</th>\n",
       "      <td>763</td>\n",
       "      <td>190</td>\n",
       "      <td>NaN</td>\n",
       "    </tr>\n",
       "    <tr>\n",
       "      <th>9998</th>\n",
       "      <td>499</td>\n",
       "      <td>163</td>\n",
       "      <td>NaN</td>\n",
       "    </tr>\n",
       "    <tr>\n",
       "      <th>9999</th>\n",
       "      <td>654</td>\n",
       "      <td>933</td>\n",
       "      <td>NaN</td>\n",
       "    </tr>\n",
       "  </tbody>\n",
       "</table>\n",
       "<p>10000 rows × 3 columns</p>\n",
       "</div>"
      ],
      "text/plain": [
       "      user_id  item_id  rating\n",
       "0         503      204     NaN\n",
       "1         795      185     NaN\n",
       "2          42      403     NaN\n",
       "3         327      740     NaN\n",
       "4         285       98     NaN\n",
       "...       ...      ...     ...\n",
       "9995      463      292     NaN\n",
       "9996      372      485     NaN\n",
       "9997      763      190     NaN\n",
       "9998      499      163     NaN\n",
       "9999      654      933     NaN\n",
       "\n",
       "[10000 rows x 3 columns]"
      ]
     },
     "execution_count": 20,
     "metadata": {},
     "output_type": "execute_result"
    }
   ],
   "source": [
    "# Load leaderboard data\n",
    "leaderboard_data = pd.read_csv('/Users/brandonmukadziwashe/CS135/cs135-24f-assignments/CS-135-Project-B/data_movie_lens_100k/ratings_masked_leaderboard_set.csv')\n",
    "leaderboard_data"
   ]
  },
  {
   "cell_type": "code",
   "execution_count": 46,
   "metadata": {},
   "outputs": [],
   "source": [
    "# Load leaderboard data\n",
    "leaderboard_data = pd.read_csv('/Users/brandonmukadziwashe/CS135/cs135-24f-assignments/CS-135-Project-B/data_movie_lens_100k/ratings_masked_leaderboard_set.csv')\n",
    "\n",
    "# Predict ratings\n",
    "predicted_ratings = []\n",
    "\n",
    "for row in leaderboard_data.itertuples(index=False):\n",
    "    user_id = row.user_id  # Assuming the column is named 'userId' in the CSV\n",
    "    movie_id = row.item_id  # Assuming the column is named 'movieId' in the CSV\n",
    "    \n",
    "    cluster = movie_clusters.get(movie_id, None)\n",
    "    \n",
    "    if cluster is not None and cluster in cluster_models:\n",
    "        # Use the model for the cluster\n",
    "        pred = cluster_models[cluster].predict(user_id, movie_id).est\n",
    "    else:\n",
    "        # Fallback to a global average if no cluster or model exists\n",
    "        pred = ratings_df['rating'].mean()\n",
    "    \n",
    "    predicted_ratings.append(pred)\n",
    "\n",
    "# Save predictions to a file\n",
    "np.savetxt('predicted_ratings_leaderboard.txt', predicted_ratings, fmt='%.4f')"
   ]
  },
  {
   "cell_type": "markdown",
   "metadata": {},
   "source": [
    "## Alternative method"
   ]
  },
  {
   "cell_type": "code",
   "execution_count": 41,
   "metadata": {},
   "outputs": [],
   "source": [
    "from CollabFilterOneVectorPerItem import *\n",
    "from AbstractBaseCollabFilterSGD import *\n",
    "from train_valid_test_loader import load_train_valid_test_datasets"
   ]
  },
  {
   "cell_type": "code",
   "execution_count": null,
   "metadata": {},
   "outputs": [],
   "source": [
    "train_tuple, valid_tuple, test_tuple, n_users, n_items = load_train_valid_test_datasets()\n",
    "model = CollabFilterOneVectorPerItem(n_epochs=10, batch_size=50, step_size=0.1, n_factors = 50, alpha=0.001)\n",
    "model.init_parameter_dict(n_users, n_items, train_tuple)\n",
    "model.fit(train_tuple, valid_tuple)"
   ]
  },
  {
   "cell_type": "code",
   "execution_count": 41,
   "metadata": {},
   "outputs": [],
   "source": [
    "from CollabFilterOneVectorPerItem import *\n",
    "from AbstractBaseCollabFilterSGD import *\n",
    "from train_valid_test_loader import load_train_valid_test_datasets"
   ]
  },
  {
   "cell_type": "code",
   "execution_count": 43,
   "metadata": {},
   "outputs": [],
   "source": [
    "train_tuple, valid_tuple, test_tuple, n_users, n_items = load_train_valid_test_datasets()\n",
    "model = CollabFilterOneVectorPerItem(n_epochs=10, batch_size=50, step_size=0.1, n_factors = 50, alpha=0.001)\n",
    "model.init_parameter_dict(n_users, n_items, train_tuple)\n",
    "model.fit(train_tuple, valid_tuple)"
   ]
  },
  {
   "cell_type": "code",
   "execution_count": 45,
   "metadata": {},
   "outputs": [],
   "source": [
    "# Extract user_ids and item_ids from the leaderboard data\n",
    "user_ids = leaderboard_data['user_id'].to_numpy()\n",
    "item_ids = leaderboard_data['item_id'].to_numpy()\n",
    "\n",
    "# Call the provided prediction function using these user_ids and item_ids\n",
    "# Assuming the model parameters (mu, b_per_user, c_per_item, U, V) are defined or loaded\n",
    "predictions = model.predict(user_ids, item_ids)\n",
    "\n",
    "# Save the predictions to a text file\n",
    "with open(\"predicted_ratings_leaderboard.txt\", \"w\") as f:\n",
    "    for pred in predictions:\n",
    "        f.write(f\"{pred}\\n\")"
   ]
  },
  {
   "cell_type": "code",
   "execution_count": 41,
   "metadata": {},
   "outputs": [],
   "source": [
    "from CollabFilterOneVectorPerItem import *\n",
    "from AbstractBaseCollabFilterSGD import *\n",
    "from train_valid_test_loader import load_train_valid_test_datasets"
   ]
  },
  {
   "cell_type": "code",
   "execution_count": 43,
   "metadata": {},
   "outputs": [
    {
     "name": "stdout",
     "output_type": "stream",
     "text": [
      "epoch       0.000 | loss_total     1.40000 | train_MAE     1.00262 | valid_MAE     1.00801 | grad_wrt_mu     0.40000 | grad_wrt_b_per_user     0.00187 | grad_wrt_c_per_item     0.00109 | grad_wrt_U     0.00000 | grad_wrt_V     0.00000\n",
      "epoch       0.001 | loss_total     1.18145 | train_MAE     0.99810 | valid_MAE     1.00308 | grad_wrt_mu     0.91984 | grad_wrt_b_per_user     0.00166 | grad_wrt_c_per_item     0.00093 | grad_wrt_U     0.00000 | grad_wrt_V     0.00000\n",
      "epoch       0.001 | loss_total     1.28053 | train_MAE     0.98791 | valid_MAE     0.99197 | grad_wrt_mu     0.45464 | grad_wrt_b_per_user     0.00188 | grad_wrt_c_per_item     0.00105 | grad_wrt_U     0.00000 | grad_wrt_V     0.00000\n",
      "epoch       0.002 | loss_total     1.36412 | train_MAE     0.98280 | valid_MAE     0.98644 | grad_wrt_mu     0.68412 | grad_wrt_b_per_user     0.00209 | grad_wrt_c_per_item     0.00117 | grad_wrt_U     0.00000 | grad_wrt_V     0.00000\n",
      "epoch       0.125 | loss_total     1.06602 | train_MAE     0.92258 | valid_MAE     0.92433 | grad_wrt_mu     0.18973 | grad_wrt_b_per_user     0.00177 | grad_wrt_c_per_item     0.00103 | grad_wrt_U     0.00000 | grad_wrt_V     0.00000\n",
      "epoch       0.250 | loss_total     1.31985 | train_MAE     0.90279 | valid_MAE     0.90576 | grad_wrt_mu     0.19422 | grad_wrt_b_per_user     0.00194 | grad_wrt_c_per_item     0.00114 | grad_wrt_U     0.00000 | grad_wrt_V     0.00000\n",
      "epoch       0.375 | loss_total     1.08583 | train_MAE     0.88358 | valid_MAE     0.88743 | grad_wrt_mu     0.22560 | grad_wrt_b_per_user     0.00169 | grad_wrt_c_per_item     0.00100 | grad_wrt_U     0.00000 | grad_wrt_V     0.00000\n",
      "epoch       0.500 | loss_total     0.80852 | train_MAE     0.86583 | valid_MAE     0.87063 | grad_wrt_mu     0.09933 | grad_wrt_b_per_user     0.00155 | grad_wrt_c_per_item     0.00091 | grad_wrt_U     0.00000 | grad_wrt_V     0.00000\n",
      "epoch       0.625 | loss_total     1.30766 | train_MAE     0.85878 | valid_MAE     0.86540 | grad_wrt_mu     0.20272 | grad_wrt_b_per_user     0.00205 | grad_wrt_c_per_item     0.00113 | grad_wrt_U     0.00000 | grad_wrt_V     0.00000\n",
      "epoch       0.750 | loss_total     1.20612 | train_MAE     0.84865 | valid_MAE     0.85653 | grad_wrt_mu     0.10935 | grad_wrt_b_per_user     0.00178 | grad_wrt_c_per_item     0.00104 | grad_wrt_U     0.00000 | grad_wrt_V     0.00000\n",
      "epoch       0.875 | loss_total     0.99688 | train_MAE     0.83769 | valid_MAE     0.84613 | grad_wrt_mu     0.47236 | grad_wrt_b_per_user     0.00162 | grad_wrt_c_per_item     0.00094 | grad_wrt_U     0.00000 | grad_wrt_V     0.00000\n",
      "epoch       1.000 | loss_total     1.53701 | train_MAE     0.83372 | valid_MAE     0.84341 | grad_wrt_mu     0.12202 | grad_wrt_b_per_user     0.00208 | grad_wrt_c_per_item     0.00123 | grad_wrt_U     0.00000 | grad_wrt_V     0.00000\n",
      "epoch       1.125 | loss_total     0.72640 | train_MAE     0.82567 | valid_MAE     0.83616 | grad_wrt_mu     0.05946 | grad_wrt_b_per_user     0.00149 | grad_wrt_c_per_item     0.00079 | grad_wrt_U     0.00000 | grad_wrt_V     0.00000\n",
      "epoch       1.250 | loss_total     0.90793 | train_MAE     0.81034 | valid_MAE     0.82076 | grad_wrt_mu     0.30412 | grad_wrt_b_per_user     0.00170 | grad_wrt_c_per_item     0.00096 | grad_wrt_U     0.00000 | grad_wrt_V     0.00000\n",
      "epoch       1.375 | loss_total     0.94872 | train_MAE     0.80913 | valid_MAE     0.82059 | grad_wrt_mu     0.27350 | grad_wrt_b_per_user     0.00168 | grad_wrt_c_per_item     0.00092 | grad_wrt_U     0.00000 | grad_wrt_V     0.00000\n",
      "epoch       1.500 | loss_total     0.77935 | train_MAE     0.80825 | valid_MAE     0.82077 | grad_wrt_mu     0.43820 | grad_wrt_b_per_user     0.00144 | grad_wrt_c_per_item     0.00087 | grad_wrt_U     0.00000 | grad_wrt_V     0.00000\n",
      "epoch       1.625 | loss_total     1.18522 | train_MAE     0.80183 | valid_MAE     0.81422 | grad_wrt_mu     0.15937 | grad_wrt_b_per_user     0.00201 | grad_wrt_c_per_item     0.00108 | grad_wrt_U     0.00000 | grad_wrt_V     0.00000\n",
      "epoch       1.750 | loss_total     0.69497 | train_MAE     0.79335 | valid_MAE     0.80588 | grad_wrt_mu     0.27654 | grad_wrt_b_per_user     0.00140 | grad_wrt_c_per_item     0.00078 | grad_wrt_U     0.00000 | grad_wrt_V     0.00000\n",
      "epoch       1.875 | loss_total     0.57685 | train_MAE     0.78531 | valid_MAE     0.79660 | grad_wrt_mu     0.11585 | grad_wrt_b_per_user     0.00122 | grad_wrt_c_per_item     0.00067 | grad_wrt_U     0.00000 | grad_wrt_V     0.00000\n",
      "epoch       2.000 | loss_total     0.85905 | train_MAE     0.78375 | valid_MAE     0.79596 | grad_wrt_mu     0.24176 | grad_wrt_b_per_user     0.00139 | grad_wrt_c_per_item     0.00087 | grad_wrt_U     0.00000 | grad_wrt_V     0.00000\n",
      "epoch       2.500 | loss_total     0.96552 | train_MAE     0.77811 | valid_MAE     0.79244 | grad_wrt_mu     0.17253 | grad_wrt_b_per_user     0.00162 | grad_wrt_c_per_item     0.00089 | grad_wrt_U     0.00000 | grad_wrt_V     0.00000\n",
      "epoch       3.000 | loss_total     0.94540 | train_MAE     0.77243 | valid_MAE     0.78864 | grad_wrt_mu     0.64020 | grad_wrt_b_per_user     0.00143 | grad_wrt_c_per_item     0.00078 | grad_wrt_U     0.00000 | grad_wrt_V     0.00000\n",
      "epoch       3.500 | loss_total     0.92740 | train_MAE     0.76086 | valid_MAE     0.77732 | grad_wrt_mu     0.23197 | grad_wrt_b_per_user     0.00152 | grad_wrt_c_per_item     0.00086 | grad_wrt_U     0.00000 | grad_wrt_V     0.00000\n",
      "epoch       4.000 | loss_total     0.91886 | train_MAE     0.75442 | valid_MAE     0.77103 | grad_wrt_mu     0.32096 | grad_wrt_b_per_user     0.00158 | grad_wrt_c_per_item     0.00096 | grad_wrt_U     0.00000 | grad_wrt_V     0.00000\n",
      "epoch       4.500 | loss_total     0.91808 | train_MAE     0.75363 | valid_MAE     0.77207 | grad_wrt_mu     0.15885 | grad_wrt_b_per_user     0.00150 | grad_wrt_c_per_item     0.00079 | grad_wrt_U     0.00000 | grad_wrt_V     0.00000\n",
      "epoch       5.000 | loss_total     0.90231 | train_MAE     0.75073 | valid_MAE     0.76974 | grad_wrt_mu     0.14884 | grad_wrt_b_per_user     0.00173 | grad_wrt_c_per_item     0.00096 | grad_wrt_U     0.00000 | grad_wrt_V     0.00000\n",
      "epoch       5.500 | loss_total     0.89428 | train_MAE     0.74499 | valid_MAE     0.76351 | grad_wrt_mu     0.28575 | grad_wrt_b_per_user     0.00155 | grad_wrt_c_per_item     0.00091 | grad_wrt_U     0.00000 | grad_wrt_V     0.00000\n",
      "epoch       6.000 | loss_total     0.89101 | train_MAE     0.75005 | valid_MAE     0.77125 | grad_wrt_mu     0.10110 | grad_wrt_b_per_user     0.00168 | grad_wrt_c_per_item     0.00096 | grad_wrt_U     0.00000 | grad_wrt_V     0.00000\n",
      "epoch       6.500 | loss_total     0.88291 | train_MAE     0.74298 | valid_MAE     0.76383 | grad_wrt_mu     0.37165 | grad_wrt_b_per_user     0.00177 | grad_wrt_c_per_item     0.00099 | grad_wrt_U     0.00000 | grad_wrt_V     0.00000\n",
      "epoch       7.000 | loss_total     0.88194 | train_MAE     0.73874 | valid_MAE     0.75943 | grad_wrt_mu     0.06861 | grad_wrt_b_per_user     0.00149 | grad_wrt_c_per_item     0.00082 | grad_wrt_U     0.00000 | grad_wrt_V     0.00000\n",
      "epoch       7.500 | loss_total     0.87931 | train_MAE     0.73945 | valid_MAE     0.76098 | grad_wrt_mu     0.05829 | grad_wrt_b_per_user     0.00159 | grad_wrt_c_per_item     0.00091 | grad_wrt_U     0.00000 | grad_wrt_V     0.00000\n",
      "epoch       8.000 | loss_total     0.87533 | train_MAE     0.73793 | valid_MAE     0.76021 | grad_wrt_mu     0.37801 | grad_wrt_b_per_user     0.00159 | grad_wrt_c_per_item     0.00085 | grad_wrt_U     0.00000 | grad_wrt_V     0.00000\n",
      "epoch       9.000 | loss_total     0.87038 | train_MAE     0.73312 | valid_MAE     0.75525 | grad_wrt_mu     0.07355 | grad_wrt_b_per_user     0.00172 | grad_wrt_c_per_item     0.00094 | grad_wrt_U     0.00000 | grad_wrt_V     0.00000\n",
      "epoch       9.999 | loss_total     0.86585 | train_MAE     0.73210 | valid_MAE     0.75535 | grad_wrt_mu     0.36275 | grad_wrt_b_per_user     0.00165 | grad_wrt_c_per_item     0.00095 | grad_wrt_U     0.00000 | grad_wrt_V     0.00000\n"
     ]
    }
   ],
   "source": [
    "train_tuple, valid_tuple, test_tuple, n_users, n_items = load_train_valid_test_datasets()\n",
    "model = CollabFilterOneVectorPerItem(n_epochs=10, batch_size=50, step_size=0.1, n_factors = 50, alpha=0.001)\n",
    "model.init_parameter_dict(n_users, n_items, train_tuple)\n",
    "model.fit(train_tuple, valid_tuple)"
   ]
  },
  {
   "cell_type": "code",
   "execution_count": 47,
   "metadata": {},
   "outputs": [],
   "source": [
    "# Extract user_ids and item_ids from the leaderboard data\n",
    "user_ids = leaderboard_data['user_id'].to_numpy()\n",
    "item_ids = leaderboard_data['item_id'].to_numpy()\n",
    "\n",
    "# Call the provided prediction function using these user_ids and item_ids\n",
    "# Assuming the model parameters (mu, b_per_user, c_per_item, U, V) are defined or loaded\n",
    "predictions = model.predict(user_ids, item_ids)\n",
    "\n",
    "# Save the predictions to a text file\n",
    "with open(\"predicted_ratings_leaderboard2.txt\", \"w\") as f:\n",
    "    for pred in predictions:\n",
    "        f.write(f\"{pred}\\n\")"
   ]
  }
 ],
 "metadata": {
  "accelerator": "GPU",
  "colab": {
   "collapsed_sections": [],
   "name": "Recommendation_System.ipynb",
   "provenance": []
  },
  "kernelspec": {
   "display_name": "Python 3",
   "name": "python3"
  },
  "language_info": {
   "codemirror_mode": {
    "name": "ipython",
    "version": 3
   },
   "file_extension": ".py",
   "mimetype": "text/x-python",
   "name": "python",
   "nbconvert_exporter": "python",
   "pygments_lexer": "ipython3",
   "version": "3.10.14"
  },
  "widgets": {
   "application/vnd.jupyter.widget-state+json": {
    "005a499c40bd407ca20c2492d9c4f170": {
     "model_module": "@jupyter-widgets/base",
     "model_name": "LayoutModel",
     "state": {
      "_model_module": "@jupyter-widgets/base",
      "_model_module_version": "1.2.0",
      "_model_name": "LayoutModel",
      "_view_count": null,
      "_view_module": "@jupyter-widgets/base",
      "_view_module_version": "1.2.0",
      "_view_name": "LayoutView",
      "align_content": null,
      "align_items": null,
      "align_self": null,
      "border": null,
      "bottom": null,
      "display": null,
      "flex": null,
      "flex_flow": null,
      "grid_area": null,
      "grid_auto_columns": null,
      "grid_auto_flow": null,
      "grid_auto_rows": null,
      "grid_column": null,
      "grid_gap": null,
      "grid_row": null,
      "grid_template_areas": null,
      "grid_template_columns": null,
      "grid_template_rows": null,
      "height": null,
      "justify_content": null,
      "justify_items": null,
      "left": null,
      "margin": null,
      "max_height": null,
      "max_width": null,
      "min_height": null,
      "min_width": null,
      "object_fit": null,
      "object_position": null,
      "order": null,
      "overflow": null,
      "overflow_x": null,
      "overflow_y": null,
      "padding": null,
      "right": null,
      "top": null,
      "visibility": null,
      "width": null
     }
    },
    "20b4738815cd467dba2946031d6d9027": {
     "model_module": "@jupyter-widgets/base",
     "model_name": "LayoutModel",
     "state": {
      "_model_module": "@jupyter-widgets/base",
      "_model_module_version": "1.2.0",
      "_model_name": "LayoutModel",
      "_view_count": null,
      "_view_module": "@jupyter-widgets/base",
      "_view_module_version": "1.2.0",
      "_view_name": "LayoutView",
      "align_content": null,
      "align_items": null,
      "align_self": null,
      "border": null,
      "bottom": null,
      "display": null,
      "flex": null,
      "flex_flow": null,
      "grid_area": null,
      "grid_auto_columns": null,
      "grid_auto_flow": null,
      "grid_auto_rows": null,
      "grid_column": null,
      "grid_gap": null,
      "grid_row": null,
      "grid_template_areas": null,
      "grid_template_columns": null,
      "grid_template_rows": null,
      "height": null,
      "justify_content": null,
      "justify_items": null,
      "left": null,
      "margin": null,
      "max_height": null,
      "max_width": null,
      "min_height": null,
      "min_width": null,
      "object_fit": null,
      "object_position": null,
      "order": null,
      "overflow": null,
      "overflow_x": null,
      "overflow_y": null,
      "padding": null,
      "right": null,
      "top": null,
      "visibility": null,
      "width": null
     }
    },
    "3c1765cabeaf4d75a130311ddc4591a1": {
     "model_module": "@jupyter-widgets/controls",
     "model_name": "HBoxModel",
     "state": {
      "_dom_classes": [],
      "_model_module": "@jupyter-widgets/controls",
      "_model_module_version": "1.5.0",
      "_model_name": "HBoxModel",
      "_view_count": null,
      "_view_module": "@jupyter-widgets/controls",
      "_view_module_version": "1.5.0",
      "_view_name": "HBoxView",
      "box_style": "",
      "children": [
       "IPY_MODEL_69073fd458234bba829af9731b4fce1c",
       "IPY_MODEL_88151edb53134487b95f6bcbcd7fd2b4"
      ],
      "layout": "IPY_MODEL_6db170b52f5a4f72afd083a3a9c157aa"
     }
    },
    "69073fd458234bba829af9731b4fce1c": {
     "model_module": "@jupyter-widgets/controls",
     "model_name": "FloatProgressModel",
     "state": {
      "_dom_classes": [],
      "_model_module": "@jupyter-widgets/controls",
      "_model_module_version": "1.5.0",
      "_model_name": "FloatProgressModel",
      "_view_count": null,
      "_view_module": "@jupyter-widgets/controls",
      "_view_module_version": "1.5.0",
      "_view_name": "ProgressView",
      "bar_style": "success",
      "description": "100%",
      "description_tooltip": null,
      "layout": "IPY_MODEL_20b4738815cd467dba2946031d6d9027",
      "max": 128,
      "min": 0,
      "orientation": "horizontal",
      "style": "IPY_MODEL_9b185906b1dc465e93b9f058a1fec47a",
      "value": 128
     }
    },
    "6db170b52f5a4f72afd083a3a9c157aa": {
     "model_module": "@jupyter-widgets/base",
     "model_name": "LayoutModel",
     "state": {
      "_model_module": "@jupyter-widgets/base",
      "_model_module_version": "1.2.0",
      "_model_name": "LayoutModel",
      "_view_count": null,
      "_view_module": "@jupyter-widgets/base",
      "_view_module_version": "1.2.0",
      "_view_name": "LayoutView",
      "align_content": null,
      "align_items": null,
      "align_self": null,
      "border": null,
      "bottom": null,
      "display": null,
      "flex": null,
      "flex_flow": null,
      "grid_area": null,
      "grid_auto_columns": null,
      "grid_auto_flow": null,
      "grid_auto_rows": null,
      "grid_column": null,
      "grid_gap": null,
      "grid_row": null,
      "grid_template_areas": null,
      "grid_template_columns": null,
      "grid_template_rows": null,
      "height": null,
      "justify_content": null,
      "justify_items": null,
      "left": null,
      "margin": null,
      "max_height": null,
      "max_width": null,
      "min_height": null,
      "min_width": null,
      "object_fit": null,
      "object_position": null,
      "order": null,
      "overflow": null,
      "overflow_x": null,
      "overflow_y": null,
      "padding": null,
      "right": null,
      "top": null,
      "visibility": null,
      "width": null
     }
    },
    "88151edb53134487b95f6bcbcd7fd2b4": {
     "model_module": "@jupyter-widgets/controls",
     "model_name": "HTMLModel",
     "state": {
      "_dom_classes": [],
      "_model_module": "@jupyter-widgets/controls",
      "_model_module_version": "1.5.0",
      "_model_name": "HTMLModel",
      "_view_count": null,
      "_view_module": "@jupyter-widgets/controls",
      "_view_module_version": "1.5.0",
      "_view_name": "HTMLView",
      "description": "",
      "description_tooltip": null,
      "layout": "IPY_MODEL_005a499c40bd407ca20c2492d9c4f170",
      "placeholder": "​",
      "style": "IPY_MODEL_c279f9a0a0fe498b9db167a237517e6e",
      "value": " 128/128 [03:03&lt;00:00,  1.44s/it]"
     }
    },
    "9b185906b1dc465e93b9f058a1fec47a": {
     "model_module": "@jupyter-widgets/controls",
     "model_name": "ProgressStyleModel",
     "state": {
      "_model_module": "@jupyter-widgets/controls",
      "_model_module_version": "1.5.0",
      "_model_name": "ProgressStyleModel",
      "_view_count": null,
      "_view_module": "@jupyter-widgets/base",
      "_view_module_version": "1.2.0",
      "_view_name": "StyleView",
      "bar_color": null,
      "description_width": "initial"
     }
    },
    "c279f9a0a0fe498b9db167a237517e6e": {
     "model_module": "@jupyter-widgets/controls",
     "model_name": "DescriptionStyleModel",
     "state": {
      "_model_module": "@jupyter-widgets/controls",
      "_model_module_version": "1.5.0",
      "_model_name": "DescriptionStyleModel",
      "_view_count": null,
      "_view_module": "@jupyter-widgets/base",
      "_view_module_version": "1.2.0",
      "_view_name": "StyleView",
      "description_width": ""
     }
    }
   }
  }
 },
 "nbformat": 4,
 "nbformat_minor": 0
}
