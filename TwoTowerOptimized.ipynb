{
 "cells": [
  {
   "cell_type": "code",
   "execution_count": 58,
   "metadata": {},
   "outputs": [],
   "source": [
    "import pandas as pd\n",
    "import numpy as np\n",
    "import itertools\n",
    "from sklearn.model_selection import train_test_split\n",
    "from sklearn.preprocessing import LabelEncoder\n",
    "from tensorflow.keras.layers import Input, Embedding, Flatten, Dot, Dense\n",
    "from tensorflow.keras.models import Model\n",
    "from tensorflow.keras.callbacks import EarlyStopping"
   ]
  },
  {
   "cell_type": "code",
   "execution_count": 59,
   "metadata": {},
   "outputs": [],
   "source": [
    "movies_df = pd.read_csv('/Users/brandonmukadziwashe/CS135/cs135-24f-assignments/CS-135-Project-B/data_movie_lens_100k/movie_info.csv')\n",
    "ratings_df = pd.read_csv('/Users/brandonmukadziwashe/CS135/cs135-24f-assignments/CS-135-Project-B/data_movie_lens_100k/ratings_all_development_set.csv')\n",
    "ratings_df = ratings_df.rename(columns={'user_id': 'userId', 'item_id': 'movieId'})\n",
    "movies_df = movies_df.rename(columns={'item_id': 'movieId'})\n",
    "leaderboard_data = pd.read_csv('/Users/brandonmukadziwashe/CS135/cs135-24f-assignments/CS-135-Project-B/data_movie_lens_100k/ratings_masked_leaderboard_set.csv') "
   ]
  },
  {
   "cell_type": "code",
   "execution_count": 60,
   "metadata": {},
   "outputs": [],
   "source": [
    "# Ensure required columns exist\n",
    "assert 'userId' in ratings_df.columns and 'movieId' in ratings_df.columns and 'rating' in ratings_df.columns\n",
    "\n",
    "# Encode user and movie IDs\n",
    "user_encoder = LabelEncoder()\n",
    "ratings_df['user_id_encoded'] = user_encoder.fit_transform(ratings_df['userId'])\n",
    "\n",
    "movie_encoder = LabelEncoder()\n",
    "ratings_df['movie_id_encoded'] = movie_encoder.fit_transform(ratings_df['movieId'])"
   ]
  },
  {
   "cell_type": "code",
   "execution_count": 61,
   "metadata": {},
   "outputs": [],
   "source": [
    "# Copy the dataset and split into train and test sets\n",
    "df = ratings_df.copy()\n",
    "train, test = train_test_split(df, test_size=0.2, random_state=42)\n",
    "\n",
    "# Convert columns to NumPy arrays\n",
    "train_user_ids = np.array(train['user_id_encoded'].values)\n",
    "train_movie_ids = np.array(train['movie_id_encoded'].values)\n",
    "train_ratings = np.array(train['rating'].values)\n",
    "\n",
    "test_user_ids = np.array(test['user_id_encoded'].values)\n",
    "test_movie_ids = np.array(test['movie_id_encoded'].values)\n",
    "test_ratings = np.array(test['rating'].values)"
   ]
  },
  {
   "cell_type": "code",
   "execution_count": 62,
   "metadata": {},
   "outputs": [],
   "source": [
    "# Define the number of unique users, movies, and embedding dimensions\n",
    "num_users = df['user_id_encoded'].nunique()\n",
    "num_movies = df['movie_id_encoded'].nunique()\n",
    "embedding_dim = 128\n",
    "\n",
    "# Define the model\n",
    "# User input and embedding\n",
    "user_input = Input(shape=(1,), name='user_input')\n",
    "user_embedding = Embedding(input_dim=num_users, output_dim=embedding_dim, name='user_embedding')(user_input)\n",
    "user_embedding = Flatten()(user_embedding)\n",
    "\n",
    "# Movie input and embedding\n",
    "movie_input = Input(shape=(1,), name='movie_input')\n",
    "movie_embedding = Embedding(input_dim=num_movies, output_dim=embedding_dim, name='movie_embedding')(movie_input)\n",
    "movie_embedding = Flatten()(movie_embedding)\n",
    "\n",
    "# Dot product of embeddings and output layer\n",
    "dot_product = Dot(axes=1)([user_embedding, movie_embedding])\n",
    "output = Dense(1, activation='linear')(dot_product)"
   ]
  },
  {
   "cell_type": "code",
   "execution_count": 65,
   "metadata": {},
   "outputs": [
    {
     "name": "stdout",
     "output_type": "stream",
     "text": [
      "Epoch 1/6\n",
      "\u001b[1m282/282\u001b[0m \u001b[32m━━━━━━━━━━━━━━━━━━━━\u001b[0m\u001b[37m\u001b[0m \u001b[1m1s\u001b[0m 2ms/step - loss: 0.5258 - val_loss: 0.7372\n",
      "Epoch 2/6\n",
      "\u001b[1m282/282\u001b[0m \u001b[32m━━━━━━━━━━━━━━━━━━━━\u001b[0m\u001b[37m\u001b[0m \u001b[1m1s\u001b[0m 2ms/step - loss: 0.4791 - val_loss: 0.7431\n",
      "Epoch 3/6\n",
      "\u001b[1m282/282\u001b[0m \u001b[32m━━━━━━━━━━━━━━━━━━━━\u001b[0m\u001b[37m\u001b[0m \u001b[1m1s\u001b[0m 3ms/step - loss: 0.4326 - val_loss: 0.7459\n",
      "Epoch 4/6\n",
      "\u001b[1m282/282\u001b[0m \u001b[32m━━━━━━━━━━━━━━━━━━━━\u001b[0m\u001b[37m\u001b[0m \u001b[1m1s\u001b[0m 3ms/step - loss: 0.3928 - val_loss: 0.7543\n"
     ]
    }
   ],
   "source": [
    "# Compile the model\n",
    "model = Model(inputs=[user_input, movie_input], outputs=output)\n",
    "model.compile(optimizer='adam', loss='mae')\n",
    "\n",
    "# Add early stopping\n",
    "early_stopping = EarlyStopping(monitor='val_loss', patience=3, restore_best_weights=True)\n",
    "\n",
    "# Train the model\n",
    "history = model.fit(\n",
    "    [train_user_ids, train_movie_ids], train_ratings,\n",
    "    epochs=6,\n",
    "    batch_size=256,\n",
    "    validation_data=([test_user_ids, test_movie_ids], test_ratings),\n",
    "    callbacks=[early_stopping]\n",
    ")"
   ]
  },
  {
   "cell_type": "code",
   "execution_count": 68,
   "metadata": {},
   "outputs": [
    {
     "name": "stdout",
     "output_type": "stream",
     "text": [
      "\u001b[1m563/563\u001b[0m \u001b[32m━━━━━━━━━━━━━━━━━━━━\u001b[0m\u001b[37m\u001b[0m \u001b[1m0s\u001b[0m 495us/step - loss: 0.7404\n",
      "Test loss (MAE): 0.7371749877929688\n",
      "\u001b[1m563/563\u001b[0m \u001b[32m━━━━━━━━━━━━━━━━━━━━\u001b[0m\u001b[37m\u001b[0m \u001b[1m0s\u001b[0m 538us/step\n"
     ]
    }
   ],
   "source": [
    "# Evaluate the model\n",
    "test_loss = model.evaluate([test_user_ids, test_movie_ids], test_ratings)\n",
    "print(f\"Test loss (MAE): {test_loss}\")\n",
    "\n",
    "# Predict ratings for the test set\n",
    "test_predictions = model.predict([test_user_ids, test_movie_ids])"
   ]
  },
  {
   "cell_type": "code",
   "execution_count": 70,
   "metadata": {},
   "outputs": [],
   "source": [
    "# Create a DataFrame with predictions\n",
    "test_results = pd.DataFrame({\n",
    "    'original_user_id': test['userId'],\n",
    "    'original_movie_id': test['movieId'],\n",
    "    'actual_rating': test_ratings,\n",
    "    'predicted_rating': test_predictions.flatten()\n",
    "})\n",
    "test_results['rating_difference'] = abs(test_results['actual_rating'] - test_results['predicted_rating'])"
   ]
  },
  {
   "cell_type": "code",
   "execution_count": 71,
   "metadata": {},
   "outputs": [
    {
     "name": "stdout",
     "output_type": "stream",
     "text": [
      "Predictions for user 772, ordered by closest rating difference:\n",
      "       original_user_id  original_movie_id  actual_rating  predicted_rating  \\\n",
      "76753               772                230              2          1.981099   \n",
      "10398               772                946              2          1.887526   \n",
      "67026               772                893              2          2.120056   \n",
      "525                 772                175              4          4.147466   \n",
      "74901               772                187              3          3.206115   \n",
      "21632               772                284              3          3.616620   \n",
      "89978               772                728              3          3.672862   \n",
      "62191               772                917              5          4.233611   \n",
      "89249               772                391              2          2.768553   \n",
      "8138                772                431              3          3.794891   \n",
      "56211               772                170              5          4.195143   \n",
      "44904               772                 69              3          3.845537   \n",
      "70790               772               1034              3          2.137603   \n",
      "26294               772                401              2          2.910396   \n",
      "13524               772                565              2          2.939726   \n",
      "71188               772                183              2          3.194508   \n",
      "19940               772               1019              5          3.797695   \n",
      "74708               772                126              5          3.692650   \n",
      "63078               772                180              5          3.512288   \n",
      "38949               772                 95              2          3.500315   \n",
      "57334               772                  6              2          3.566991   \n",
      "78013               772                257              5          3.221922   \n",
      "89032               772                922              1          3.087924   \n",
      "\n",
      "       rating_difference  \n",
      "76753           0.018901  \n",
      "10398           0.112474  \n",
      "67026           0.120056  \n",
      "525             0.147466  \n",
      "74901           0.206115  \n",
      "21632           0.616620  \n",
      "89978           0.672862  \n",
      "62191           0.766389  \n",
      "89249           0.768553  \n",
      "8138            0.794891  \n",
      "56211           0.804857  \n",
      "44904           0.845537  \n",
      "70790           0.862397  \n",
      "26294           0.910396  \n",
      "13524           0.939726  \n",
      "71188           1.194508  \n",
      "19940           1.202305  \n",
      "74708           1.307350  \n",
      "63078           1.487712  \n",
      "38949           1.500315  \n",
      "57334           1.566991  \n",
      "78013           1.778078  \n",
      "89032           2.087924  \n"
     ]
    }
   ],
   "source": [
    "# Filter results for a specific user and sort by rating difference\n",
    "filter_user_id = 772  # Replace with your desired user ID\n",
    "filtered_results = test_results[test_results['original_user_id'] == filter_user_id]\n",
    "filtered_results_sorted = filtered_results.sort_values(by='rating_difference')\n",
    "\n",
    "print(f\"Predictions for user {filter_user_id}, ordered by closest rating difference:\")\n",
    "print(filtered_results_sorted)"
   ]
  },
  {
   "cell_type": "code",
   "execution_count": 69,
   "metadata": {},
   "outputs": [],
   "source": [
    "# Load leaderboard data\n",
    "leaderboard_data = pd.read_csv('/Users/brandonmukadziwashe/CS135/cs135-24f-assignments/CS-135-Project-B/data_movie_lens_100k/ratings_masked_leaderboard_set.csv')  # Replace with your leaderboard file path\n",
    "assert 'user_id' in leaderboard_data.columns and 'item_id' in leaderboard_data.columns\n",
    "\n",
    "# Handle unseen user and movie IDs using mapping\n",
    "user_mapping = dict(zip(user_encoder.classes_, user_encoder.transform(user_encoder.classes_)))\n",
    "movie_mapping = dict(zip(movie_encoder.classes_, movie_encoder.transform(movie_encoder.classes_)))\n",
    "\n",
    "# Map user and movie IDs, assigning unseen IDs to placeholder index\n",
    "leaderboard_data['user_id_encoded'] = leaderboard_data['user_id'].map(\n",
    "    lambda x: user_mapping.get(x, num_users)\n",
    ").astype(int)\n",
    "\n",
    "leaderboard_data['item_id_encoded'] = leaderboard_data['item_id'].map(\n",
    "    lambda x: movie_mapping.get(x, num_movies)\n",
    ").astype(int)"
   ]
  },
  {
   "cell_type": "code",
   "execution_count": 73,
   "metadata": {},
   "outputs": [
    {
     "name": "stdout",
     "output_type": "stream",
     "text": [
      "\u001b[1m  1/313\u001b[0m \u001b[37m━━━━━━━━━━━━━━━━━━━━\u001b[0m \u001b[1m4s\u001b[0m 14ms/step"
     ]
    },
    {
     "name": "stderr",
     "output_type": "stream",
     "text": [
      "2024-12-10 13:51:53.247407: I tensorflow/core/framework/local_rendezvous.cc:405] Local rendezvous is aborting with status: INVALID_ARGUMENT: indices[28,0] = 1662 is not in [0, 1662)\n",
      "\t [[{{node functional_6_1/movie_embedding_1/GatherV2}}]]\n"
     ]
    },
    {
     "ename": "InvalidArgumentError",
     "evalue": "Graph execution error:\n\nDetected at node functional_6_1/movie_embedding_1/GatherV2 defined at (most recent call last):\n  File \"/Users/brandonmukadziwashe/micromamba/envs/cs135_env/lib/python3.10/runpy.py\", line 196, in _run_module_as_main\n\n  File \"/Users/brandonmukadziwashe/micromamba/envs/cs135_env/lib/python3.10/runpy.py\", line 86, in _run_code\n\n  File \"/Users/brandonmukadziwashe/micromamba/envs/cs135_env/lib/python3.10/site-packages/ipykernel_launcher.py\", line 17, in <module>\n\n  File \"/Users/brandonmukadziwashe/micromamba/envs/cs135_env/lib/python3.10/site-packages/traitlets/config/application.py\", line 1075, in launch_instance\n\n  File \"/Users/brandonmukadziwashe/micromamba/envs/cs135_env/lib/python3.10/site-packages/ipykernel/kernelapp.py\", line 701, in start\n\n  File \"/Users/brandonmukadziwashe/micromamba/envs/cs135_env/lib/python3.10/site-packages/tornado/platform/asyncio.py\", line 205, in start\n\n  File \"/Users/brandonmukadziwashe/micromamba/envs/cs135_env/lib/python3.10/asyncio/base_events.py\", line 603, in run_forever\n\n  File \"/Users/brandonmukadziwashe/micromamba/envs/cs135_env/lib/python3.10/asyncio/base_events.py\", line 1909, in _run_once\n\n  File \"/Users/brandonmukadziwashe/micromamba/envs/cs135_env/lib/python3.10/asyncio/events.py\", line 80, in _run\n\n  File \"/Users/brandonmukadziwashe/micromamba/envs/cs135_env/lib/python3.10/site-packages/ipykernel/kernelbase.py\", line 534, in dispatch_queue\n\n  File \"/Users/brandonmukadziwashe/micromamba/envs/cs135_env/lib/python3.10/site-packages/ipykernel/kernelbase.py\", line 523, in process_one\n\n  File \"/Users/brandonmukadziwashe/micromamba/envs/cs135_env/lib/python3.10/site-packages/ipykernel/kernelbase.py\", line 429, in dispatch_shell\n\n  File \"/Users/brandonmukadziwashe/micromamba/envs/cs135_env/lib/python3.10/site-packages/ipykernel/kernelbase.py\", line 767, in execute_request\n\n  File \"/Users/brandonmukadziwashe/micromamba/envs/cs135_env/lib/python3.10/site-packages/ipykernel/ipkernel.py\", line 429, in do_execute\n\n  File \"/Users/brandonmukadziwashe/micromamba/envs/cs135_env/lib/python3.10/site-packages/ipykernel/zmqshell.py\", line 549, in run_cell\n\n  File \"/Users/brandonmukadziwashe/micromamba/envs/cs135_env/lib/python3.10/site-packages/IPython/core/interactiveshell.py\", line 3075, in run_cell\n\n  File \"/Users/brandonmukadziwashe/micromamba/envs/cs135_env/lib/python3.10/site-packages/IPython/core/interactiveshell.py\", line 3130, in _run_cell\n\n  File \"/Users/brandonmukadziwashe/micromamba/envs/cs135_env/lib/python3.10/site-packages/IPython/core/async_helpers.py\", line 129, in _pseudo_sync_runner\n\n  File \"/Users/brandonmukadziwashe/micromamba/envs/cs135_env/lib/python3.10/site-packages/IPython/core/interactiveshell.py\", line 3334, in run_cell_async\n\n  File \"/Users/brandonmukadziwashe/micromamba/envs/cs135_env/lib/python3.10/site-packages/IPython/core/interactiveshell.py\", line 3517, in run_ast_nodes\n\n  File \"/Users/brandonmukadziwashe/micromamba/envs/cs135_env/lib/python3.10/site-packages/IPython/core/interactiveshell.py\", line 3577, in run_code\n\n  File \"/var/folders/4x/dslp7kh9487bqqc43wmz_bpm0000gn/T/ipykernel_58506/2803044761.py\", line 6, in <module>\n\n  File \"/Users/brandonmukadziwashe/micromamba/envs/cs135_env/lib/python3.10/site-packages/keras/src/utils/traceback_utils.py\", line 117, in error_handler\n\n  File \"/Users/brandonmukadziwashe/micromamba/envs/cs135_env/lib/python3.10/site-packages/keras/src/backend/tensorflow/trainer.py\", line 559, in predict\n\n  File \"/Users/brandonmukadziwashe/micromamba/envs/cs135_env/lib/python3.10/site-packages/keras/src/backend/tensorflow/trainer.py\", line 256, in one_step_on_data_distributed\n\n  File \"/Users/brandonmukadziwashe/micromamba/envs/cs135_env/lib/python3.10/site-packages/keras/src/backend/tensorflow/trainer.py\", line 246, in one_step_on_data\n\n  File \"/Users/brandonmukadziwashe/micromamba/envs/cs135_env/lib/python3.10/site-packages/keras/src/backend/tensorflow/trainer.py\", line 101, in predict_step\n\n  File \"/Users/brandonmukadziwashe/micromamba/envs/cs135_env/lib/python3.10/site-packages/keras/src/utils/traceback_utils.py\", line 117, in error_handler\n\n  File \"/Users/brandonmukadziwashe/micromamba/envs/cs135_env/lib/python3.10/site-packages/keras/src/layers/layer.py\", line 899, in __call__\n\n  File \"/Users/brandonmukadziwashe/micromamba/envs/cs135_env/lib/python3.10/site-packages/keras/src/utils/traceback_utils.py\", line 117, in error_handler\n\n  File \"/Users/brandonmukadziwashe/micromamba/envs/cs135_env/lib/python3.10/site-packages/keras/src/ops/operation.py\", line 46, in __call__\n\n  File \"/Users/brandonmukadziwashe/micromamba/envs/cs135_env/lib/python3.10/site-packages/keras/src/utils/traceback_utils.py\", line 156, in error_handler\n\n  File \"/Users/brandonmukadziwashe/micromamba/envs/cs135_env/lib/python3.10/site-packages/keras/src/models/functional.py\", line 182, in call\n\n  File \"/Users/brandonmukadziwashe/micromamba/envs/cs135_env/lib/python3.10/site-packages/keras/src/ops/function.py\", line 171, in _run_through_graph\n\n  File \"/Users/brandonmukadziwashe/micromamba/envs/cs135_env/lib/python3.10/site-packages/keras/src/models/functional.py\", line 632, in call\n\n  File \"/Users/brandonmukadziwashe/micromamba/envs/cs135_env/lib/python3.10/site-packages/keras/src/utils/traceback_utils.py\", line 117, in error_handler\n\n  File \"/Users/brandonmukadziwashe/micromamba/envs/cs135_env/lib/python3.10/site-packages/keras/src/layers/layer.py\", line 899, in __call__\n\n  File \"/Users/brandonmukadziwashe/micromamba/envs/cs135_env/lib/python3.10/site-packages/keras/src/utils/traceback_utils.py\", line 117, in error_handler\n\n  File \"/Users/brandonmukadziwashe/micromamba/envs/cs135_env/lib/python3.10/site-packages/keras/src/ops/operation.py\", line 46, in __call__\n\n  File \"/Users/brandonmukadziwashe/micromamba/envs/cs135_env/lib/python3.10/site-packages/keras/src/utils/traceback_utils.py\", line 156, in error_handler\n\n  File \"/Users/brandonmukadziwashe/micromamba/envs/cs135_env/lib/python3.10/site-packages/keras/src/layers/core/embedding.py\", line 140, in call\n\n  File \"/Users/brandonmukadziwashe/micromamba/envs/cs135_env/lib/python3.10/site-packages/keras/src/ops/numpy.py\", line 5239, in take\n\n  File \"/Users/brandonmukadziwashe/micromamba/envs/cs135_env/lib/python3.10/site-packages/keras/src/backend/tensorflow/numpy.py\", line 2063, in take\n\nindices[28,0] = 1662 is not in [0, 1662)\n\t [[{{node functional_6_1/movie_embedding_1/GatherV2}}]] [Op:__inference_one_step_on_data_distributed_95836]",
     "output_type": "error",
     "traceback": [
      "\u001b[0;31m---------------------------------------------------------------------------\u001b[0m",
      "\u001b[0;31mInvalidArgumentError\u001b[0m                      Traceback (most recent call last)",
      "Cell \u001b[0;32mIn[73], line 3\u001b[0m\n\u001b[1;32m      1\u001b[0m user_ids \u001b[38;5;241m=\u001b[39m leaderboard_data[\u001b[38;5;124m'\u001b[39m\u001b[38;5;124muser_id_encoded\u001b[39m\u001b[38;5;124m'\u001b[39m]\u001b[38;5;241m.\u001b[39mvalues\n\u001b[1;32m      2\u001b[0m item_ids \u001b[38;5;241m=\u001b[39m leaderboard_data[\u001b[38;5;124m'\u001b[39m\u001b[38;5;124mitem_id_encoded\u001b[39m\u001b[38;5;124m'\u001b[39m]\u001b[38;5;241m.\u001b[39mvalues\n\u001b[0;32m----> 3\u001b[0m predictions \u001b[38;5;241m=\u001b[39m \u001b[43mmodel\u001b[49m\u001b[38;5;241;43m.\u001b[39;49m\u001b[43mpredict\u001b[49m\u001b[43m(\u001b[49m\u001b[43m[\u001b[49m\u001b[43muser_ids\u001b[49m\u001b[43m,\u001b[49m\u001b[43m \u001b[49m\u001b[43mitem_ids\u001b[49m\u001b[43m]\u001b[49m\u001b[43m)\u001b[49m\u001b[38;5;241m.\u001b[39mflatten()\n\u001b[1;32m      5\u001b[0m \u001b[38;5;66;03m# Save leaderboard predictions to a file\u001b[39;00m\n\u001b[1;32m      6\u001b[0m \u001b[38;5;28;01mwith\u001b[39;00m \u001b[38;5;28mopen\u001b[39m(\u001b[38;5;124m\"\u001b[39m\u001b[38;5;124mpredicted_ratings_leaderboard3.txt\u001b[39m\u001b[38;5;124m\"\u001b[39m, \u001b[38;5;124m\"\u001b[39m\u001b[38;5;124mw\u001b[39m\u001b[38;5;124m\"\u001b[39m) \u001b[38;5;28;01mas\u001b[39;00m f:\n",
      "File \u001b[0;32m~/micromamba/envs/cs135_env/lib/python3.10/site-packages/keras/src/utils/traceback_utils.py:122\u001b[0m, in \u001b[0;36mfilter_traceback.<locals>.error_handler\u001b[0;34m(*args, **kwargs)\u001b[0m\n\u001b[1;32m    119\u001b[0m     filtered_tb \u001b[38;5;241m=\u001b[39m _process_traceback_frames(e\u001b[38;5;241m.\u001b[39m__traceback__)\n\u001b[1;32m    120\u001b[0m     \u001b[38;5;66;03m# To get the full stack trace, call:\u001b[39;00m\n\u001b[1;32m    121\u001b[0m     \u001b[38;5;66;03m# `keras.config.disable_traceback_filtering()`\u001b[39;00m\n\u001b[0;32m--> 122\u001b[0m     \u001b[38;5;28;01mraise\u001b[39;00m e\u001b[38;5;241m.\u001b[39mwith_traceback(filtered_tb) \u001b[38;5;28;01mfrom\u001b[39;00m \u001b[38;5;28;01mNone\u001b[39;00m\n\u001b[1;32m    123\u001b[0m \u001b[38;5;28;01mfinally\u001b[39;00m:\n\u001b[1;32m    124\u001b[0m     \u001b[38;5;28;01mdel\u001b[39;00m filtered_tb\n",
      "File \u001b[0;32m~/micromamba/envs/cs135_env/lib/python3.10/site-packages/tensorflow/python/eager/execute.py:53\u001b[0m, in \u001b[0;36mquick_execute\u001b[0;34m(op_name, num_outputs, inputs, attrs, ctx, name)\u001b[0m\n\u001b[1;32m     51\u001b[0m \u001b[38;5;28;01mtry\u001b[39;00m:\n\u001b[1;32m     52\u001b[0m   ctx\u001b[38;5;241m.\u001b[39mensure_initialized()\n\u001b[0;32m---> 53\u001b[0m   tensors \u001b[38;5;241m=\u001b[39m pywrap_tfe\u001b[38;5;241m.\u001b[39mTFE_Py_Execute(ctx\u001b[38;5;241m.\u001b[39m_handle, device_name, op_name,\n\u001b[1;32m     54\u001b[0m                                       inputs, attrs, num_outputs)\n\u001b[1;32m     55\u001b[0m \u001b[38;5;28;01mexcept\u001b[39;00m core\u001b[38;5;241m.\u001b[39m_NotOkStatusException \u001b[38;5;28;01mas\u001b[39;00m e:\n\u001b[1;32m     56\u001b[0m   \u001b[38;5;28;01mif\u001b[39;00m name \u001b[38;5;129;01mis\u001b[39;00m \u001b[38;5;129;01mnot\u001b[39;00m \u001b[38;5;28;01mNone\u001b[39;00m:\n",
      "\u001b[0;31mInvalidArgumentError\u001b[0m: Graph execution error:\n\nDetected at node functional_6_1/movie_embedding_1/GatherV2 defined at (most recent call last):\n  File \"/Users/brandonmukadziwashe/micromamba/envs/cs135_env/lib/python3.10/runpy.py\", line 196, in _run_module_as_main\n\n  File \"/Users/brandonmukadziwashe/micromamba/envs/cs135_env/lib/python3.10/runpy.py\", line 86, in _run_code\n\n  File \"/Users/brandonmukadziwashe/micromamba/envs/cs135_env/lib/python3.10/site-packages/ipykernel_launcher.py\", line 17, in <module>\n\n  File \"/Users/brandonmukadziwashe/micromamba/envs/cs135_env/lib/python3.10/site-packages/traitlets/config/application.py\", line 1075, in launch_instance\n\n  File \"/Users/brandonmukadziwashe/micromamba/envs/cs135_env/lib/python3.10/site-packages/ipykernel/kernelapp.py\", line 701, in start\n\n  File \"/Users/brandonmukadziwashe/micromamba/envs/cs135_env/lib/python3.10/site-packages/tornado/platform/asyncio.py\", line 205, in start\n\n  File \"/Users/brandonmukadziwashe/micromamba/envs/cs135_env/lib/python3.10/asyncio/base_events.py\", line 603, in run_forever\n\n  File \"/Users/brandonmukadziwashe/micromamba/envs/cs135_env/lib/python3.10/asyncio/base_events.py\", line 1909, in _run_once\n\n  File \"/Users/brandonmukadziwashe/micromamba/envs/cs135_env/lib/python3.10/asyncio/events.py\", line 80, in _run\n\n  File \"/Users/brandonmukadziwashe/micromamba/envs/cs135_env/lib/python3.10/site-packages/ipykernel/kernelbase.py\", line 534, in dispatch_queue\n\n  File \"/Users/brandonmukadziwashe/micromamba/envs/cs135_env/lib/python3.10/site-packages/ipykernel/kernelbase.py\", line 523, in process_one\n\n  File \"/Users/brandonmukadziwashe/micromamba/envs/cs135_env/lib/python3.10/site-packages/ipykernel/kernelbase.py\", line 429, in dispatch_shell\n\n  File \"/Users/brandonmukadziwashe/micromamba/envs/cs135_env/lib/python3.10/site-packages/ipykernel/kernelbase.py\", line 767, in execute_request\n\n  File \"/Users/brandonmukadziwashe/micromamba/envs/cs135_env/lib/python3.10/site-packages/ipykernel/ipkernel.py\", line 429, in do_execute\n\n  File \"/Users/brandonmukadziwashe/micromamba/envs/cs135_env/lib/python3.10/site-packages/ipykernel/zmqshell.py\", line 549, in run_cell\n\n  File \"/Users/brandonmukadziwashe/micromamba/envs/cs135_env/lib/python3.10/site-packages/IPython/core/interactiveshell.py\", line 3075, in run_cell\n\n  File \"/Users/brandonmukadziwashe/micromamba/envs/cs135_env/lib/python3.10/site-packages/IPython/core/interactiveshell.py\", line 3130, in _run_cell\n\n  File \"/Users/brandonmukadziwashe/micromamba/envs/cs135_env/lib/python3.10/site-packages/IPython/core/async_helpers.py\", line 129, in _pseudo_sync_runner\n\n  File \"/Users/brandonmukadziwashe/micromamba/envs/cs135_env/lib/python3.10/site-packages/IPython/core/interactiveshell.py\", line 3334, in run_cell_async\n\n  File \"/Users/brandonmukadziwashe/micromamba/envs/cs135_env/lib/python3.10/site-packages/IPython/core/interactiveshell.py\", line 3517, in run_ast_nodes\n\n  File \"/Users/brandonmukadziwashe/micromamba/envs/cs135_env/lib/python3.10/site-packages/IPython/core/interactiveshell.py\", line 3577, in run_code\n\n  File \"/var/folders/4x/dslp7kh9487bqqc43wmz_bpm0000gn/T/ipykernel_58506/2803044761.py\", line 6, in <module>\n\n  File \"/Users/brandonmukadziwashe/micromamba/envs/cs135_env/lib/python3.10/site-packages/keras/src/utils/traceback_utils.py\", line 117, in error_handler\n\n  File \"/Users/brandonmukadziwashe/micromamba/envs/cs135_env/lib/python3.10/site-packages/keras/src/backend/tensorflow/trainer.py\", line 559, in predict\n\n  File \"/Users/brandonmukadziwashe/micromamba/envs/cs135_env/lib/python3.10/site-packages/keras/src/backend/tensorflow/trainer.py\", line 256, in one_step_on_data_distributed\n\n  File \"/Users/brandonmukadziwashe/micromamba/envs/cs135_env/lib/python3.10/site-packages/keras/src/backend/tensorflow/trainer.py\", line 246, in one_step_on_data\n\n  File \"/Users/brandonmukadziwashe/micromamba/envs/cs135_env/lib/python3.10/site-packages/keras/src/backend/tensorflow/trainer.py\", line 101, in predict_step\n\n  File \"/Users/brandonmukadziwashe/micromamba/envs/cs135_env/lib/python3.10/site-packages/keras/src/utils/traceback_utils.py\", line 117, in error_handler\n\n  File \"/Users/brandonmukadziwashe/micromamba/envs/cs135_env/lib/python3.10/site-packages/keras/src/layers/layer.py\", line 899, in __call__\n\n  File \"/Users/brandonmukadziwashe/micromamba/envs/cs135_env/lib/python3.10/site-packages/keras/src/utils/traceback_utils.py\", line 117, in error_handler\n\n  File \"/Users/brandonmukadziwashe/micromamba/envs/cs135_env/lib/python3.10/site-packages/keras/src/ops/operation.py\", line 46, in __call__\n\n  File \"/Users/brandonmukadziwashe/micromamba/envs/cs135_env/lib/python3.10/site-packages/keras/src/utils/traceback_utils.py\", line 156, in error_handler\n\n  File \"/Users/brandonmukadziwashe/micromamba/envs/cs135_env/lib/python3.10/site-packages/keras/src/models/functional.py\", line 182, in call\n\n  File \"/Users/brandonmukadziwashe/micromamba/envs/cs135_env/lib/python3.10/site-packages/keras/src/ops/function.py\", line 171, in _run_through_graph\n\n  File \"/Users/brandonmukadziwashe/micromamba/envs/cs135_env/lib/python3.10/site-packages/keras/src/models/functional.py\", line 632, in call\n\n  File \"/Users/brandonmukadziwashe/micromamba/envs/cs135_env/lib/python3.10/site-packages/keras/src/utils/traceback_utils.py\", line 117, in error_handler\n\n  File \"/Users/brandonmukadziwashe/micromamba/envs/cs135_env/lib/python3.10/site-packages/keras/src/layers/layer.py\", line 899, in __call__\n\n  File \"/Users/brandonmukadziwashe/micromamba/envs/cs135_env/lib/python3.10/site-packages/keras/src/utils/traceback_utils.py\", line 117, in error_handler\n\n  File \"/Users/brandonmukadziwashe/micromamba/envs/cs135_env/lib/python3.10/site-packages/keras/src/ops/operation.py\", line 46, in __call__\n\n  File \"/Users/brandonmukadziwashe/micromamba/envs/cs135_env/lib/python3.10/site-packages/keras/src/utils/traceback_utils.py\", line 156, in error_handler\n\n  File \"/Users/brandonmukadziwashe/micromamba/envs/cs135_env/lib/python3.10/site-packages/keras/src/layers/core/embedding.py\", line 140, in call\n\n  File \"/Users/brandonmukadziwashe/micromamba/envs/cs135_env/lib/python3.10/site-packages/keras/src/ops/numpy.py\", line 5239, in take\n\n  File \"/Users/brandonmukadziwashe/micromamba/envs/cs135_env/lib/python3.10/site-packages/keras/src/backend/tensorflow/numpy.py\", line 2063, in take\n\nindices[28,0] = 1662 is not in [0, 1662)\n\t [[{{node functional_6_1/movie_embedding_1/GatherV2}}]] [Op:__inference_one_step_on_data_distributed_95836]"
     ]
    }
   ],
   "source": [
    "user_ids = leaderboard_data['user_id_encoded'].values\n",
    "item_ids = leaderboard_data['item_id_encoded'].values\n",
    "predictions = model.predict([user_ids, item_ids]).flatten()\n",
    "\n",
    "# Save leaderboard predictions to a file\n",
    "with open(\"predicted_ratings_leaderboard3.txt\", \"w\") as f:\n",
    "    for pred in predictions:\n",
    "        f.write(f\"{pred:.4f}\\n\")\n"
   ]
  },
  {
   "cell_type": "code",
   "execution_count": null,
   "metadata": {},
   "outputs": [],
   "source": [
    "# from tensorflow.keras.callbacks import EarlyStopping\n",
    "# from tensorflow.keras.models import Model\n",
    "# from tensorflow.keras.layers import Input, Embedding, Flatten, Dot, Dense\n",
    "# from sklearn.metrics import mean_absolute_error\n",
    "\n",
    "# def build_and_train_model(num_users, num_movies, embedding_dim, learning_rate, batch_size, epochs, patience):\n",
    "#     # Define the model\n",
    "#     user_input = Input(shape=(1,), name='user_input')\n",
    "#     user_embedding = Embedding(input_dim=num_users, output_dim=embedding_dim, name='user_embedding')(user_input)\n",
    "#     user_embedding = Flatten()(user_embedding)\n",
    "\n",
    "#     movie_input = Input(shape=(1,), name='movie_input')\n",
    "#     movie_embedding = Embedding(input_dim=num_movies, output_dim=embedding_dim, name='movie_embedding')(movie_input)\n",
    "#     movie_embedding = Flatten()(movie_embedding)\n",
    "\n",
    "#     dot_product = Dot(axes=1)([user_embedding, movie_embedding])\n",
    "#     output = Dense(1, activation='linear')(dot_product)\n",
    "\n",
    "#     model = Model(inputs=[user_input, movie_input], outputs=output)\n",
    "#     model.compile(optimizer='adam', loss='mae')\n",
    "\n",
    "#     # Add early stopping\n",
    "#     early_stopping = EarlyStopping(monitor='val_loss', patience=patience, restore_best_weights=True)\n",
    "\n",
    "#     # Train the model\n",
    "#     history = model.fit(\n",
    "#         [train_user_ids, train_movie_ids], train_ratings,\n",
    "#         epochs=epochs,\n",
    "#         batch_size=batch_size,\n",
    "#         validation_data=([test_user_ids, test_movie_ids], test_ratings),\n",
    "#         callbacks=[early_stopping],\n",
    "#         verbose=0\n",
    "#     )\n",
    "\n",
    "#     # Evaluate the model\n",
    "#     val_loss = model.evaluate([test_user_ids, test_movie_ids], test_ratings, verbose=0)\n",
    "#     return model, val_loss\n",
    "\n",
    "# # Define the hyperparameter grid\n",
    "# embedding_dims = [16, 32, 64, 128]\n",
    "# learning_rates = [0.001, 0.005, 0.01, 0.05]\n",
    "# batch_sizes = [32, 64, 128, 256]\n",
    "# epochs = 10\n",
    "# patience = 3\n",
    "\n",
    "# best_model = None\n",
    "# best_params = None\n",
    "# lowest_mae = float('inf')\n",
    "\n",
    "# # Perform grid search\n",
    "# for emb_dim, lr, batch_size in itertools.product(embedding_dims, learning_rates, batch_sizes):\n",
    "#     print(f\"Trying: Embedding Dim={emb_dim}, Learning Rate={lr}, Batch Size={batch_size}\")\n",
    "#     model, val_mae = build_and_train_model(num_users, num_movies, emb_dim, 0.001, batch_size, epochs, patience)\n",
    "    \n",
    "#     print(f\"Validation MAE: {val_mae:.4f}\")\n",
    "    \n",
    "#     if val_mae < lowest_mae:\n",
    "#         lowest_mae = val_mae\n",
    "#         best_model = model\n",
    "#         best_params = (emb_dim, lr, batch_size)\n",
    "\n",
    "# print(f\"\\nBest Model Found: Embedding Dim={best_params[0]}, Learning Rate={best_params[1]}, Batch Size={best_params[2]}\")\n",
    "# print(f\"Lowest Validation MAE: {lowest_mae:.4f}\")"
   ]
  }
 ],
 "metadata": {
  "kernelspec": {
   "display_name": "Python 3",
   "language": "python",
   "name": "python3"
  },
  "language_info": {
   "codemirror_mode": {
    "name": "ipython",
    "version": 3
   },
   "file_extension": ".py",
   "mimetype": "text/x-python",
   "name": "python",
   "nbconvert_exporter": "python",
   "pygments_lexer": "ipython3",
   "version": "3.10.14"
  }
 },
 "nbformat": 4,
 "nbformat_minor": 2
}
