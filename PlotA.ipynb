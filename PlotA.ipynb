{
 "cells": [
  {
   "cell_type": "code",
   "execution_count": null,
   "metadata": {},
   "outputs": [],
   "source": [
    "from CollabFilterOneVectorPerItem import *\n",
    "from AbstractBaseCollabFilterSGD import *\n",
    "from train_valid_test_loader import load_train_valid_test_datasets"
   ]
  },
  {
   "cell_type": "code",
   "execution_count": null,
   "metadata": {},
   "outputs": [],
   "source": [
    "import matplotlib.pyplot as plt\n",
    "import pandas as pd\n",
    "import numpy as np"
   ]
  },
  {
   "cell_type": "code",
   "execution_count": 11,
   "metadata": {},
   "outputs": [],
   "source": [
    "def parser(file_path):\n",
    "    data = []\n",
    "    with open(file_path, 'r') as f:\n",
    "        for line in f:\n",
    "            if line.startswith(\"epoch\"):\n",
    "                parts = line.split(\"|\")\n",
    "                epoch_data = [float(part.split()[-1]) for part in parts]\n",
    "                data.append(epoch_data)\n",
    "\n",
    "    \n",
    "    columns = [\"epoch\", \"loss_total\", \"train_MAE\", \"valid_MAE\", \"grad_wrt_mu\", \"grad_wrt_b_per_user\", \"grad_wrt_c_per_item\", \"grad_wrt_U\", \"grad_wrt_V\"]\n",
    "    df = pd.DataFrame(data, columns=columns)\n",
    "    \n",
    "    return df\n"
   ]
  },
  {
   "cell_type": "code",
   "execution_count": 20,
   "metadata": {},
   "outputs": [],
   "source": [
    "def plot_mae_v_epoch(df):\n",
    "    x = df['epoch']\n",
    "    y_train = df['train_MAE']\n",
    "    y_valid = df['valid_MAE']\n",
    "    plt.plot(x, y_train, label='Train MAE')\n",
    "    plt.plot(x, y_valid, label='Valid MAE')\n",
    "    plt.xlabel('epoch')\n",
    "    plt.ylabel('MAE')\n",
    "    plt.title('MAE vs epoch')\n",
    "    plt.grid()\n",
    "    plt.show()\n",
    "    "
   ]
  },
  {
   "cell_type": "markdown",
   "metadata": {},
   "source": [
    "### Part 1A"
   ]
  },
  {
   "cell_type": "code",
   "execution_count": 18,
   "metadata": {},
   "outputs": [],
   "source": [
    "k2_df = parser(\"output_K2.txt\")\n",
    "plot_mae_v_epoch(k2_df)"
   ]
  },
  {
   "cell_type": "code",
   "execution_count": 21,
   "metadata": {},
   "outputs": [],
   "source": [
    "k10_df = parser(\"output_K10.txt\")\n",
    "plot_mae_v_epoch(k10_df)"
   ]
  },
  {
   "cell_type": "code",
   "execution_count": 22,
   "metadata": {},
   "outputs": [],
   "source": [
    "k50_df = parser(\"output_K10.txt\")\n",
    "plot_mae_v_epoch(k50_df)"
   ]
  },
  {
   "cell_type": "markdown",
   "metadata": {},
   "source": [
    "### Part 1B"
   ]
  },
  {
   "cell_type": "code",
   "execution_count": null,
   "metadata": {},
   "outputs": [],
   "source": [
    "alpha = [0.01, 0.1, 0.5, 1, 5, 10]\n",
    "batch_size = [500, 5000, 50000]\n",
    "step_size = [0.01, 0.1, 0.5, 1, 5, 10]\n",
    "epochs = [10, 50, 100]\n",
    "train_tuple, valid_tuple, test_tuple, n_users, n_items = load_train_valid_test_datasets()\n",
    "\n",
    "\n",
    "\n",
    "\n",
    "\n",
    "\n",
    "\n",
    "\n",
    "\n",
    "\n",
    "\n",
    "\n",
    "\n",
    "\n",
    "\n",
    "for a in alpha:\n",
    "    for b in batch_size:\n",
    "        for s in step_size:\n",
    "            for e in epochs:\n",
    "                print(f\"alpha: {a}, batch_size: {b}, step_size: {s}, epochs: {e}\")\n",
    "                model = CollabFilterOneVectorPerItem(n_epochs=e, batch_size=b, step_size=s,n_factor = 50, alpha=a)\n",
    "                model.init_parameter_dict(n_users, n_items, train_tuple)\n",
    "                model.fit(train_tuple, valid_tuple)\n",
    "\n",
    "                        #key = parameters prob a tuple\n",
    "                        #value = struct = \n",
    "\n",
    "                        # model.trace_epoch\n",
    "                        # model.trace_loss \n",
    "                        # model.trace_smooth_loss \n",
    "                        # model.trace_mae_train \n",
    "                        # model.trace_mae_valid \n",
    "                \n",
    "                        # sort in respect to mae\n",
    "                \n",
    "                print(\"_________________________________________________________________________________________\\n\")\n",
    "                "
   ]
  }
 ],
 "metadata": {
  "kernelspec": {
   "display_name": "Python 3",
   "language": "python",
   "name": "python3"
  },
  "language_info": {
   "codemirror_mode": {
    "name": "ipython",
    "version": 3
   },
   "file_extension": ".py",
   "mimetype": "text/x-python",
   "name": "python",
   "nbconvert_exporter": "python",
   "pygments_lexer": "ipython3",
   "version": "3.10.14"
  }
 },
 "nbformat": 4,
 "nbformat_minor": 2
}
