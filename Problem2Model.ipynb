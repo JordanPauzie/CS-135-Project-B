{
 "cells": [
  {
   "cell_type": "markdown",
   "metadata": {},
   "source": [
    "### Part A"
   ]
  },
  {
   "cell_type": "code",
   "execution_count": 1,
   "metadata": {},
   "outputs": [],
   "source": [
    "import pandas as pd\n",
    "import numpy as np\n",
    "from sklearn.model_selection import train_test_split\n",
    "from sklearn.preprocessing import LabelEncoder\n",
    "from tensorflow.keras.layers import Input, Embedding, Flatten, Dot, Dense, Add, Concatenate, BatchNormalization\n",
    "from tensorflow.keras.models import Model\n",
    "from tensorflow.keras.callbacks import EarlyStopping\n",
    "from tensorflow.keras.optimizers import Adam\n",
    "from tensorflow.keras.regularizers import l2"
   ]
  },
  {
   "cell_type": "code",
   "execution_count": 2,
   "metadata": {},
   "outputs": [],
   "source": [
    "from train_valid_test_loader import load_train_valid_test_datasets"
   ]
  },
  {
   "cell_type": "markdown",
   "metadata": {},
   "source": [
    "### Importing Data"
   ]
  },
  {
   "cell_type": "code",
   "execution_count": 3,
   "metadata": {},
   "outputs": [],
   "source": [
    "movies_df = pd.read_csv('/Users/brandonmukadziwashe/CS135/cs135-24f-assignments/CS-135-Project-B/data_movie_lens_100k/movie_info.csv')\n",
    "ratings_df = pd.read_csv('/Users/brandonmukadziwashe/CS135/cs135-24f-assignments/CS-135-Project-B/data_movie_lens_100k/ratings_all_development_set.csv')\n",
    "ratings_df = ratings_df.rename(columns={'user_id': 'userId', 'item_id': 'movieId'})\n",
    "movies_df = movies_df.rename(columns={'item_id': 'movieId'})\n",
    "leaderboard_data = pd.read_csv('/Users/brandonmukadziwashe/CS135/cs135-24f-assignments/CS-135-Project-B/data_movie_lens_100k/ratings_masked_leaderboard_set.csv') "
   ]
  },
  {
   "cell_type": "markdown",
   "metadata": {},
   "source": [
    "### Data Preprocessing"
   ]
  },
  {
   "cell_type": "code",
   "execution_count": 4,
   "metadata": {},
   "outputs": [],
   "source": [
    "# Ensure required columns exist\n",
    "assert 'userId' in ratings_df.columns and 'movieId' in ratings_df.columns and 'rating' in ratings_df.columns\n",
    "\n",
    "# Encode user and movie IDs\n",
    "user_encoder = LabelEncoder()\n",
    "ratings_df['user_id_encoded'] = user_encoder.fit_transform(ratings_df['userId'])\n",
    "\n",
    "movie_encoder = LabelEncoder()\n",
    "ratings_df['movie_id_encoded'] = movie_encoder.fit_transform(ratings_df['movieId'])\n",
    "\n",
    "# ratings_df, actual_ratings_testing_df = train_test_split(ratings_df, test_size=0.15, random_state=42)\n",
    "\n",
    "# Copy the dataset and split into train and test sets\n",
    "df = ratings_df.copy()\n",
    "train, test = train_test_split(df, test_size=0.2, random_state=42)\n",
    "# train, valid_tuple, test_tuple, n_users, n_items = load_train_valid_test_datasets()\n",
    "\n",
    "# Convert columns to NumPy arrays\n",
    "train_user_ids = np.array(train['user_id_encoded'].values)\n",
    "train_movie_ids = np.array(train['movie_id_encoded'].values)\n",
    "train_ratings = np.array(train['rating'].values)\n",
    "\n",
    "test_user_ids = np.array(test['user_id_encoded'].values)\n",
    "test_movie_ids = np.array(test['movie_id_encoded'].values)\n",
    "test_ratings = np.array(test['rating'].values)\n",
    "\n",
    "# actual_test_user_ids = np.array(actual_ratings_testing_df['user_id_encoded'].values)\n",
    "# actual_test_movie_ids = np.array(actual_ratings_testing_df['movie_id_encoded'].values)\n",
    "# actual_test_ratings = np.array(actual_ratings_testing_df['rating'].values)\n",
    "\n",
    "\n",
    "# Define the number of unique users, movies, and embedding dimensions\n",
    "num_users = df['user_id_encoded'].nunique()\n",
    "num_movies = df['movie_id_encoded'].nunique()\n",
    "embedding_dim = 50"
   ]
  },
  {
   "cell_type": "markdown",
   "metadata": {},
   "source": [
    "### Getting embeddings"
   ]
  },
  {
   "cell_type": "code",
   "execution_count": 5,
   "metadata": {},
   "outputs": [],
   "source": [
    "# User input and embedding\n",
    "user_input = Input(shape=(1,), name='user_input')\n",
    "user_embedding = Embedding(input_dim=num_users + 1, output_dim=embedding_dim, name='user_embedding')(user_input)\n",
    "user_embedding = Flatten()(user_embedding)\n",
    "\n",
    "# Movie input and embedding\n",
    "movie_input = Input(shape=(1,), name='movie_input')\n",
    "movie_embedding = Embedding(input_dim=num_movies + 1, output_dim=embedding_dim, name='movie_embedding')(movie_input)\n",
    "movie_embedding = Flatten()(movie_embedding)"
   ]
  },
  {
   "cell_type": "markdown",
   "metadata": {},
   "source": [
    "### Defining the model and training"
   ]
  },
  {
   "cell_type": "code",
   "execution_count": 6,
   "metadata": {},
   "outputs": [
    {
     "name": "stdout",
     "output_type": "stream",
     "text": [
      "Epoch 1/20\n",
      "\u001b[1m1125/1125\u001b[0m \u001b[32m━━━━━━━━━━━━━━━━━━━━\u001b[0m\u001b[37m\u001b[0m \u001b[1m2s\u001b[0m 1ms/step - loss: 2.9553 - val_loss: 0.8409\n",
      "Epoch 2/20\n",
      "\u001b[1m1125/1125\u001b[0m \u001b[32m━━━━━━━━━━━━━━━━━━━━\u001b[0m\u001b[37m\u001b[0m \u001b[1m1s\u001b[0m 1ms/step - loss: 0.7847 - val_loss: 0.7666\n",
      "Epoch 3/20\n",
      "\u001b[1m1125/1125\u001b[0m \u001b[32m━━━━━━━━━━━━━━━━━━━━\u001b[0m\u001b[37m\u001b[0m \u001b[1m1s\u001b[0m 1ms/step - loss: 0.7157 - val_loss: 0.7538\n",
      "Epoch 4/20\n",
      "\u001b[1m1125/1125\u001b[0m \u001b[32m━━━━━━━━━━━━━━━━━━━━\u001b[0m\u001b[37m\u001b[0m \u001b[1m1s\u001b[0m 1ms/step - loss: 0.6734 - val_loss: 0.7426\n",
      "Epoch 5/20\n",
      "\u001b[1m1125/1125\u001b[0m \u001b[32m━━━━━━━━━━━━━━━━━━━━\u001b[0m\u001b[37m\u001b[0m \u001b[1m1s\u001b[0m 1ms/step - loss: 0.6302 - val_loss: 0.7440\n",
      "Epoch 6/20\n",
      "\u001b[1m1125/1125\u001b[0m \u001b[32m━━━━━━━━━━━━━━━━━━━━\u001b[0m\u001b[37m\u001b[0m \u001b[1m1s\u001b[0m 1ms/step - loss: 0.5863 - val_loss: 0.7461\n",
      "Epoch 7/20\n",
      "\u001b[1m1125/1125\u001b[0m \u001b[32m━━━━━━━━━━━━━━━━━━━━\u001b[0m\u001b[37m\u001b[0m \u001b[1m1s\u001b[0m 1ms/step - loss: 0.5412 - val_loss: 0.7550\n",
      "\u001b[1m563/563\u001b[0m \u001b[32m━━━━━━━━━━━━━━━━━━━━\u001b[0m\u001b[37m\u001b[0m \u001b[1m0s\u001b[0m 456us/step - loss: 0.7459\n",
      "Test loss (MAE): 0.742592453956604\n"
     ]
    }
   ],
   "source": [
    "# Define the model\n",
    "\n",
    "# Dot product of embeddings and output layer\n",
    "dot_product = Dot(axes=1)([user_embedding, movie_embedding])\n",
    "output = Dense(1, activation='linear')(dot_product)\n",
    "\n",
    "# Compile the model\n",
    "model = Model(inputs=[user_input, movie_input], outputs=output)\n",
    "model.compile(optimizer='adam', loss='mae')\n",
    "\n",
    "# Add early stopping\n",
    "early_stopping = EarlyStopping(monitor='val_loss', patience=3, restore_best_weights=True)\n",
    "\n",
    "# Train the model\n",
    "history = model.fit(\n",
    "    [train_user_ids, train_movie_ids], train_ratings,\n",
    "    epochs=20,\n",
    "    batch_size=64,\n",
    "    validation_data=([test_user_ids, test_movie_ids], test_ratings),\n",
    "    callbacks=[early_stopping]\n",
    ")\n",
    "\n",
    "# Evaluate the model\n",
    "test_loss = model.evaluate([test_user_ids, test_movie_ids], test_ratings)\n",
    "print(f\"Test loss (MAE): {test_loss}\")"
   ]
  },
  {
   "cell_type": "markdown",
   "metadata": {},
   "source": [
    "### Making the predictions"
   ]
  },
  {
   "cell_type": "code",
   "execution_count": null,
   "metadata": {},
   "outputs": [
    {
     "name": "stdout",
     "output_type": "stream",
     "text": [
      "\u001b[1m563/563\u001b[0m \u001b[32m━━━━━━━━━━━━━━━━━━━━\u001b[0m\u001b[37m\u001b[0m \u001b[1m0s\u001b[0m 518us/step\n",
      "Predictions for user 772, ordered by closest rating difference:\n",
      "       original_user_id  original_movie_id  actual_rating  predicted_rating  \\\n",
      "76753               772                230              2          1.845560   \n",
      "89978               772                728              3          3.239117   \n",
      "74901               772                187              3          3.273921   \n",
      "67026               772                893              2          2.331681   \n",
      "13524               772                565              2          2.444174   \n",
      "8138                772                431              3          3.500109   \n",
      "74708               772                126              5          4.498601   \n",
      "70790               772               1034              3          2.461379   \n",
      "10398               772                946              2          1.399315   \n",
      "89249               772                391              2          2.735776   \n",
      "44904               772                 69              3          3.743354   \n",
      "21632               772                284              3          3.809951   \n",
      "26294               772                401              2          2.820682   \n",
      "525                 772                175              4          3.146317   \n",
      "71188               772                183              2          2.991132   \n",
      "62191               772                917              5          3.905228   \n",
      "56211               772                170              5          3.859101   \n",
      "19940               772               1019              5          3.826863   \n",
      "38949               772                 95              2          3.208420   \n",
      "63078               772                180              5          3.405861   \n",
      "89032               772                922              1          2.631588   \n",
      "57334               772                  6              2          3.821618   \n",
      "78013               772                257              5          3.056566   \n",
      "\n",
      "       rating_difference  \n",
      "76753           0.154440  \n",
      "89978           0.239117  \n",
      "74901           0.273921  \n",
      "67026           0.331681  \n",
      "13524           0.444174  \n",
      "8138            0.500109  \n",
      "74708           0.501399  \n",
      "70790           0.538621  \n",
      "10398           0.600685  \n",
      "89249           0.735776  \n",
      "44904           0.743354  \n",
      "21632           0.809951  \n",
      "26294           0.820682  \n",
      "525             0.853683  \n",
      "71188           0.991132  \n",
      "62191           1.094772  \n",
      "56211           1.140899  \n",
      "19940           1.173137  \n",
      "38949           1.208420  \n",
      "63078           1.594139  \n",
      "89032           1.631588  \n",
      "57334           1.821618  \n",
      "78013           1.943434  \n",
      "\u001b[1m313/313\u001b[0m \u001b[32m━━━━━━━━━━━━━━━━━━━━\u001b[0m\u001b[37m\u001b[0m \u001b[1m0s\u001b[0m 460us/step\n"
     ]
    }
   ],
   "source": [
    "# Predict ratings for the test set\n",
    "test_predictions = model.predict([test_user_ids, test_movie_ids])\n",
    "\n",
    "# Create a DataFrame with predictions\n",
    "test_results = pd.DataFrame({\n",
    "    'original_user_id': test['userId'],\n",
    "    'original_movie_id': test['movieId'],\n",
    "    'actual_rating': test_ratings,\n",
    "    'predicted_rating': test_predictions.flatten()\n",
    "})\n",
    "test_results['rating_difference'] = abs(test_results['actual_rating'] - test_results['predicted_rating'])\n",
    "\n",
    "# Filter results for a specific user and sort by rating difference\n",
    "filter_user_id = 772  # Replace with your desired user ID\n",
    "filtered_results = test_results[test_results['original_user_id'] == filter_user_id]\n",
    "filtered_results_sorted = filtered_results.sort_values(by='rating_difference')\n",
    "\n",
    "print(f\"Predictions for user {filter_user_id}, ordered by closest rating difference:\")\n",
    "print(filtered_results_sorted)\n",
    "\n",
    "\n",
    "# Load leaderboard data\n",
    "leaderboard_data = pd.read_csv('/Users/brandonmukadziwashe/CS135/cs135-24f-assignments/CS-135-Project-B/data_movie_lens_100k/ratings_masked_leaderboard_set.csv')  # Replace with your leaderboard file path\n",
    "assert 'user_id' in leaderboard_data.columns and 'item_id' in leaderboard_data.columns\n",
    "\n",
    "# Handle unseen user and movie IDs using mapping\n",
    "user_mapping = dict(zip(user_encoder.classes_, user_encoder.transform(user_encoder.classes_)))\n",
    "movie_mapping = dict(zip(movie_encoder.classes_, movie_encoder.transform(movie_encoder.classes_)))\n",
    "\n",
    "# Map user and movie IDs, assigning unseen IDs to placeholder index\n",
    "leaderboard_data['user_id_encoded'] = leaderboard_data['user_id'].map(\n",
    "    lambda x: user_mapping.get(x, num_users)\n",
    ").astype(int)\n",
    "\n",
    "leaderboard_data['item_id_encoded'] = leaderboard_data['item_id'].map(\n",
    "    lambda x: movie_mapping.get(x, num_movies)\n",
    ").astype(int)\n",
    "\n",
    "# Predict leaderboard ratings\n",
    "user_ids = leaderboard_data['user_id_encoded'].values\n",
    "item_ids = leaderboard_data['item_id_encoded'].values\n",
    "predictions = model.predict([user_ids, item_ids]).flatten()\n",
    "\n",
    "# Save leaderboard predictions to a file\n",
    "with open(\"predicted_ratings_leaderboard3.txt\", \"w\") as f:\n",
    "    for pred in predictions:\n",
    "        f.write(f\"{pred}\\n\")"
   ]
  },
  {
   "cell_type": "code",
   "execution_count": 66,
   "metadata": {},
   "outputs": [
    {
     "name": "stdout",
     "output_type": "stream",
     "text": [
      "       original_user_id  original_movie_id  actual_rating  predicted_rating  \\\n",
      "73450               566                202              4          3.999826   \n",
      "57029               652                166              2          1.999760   \n",
      "24388               768                822              2          1.999724   \n",
      "12687                42                 27              4          3.999707   \n",
      "36853               793                126              5          4.999625   \n",
      "...                 ...                ...            ...               ...   \n",
      "29170               309               1384              1          4.901651   \n",
      "15444               188                514              1          4.911760   \n",
      "82137               404                450              5          1.066333   \n",
      "5266                166               1304              5          0.892661   \n",
      "29595                89               1199              5          0.848530   \n",
      "\n",
      "       rating_difference  \n",
      "73450           0.000174  \n",
      "57029           0.000240  \n",
      "24388           0.000276  \n",
      "12687           0.000293  \n",
      "36853           0.000375  \n",
      "...                  ...  \n",
      "29170           3.901651  \n",
      "15444           3.911760  \n",
      "82137           3.933667  \n",
      "5266            4.107339  \n",
      "29595           4.151470  \n",
      "\n",
      "[17999 rows x 5 columns]\n"
     ]
    }
   ],
   "source": [
    "test_results = test_results.sort_values(by='rating_difference')\n",
    "print(test_results)\n",
    "user_info_df = pd.read_csv('/Users/brandonmukadziwashe/CS135/cs135-24f-assignments/CS-135-Project-B/data_movie_lens_100k/user_info.csv')"
   ]
  },
  {
   "cell_type": "code",
   "execution_count": 89,
   "metadata": {},
   "outputs": [
    {
     "name": "stdout",
     "output_type": "stream",
     "text": [
      "     userId  count\n",
      "137     850    189\n",
      "138      59    189\n",
      "139     842    188\n",
      "140      86    187\n",
      "141     806    186\n",
      "142     451    185\n",
      "143     143    185\n",
      "144     341    184\n",
      "145     478    183\n",
      "146     294    182\n",
      "Middle 10 Users\n",
      "=================================\n",
      "---------------------------------\n",
      "850 : 0.6409886556286966\n",
      "---------------------------------\n",
      "59 : 0.5922094555788262\n",
      "---------------------------------\n",
      "842 : 0.6433472633361816\n",
      "---------------------------------\n",
      "86 : 0.6285422696007623\n",
      "---------------------------------\n",
      "806 : 0.8096293108803886\n",
      "---------------------------------\n",
      "451 : 1.0745351687073708\n",
      "---------------------------------\n",
      "143 : 0.5770665070949457\n",
      "---------------------------------\n",
      "341 : 0.9387479761372441\n",
      "---------------------------------\n",
      "478 : 0.7195881174670326\n",
      "---------------------------------\n",
      "294 : 0.5084927082061768\n"
     ]
    }
   ],
   "source": [
    "# Assuming the DataFrame is named `df`\n",
    "user_counts = ratings_df['userId'].value_counts().reset_index()\n",
    "user_counts.columns = ['userId', 'count']  # Rename columns for clarity\n",
    "# Display the resulting DataFrame\n",
    "#print(user_counts)\n",
    "\n",
    "top_10_users = user_counts.head(10)\n",
    "#print(top_10_users)\n",
    "worst_10_users = user_counts.tail(10)\n",
    "\n",
    "filtered_users = user_counts[(user_counts['count'] >= 100) & (user_counts['count'] <= 190)]\n",
    "\n",
    "# Get the first 10 users within this range (if available)\n",
    "middle_10_users = filtered_users.head(10)\n",
    "print(middle_10_users)\n",
    "\n",
    "# print(\"Old 10 Users\")\n",
    "# print(\"=================================\") \n",
    "# for user_id in top_10_users['userId']:\n",
    "#     print(\"---------------------------------\")\n",
    "#     rating_diff = test_results[test_results['original_user_id'] == user_id]\n",
    "#     rat = rating_diff['rating_difference']\n",
    "#     print(user_id, \":\", rat.mean())\n",
    "\n",
    "print(\"Middle 10 Users\")\n",
    "print(\"=================================\")\n",
    "for user_id in middle_10_users['userId']:\n",
    "    print(\"---------------------------------\")\n",
    "    rating_diff = test_results[test_results['original_user_id'] == user_id]\n",
    "    rat = rating_diff['rating_difference']\n",
    "    print(user_id, \":\", rat.mean())\n",
    "\n",
    "# print(\"Newest 10 Users\")\n",
    "# print(\"=================================\")  \n",
    "# for user_id in worst_10_users['userId']:\n",
    "#     print(\"---------------------------------\")\n",
    "#     rating_diff = test_results[test_results['original_user_id'] == user_id]\n",
    "#     rat = rating_diff['rating_difference']\n",
    "#     print(user_id, \":\", rat.mean())"
   ]
  },
  {
   "cell_type": "code",
   "execution_count": 63,
   "metadata": {},
   "outputs": [
    {
     "name": "stdout",
     "output_type": "stream",
     "text": [
      "566 140 24 1\n",
      "652 255 31 1\n",
      "768 24 39 1\n",
      "42 193 29 0\n",
      "793 33 32 1\n",
      "396 91 17 1\n",
      "404 643 22 0\n",
      "803 299 39 1\n",
      "832 244 34 1\n",
      "503 220 40 0\n",
      "93 366 26 1\n",
      "628 108 46 0\n",
      "93 366 26 1\n",
      "873 31 36 1\n",
      "86 187 47 1\n",
      "415 441 20 0\n",
      "889 107 32 1\n",
      "643 41 51 1\n",
      "789 204 27 1\n",
      "379 148 32 1\n",
      "--------------------------------------------\n",
      "404 643 22 0\n",
      "238 144 39 1\n",
      "433 39 16 0\n",
      "147 55 33 1\n",
      "404 643 22 0\n",
      "404 643 22 0\n",
      "824 135 44 1\n",
      "365 29 20 0\n",
      "238 144 39 1\n",
      "849 47 34 1\n",
      "404 643 22 0\n",
      "404 643 22 0\n",
      "144 277 31 1\n",
      "125 40 28 0\n",
      "126 22 33 1\n",
      "309 20 37 1\n",
      "188 170 32 1\n",
      "404 643 22 0\n",
      "166 59 37 1\n",
      "89 273 60 1\n"
     ]
    }
   ],
   "source": [
    "best_predictions = test_results.head(20)\n",
    "best_ids = best_predictions['original_user_id'].values\n",
    "\n",
    "for id in best_ids:\n",
    "    count = ratings_df[\"userId\"].value_counts().get(id, 0)\n",
    "    age = user_info_df[user_info_df['user_id'] == id]['age'].values[0]\n",
    "    is_male = user_info_df[user_info_df['user_id'] == id]['is_male'].values[0]\n",
    "    print(id, count, age, is_male)\n",
    "\n",
    "\n",
    "print(\"--------------------------------------------\")\n",
    "worst_predictions = test_results.tail(20)\n",
    "worst_ids = worst_predictions['original_user_id'].values\n",
    "\n",
    "for id in worst_ids:\n",
    "    count = ratings_df[\"userId\"].value_counts().get(id, 0)\n",
    "    age = user_info_df[user_info_df['user_id'] == id]['age'].values[0]\n",
    "    is_male = user_info_df[user_info_df['user_id'] == id]['is_male'].values[0]\n",
    "    print(id, count, age, is_male)"
   ]
  },
  {
   "cell_type": "code",
   "execution_count": 51,
   "metadata": {},
   "outputs": [
    {
     "name": "stdout",
     "output_type": "stream",
     "text": [
      "--------------------------------------------\n",
      "404 643\n",
      "404 643\n",
      "144 277\n",
      "125 40\n",
      "126 22\n",
      "309 20\n",
      "188 170\n",
      "404 643\n",
      "166 59\n",
      "89 273\n"
     ]
    }
   ],
   "source": [
    "print(\"--------------------------------------------\")\n",
    "worst_predictions = test_results.tail(10)\n",
    "worst_ids = worst_predictions['original_user_id'].values\n",
    "\n",
    "for id in worst_ids:\n",
    "    count = ratings_df[\"userId\"].value_counts().get(id, 0)\n",
    "    print(id, count)"
   ]
  },
  {
   "cell_type": "code",
   "execution_count": 48,
   "metadata": {},
   "outputs": [
    {
     "name": "stdout",
     "output_type": "stream",
     "text": [
      "202 156\n",
      "166 63\n",
      "822 49\n",
      "27 255\n",
      "126 374\n",
      "703 125\n",
      "784 12\n",
      "744 110\n",
      "858 15\n",
      "124 222\n"
     ]
    }
   ],
   "source": [
    "bmoid = best_predictions['original_movie_id'].values\n",
    "for id in bmoid:\n",
    "    count = ratings_df[\"movieId\"].value_counts().get(id, 0)\n",
    "    print(id, count)"
   ]
  },
  {
   "cell_type": "markdown",
   "metadata": {},
   "source": [
    "### Finding best hyperparameters"
   ]
  },
  {
   "cell_type": "code",
   "execution_count": null,
   "metadata": {},
   "outputs": [],
   "source": [
    "import itertools\n",
    "\n",
    "from tensorflow.keras.callbacks import EarlyStopping\n",
    "from tensorflow.keras.models import Model\n",
    "from tensorflow.keras.layers import Input, Embedding, Flatten, Dot, Dense\n",
    "from sklearn.metrics import mean_absolute_error\n",
    "\n",
    "def build_and_train_model(num_users, num_movies, embedding_dim, learning_rate, batch_size, epochs, patience, activation):\n",
    "    # Define the model\n",
    "    user_input = Input(shape=(1,), name='user_input')\n",
    "    user_embedding = Embedding(input_dim=num_users, output_dim=embedding_dim, name='user_embedding')(user_input)\n",
    "    user_embedding = Flatten()(user_embedding)\n",
    "\n",
    "    movie_input = Input(shape=(1,), name='movie_input')\n",
    "    movie_embedding = Embedding(input_dim=num_movies, output_dim=embedding_dim, name='movie_embedding')(movie_input)\n",
    "    movie_embedding = Flatten()(movie_embedding)\n",
    "\n",
    "    dot_product = Dot(axes=1)([user_embedding, movie_embedding])\n",
    "    output = Dense(1, activation=activation)(dot_product)\n",
    "\n",
    "    model = Model(inputs=[user_input, movie_input], outputs=output)\n",
    "    optimizer = Adam(learning_rate=learning_rate)\n",
    "    model.compile(optimizer=optimizer, loss='mae')\n",
    "\n",
    "    # Add early stopping\n",
    "    early_stopping = EarlyStopping(monitor='val_loss', patience=patience, restore_best_weights=True)\n",
    "\n",
    "    # Train the model\n",
    "    history = model.fit(\n",
    "        [train_user_ids, train_movie_ids], train_ratings,\n",
    "        epochs=epochs,\n",
    "        batch_size=batch_size,\n",
    "        validation_data=([test_user_ids, test_movie_ids], test_ratings),\n",
    "        callbacks=[early_stopping],\n",
    "        verbose=0\n",
    "    )\n",
    "\n",
    "    # Evaluate the model\n",
    "    val_loss = model.evaluate([test_user_ids, test_movie_ids], test_ratings, verbose=0)\n",
    "    return model, val_loss\n",
    "\n",
    "# Define the hyperparameter grid\n",
    "embedding_dims = [16, 32, 64, 128]\n",
    "learning_rates = [0.001, 0.005, 0.01, 0.05]\n",
    "batch_sizes = [32, 64, 128, 256]\n",
    "activation = ['relu', 'linear']\n",
    "epochs = [10, 50]\n",
    "patience = 3\n",
    "\n",
    "best_model = None\n",
    "best_params = None\n",
    "lowest_mae = float('inf')\n",
    "\n",
    "results = {}\n",
    "counter = 1\n",
    "\n",
    "# Perform grid search\n",
    "for emb_dim, lr, batch_size, act, epoch in itertools.product(embedding_dims, learning_rates, batch_sizes, activation, epochs):\n",
    "    model, val_mae = build_and_train_model(num_users, num_movies, emb_dim, lr, batch_size, epoch, patience, act)\n",
    "\n",
    "    print(counter)\n",
    "\n",
    "    if val_mae < lowest_mae:\n",
    "        lowest_mae = val_mae\n",
    "        best_model = model\n",
    "        best_params = (emb_dim, lr, batch_size)\n",
    "        \n",
    "    results[(emb_dim, lr, batch_size, act, epoch)] = val_mae\n",
    "\n",
    "    counter += 1\n",
    "    "
   ]
  },
  {
   "cell_type": "markdown",
   "metadata": {},
   "source": [
    "### Obtaining the best, median and worst hyperparameters in terms of validation MAE"
   ]
  },
  {
   "cell_type": "code",
   "execution_count": null,
   "metadata": {},
   "outputs": [
    {
     "name": "stdout",
     "output_type": "stream",
     "text": [
      "(128, 0.001, 256, 'linear', 50) 0.7286162376403809\n",
      "(32, 0.01, 256, 'relu', 10) 0.7767121195793152\n",
      "(128, 0.05, 32, 'linear', 10) 0.9238486289978027\n"
     ]
    }
   ],
   "source": [
    "sorted_items = sorted(results.items(), key=lambda x: x[1])\n",
    "\n",
    "best_parameters = sorted_items[0][0]\n",
    "n = len(sorted_items) // 2\n",
    "mid_parameters = sorted_items[n][0]\n",
    "worst_parameters = sorted_items[-1][0]\n",
    "\n",
    "print(best_parameters, sorted_items[0][1])\n",
    "print(mid_parameters, sorted_items[n][1])\n",
    "print(worst_parameters, sorted_items[-1][1])"
   ]
  },
  {
   "cell_type": "markdown",
   "metadata": {},
   "source": [
    "### Plotting three hyperparameters"
   ]
  },
  {
   "cell_type": "code",
   "execution_count": null,
   "metadata": {},
   "outputs": [],
   "source": [
    "emb_dim, lr, batch_size, act, epoch = best_parameters\n",
    "best_model, best_val_mae = build_and_train_model(num_users, num_movies, emb_dim, lr, batch_size, epoch, patience, act)"
   ]
  },
  {
   "cell_type": "code",
   "execution_count": 165,
   "metadata": {},
   "outputs": [],
   "source": [
    "emb_dim, lr, batch_size, act, epoch = mid_parameters\n",
    "mid_model, mid_val_mae = build_and_train_model(num_users, num_movies, emb_dim, lr, batch_size, epoch, patience, act)"
   ]
  },
  {
   "cell_type": "code",
   "execution_count": 166,
   "metadata": {},
   "outputs": [],
   "source": [
    "emb_dim, lr, batch_size, act, epoch = worst_parameters\n",
    "worst_model, worst_val_mae = build_and_train_model(num_users, num_movies, emb_dim, lr, batch_size, epoch, patience, act)"
   ]
  },
  {
   "cell_type": "code",
   "execution_count": null,
   "metadata": {},
   "outputs": [
    {
     "name": "stdout",
     "output_type": "stream",
     "text": [
      "{}\n"
     ]
    }
   ],
   "source": []
  },
  {
   "cell_type": "markdown",
   "metadata": {},
   "source": [
    "### Retraining the model with best parameters"
   ]
  },
  {
   "cell_type": "code",
   "execution_count": 103,
   "metadata": {},
   "outputs": [
    {
     "name": "stdout",
     "output_type": "stream",
     "text": [
      "\n",
      "Best Model Found: Embedding Dim=128, Learning Rate=0.001, Batch Size=256\n",
      "Lowest Validation MAE: 0.7286\n"
     ]
    }
   ],
   "source": [
    "print(f\"\\nBest Model Found: Embedding Dim={best_params[0]}, Learning Rate={best_params[1]}, Batch Size={best_params[2]}\")\n",
    "print(f\"Lowest Validation MAE: {lowest_mae:.4f}\")"
   ]
  },
  {
   "cell_type": "code",
   "execution_count": null,
   "metadata": {},
   "outputs": [],
   "source": [
    "def build_model(num_users, num_movies, embedding_dim, learning_rate, batch_size, epochs, patience, activation):\n",
    "    # Define the model\n",
    "    user_input = Input(shape=(1,), name='user_input')\n",
    "    user_embedding = Embedding(input_dim=num_users, output_dim=embedding_dim, name='user_embedding')(user_input)\n",
    "    user_embedding = Flatten()(user_embedding)\n",
    "\n",
    "    movie_input = Input(shape=(1,), name='movie_input')\n",
    "    movie_embedding = Embedding(input_dim=num_movies, output_dim=embedding_dim, name='movie_embedding')(movie_input)\n",
    "    movie_embedding = Flatten()(movie_embedding)\n",
    "\n",
    "    dot_product = Dot(axes=1)([user_embedding, movie_embedding])\n",
    "    output = Dense(1, activation=activation)(dot_product)\n",
    "\n",
    "    model = Model(inputs=[user_input, movie_input], outputs=output)\n",
    "    optimizer = Adam(learning_rate=learning_rate)\n",
    "    model.compile(optimizer=optimizer, loss='mae')\n",
    "\n",
    "    # Add early stopping\n",
    "    early_stopping = EarlyStopping(monitor='val_loss', patience=patience, restore_best_weights=True)\n",
    "\n",
    "    # Train the model\n",
    "    history = model.fit(\n",
    "        [train_user_ids, train_movie_ids], train_ratings,\n",
    "        epochs=epochs,\n",
    "        batch_size=batch_size,\n",
    "        validation_data=([test_user_ids, test_movie_ids], test_ratings),\n",
    "        callbacks=[early_stopping],\n",
    "        verbose=0\n",
    "    )\n",
    "\n",
    "    # Evaluate the model\n",
    "    val_loss = model.evaluate([test_user_ids, test_movie_ids], test_ratings, verbose=0)\n",
    "    return model, val_loss, history\n"
   ]
  },
  {
   "cell_type": "markdown",
   "metadata": {},
   "source": [
    "Best: (128, 0.001, 256, 'linear', 50) 0.7286162376403809\n",
    "Mid: (32, 0.01, 256, 'relu', 10) 0.7767121195793152\n",
    "Worst: (128, 0.05, 32, 'linear', 10) 0.9238486289978027"
   ]
  },
  {
   "cell_type": "code",
   "execution_count": 191,
   "metadata": {},
   "outputs": [],
   "source": [
    "best_model, val_mae, best_history = build_model(num_users, num_movies, 128, 0.001, 256, 50, 3, 'linear')\n",
    "mid_model, val_mae, mid_history = build_model(num_users, num_movies, 32, 0.001, 256, 10, 3, 'relu')\n",
    "worst_model, val_mae, worst_history = build_model(num_users, num_movies, 128, 0.05, 32, 10, 3, 'linear')"
   ]
  },
  {
   "cell_type": "markdown",
   "metadata": {},
   "source": [
    "### Part B\n",
    "1 figure (with caption) relevant to reporting how you trained the model or selected model complexity. This could be a trace plot or a hyperparameter selection plot."
   ]
  },
  {
   "cell_type": "markdown",
   "metadata": {},
   "source": [
    "#### Best Model "
   ]
  },
  {
   "cell_type": "code",
   "execution_count": 219,
   "metadata": {},
   "outputs": [
    {
     "data": {
      "image/png": "[encoded data removed]",
      "text/plain": [
       "<Figure size 1000x600 with 1 Axes>"
      ]
     },
     "metadata": {},
     "output_type": "display_data"
    }
   ],
   "source": [
    "import matplotlib.pyplot as plt\n",
    "\n",
    "# Extract training and validation loss\n",
    "train_loss = best_history.history['loss']\n",
    "val_loss = best_history.history['val_loss']\n",
    "epochs = range(1, len(train_loss) + 1)\n",
    "# Define batch size\n",
    "batch_size = 256  # Replace with the actual batch size used during training\n",
    "\n",
    "# Plotting the trace\n",
    "plt.figure(figsize=(10, 6))\n",
    "plt.plot(epochs, train_loss, label=f'Training Loss)', marker='o')\n",
    "plt.plot(epochs, val_loss, label=f'Validation Loss)', marker='o')\n",
    "plt.title(f'Training and Validation Loss for Best Model)')\n",
    "plt.xlabel('Epochs')\n",
    "plt.ylabel('Mean Absolute Error (MAE)')\n",
    "plt.ylim(0.2, 1.5)\n",
    "plt.legend()\n",
    "plt.grid(True)\n",
    "plt.show()\n"
   ]
  },
  {
   "cell_type": "markdown",
   "metadata": {},
   "source": [
    "#### For Mid Model"
   ]
  },
  {
   "cell_type": "code",
   "execution_count": 218,
   "metadata": {},
   "outputs": [
    {
     "data": {
      "image/png": "[encoded data removed]",
      "text/plain": [
       "<Figure size 1000x600 with 1 Axes>"
      ]
     },
     "metadata": {},
     "output_type": "display_data"
    }
   ],
   "source": [
    "# Extract training and validation loss\n",
    "train_loss = mid_history.history['loss']\n",
    "val_loss = mid_history.history['val_loss']\n",
    "epochs = range(1, len(train_loss) + 1)\n",
    "# Define batch size\n",
    "batch_size = 256  # Replace with the actual batch size used during training\n",
    "\n",
    "# Plotting the trace\n",
    "plt.figure(figsize=(10, 6))\n",
    "plt.plot(epochs, train_loss, label=f'Training Loss)', marker='o')\n",
    "plt.plot(epochs, val_loss, label=f'Validation Loss)', marker='o')\n",
    "plt.title(f'Training and Validation Loss for Mid Model)')\n",
    "plt.xlabel('Epochs')\n",
    "plt.ylabel('Mean Absolute Error (MAE)')\n",
    "plt.ylim(0.2, 1.5)\n",
    "plt.legend()\n",
    "plt.grid(True)\n",
    "plt.show()"
   ]
  },
  {
   "cell_type": "markdown",
   "metadata": {},
   "source": [
    "#### For Worst Model"
   ]
  },
  {
   "cell_type": "code",
   "execution_count": 217,
   "metadata": {},
   "outputs": [
    {
     "data": {
      "image/png": "[encoded data removed]",
      "text/plain": [
       "<Figure size 1000x600 with 1 Axes>"
      ]
     },
     "metadata": {},
     "output_type": "display_data"
    }
   ],
   "source": [
    "# Extract training and validation loss\n",
    "train_loss = worst_history.history['loss']\n",
    "val_loss = worst_history.history['val_loss']\n",
    "epochs = range(1, len(train_loss) + 1)\n",
    "# Define batch size\n",
    "batch_size = 256  # Replace with the actual batch size used during training\n",
    "\n",
    "# Plotting the trace\n",
    "plt.figure(figsize=(10, 6))\n",
    "plt.plot(epochs, train_loss, label=f'Training Loss)', marker='o')\n",
    "plt.plot(epochs, val_loss, label=f'Validation Loss)', marker='o')\n",
    "plt.title(f'Training and Validation Loss for Worst Model)')\n",
    "plt.xlabel('Epochs')\n",
    "plt.ylabel('Mean Absolute Error (MAE)')\n",
    "plt.ylim(0.2, 1.5)\n",
    "plt.legend()\n",
    "plt.grid(True)\n",
    "plt.show()"
   ]
  }
 ],
 "metadata": {
  "kernelspec": {
   "display_name": "Python 3",
   "language": "python",
   "name": "python3"
  },
  "language_info": {
   "codemirror_mode": {
    "name": "ipython",
    "version": 3
   },
   "file_extension": ".py",
   "mimetype": "text/x-python",
   "name": "python",
   "nbconvert_exporter": "python",
   "pygments_lexer": "ipython3",
   "version": "3.10.14"
  }
 },
 "nbformat": 4,
 "nbformat_minor": 2
}
