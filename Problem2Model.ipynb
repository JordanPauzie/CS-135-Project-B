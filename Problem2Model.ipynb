{
 "cells": [
  {
   "cell_type": "markdown",
   "metadata": {},
   "source": [
    "### Part A"
   ]
  },
  {
   "cell_type": "code",
   "execution_count": 13,
   "metadata": {},
   "outputs": [],
   "source": [
    "import pandas as pd\n",
    "import numpy as np\n",
    "from sklearn.model_selection import train_test_split\n",
    "from sklearn.preprocessing import LabelEncoder\n",
    "from tensorflow.keras.layers import Input, Embedding, Flatten, Dot, Dense, Add, Concatenate, BatchNormalization\n",
    "from tensorflow.keras.models import Model\n",
    "from tensorflow.keras.callbacks import EarlyStopping\n",
    "from tensorflow.keras.optimizers import Adam\n",
    "from tensorflow.keras.regularizers import l2"
   ]
  },
  {
   "cell_type": "markdown",
   "metadata": {},
   "source": [
    "### Importing Data"
   ]
  },
  {
   "cell_type": "code",
   "execution_count": 14,
   "metadata": {},
   "outputs": [],
   "source": [
    "movies_df = pd.read_csv('/Users/brandonmukadziwashe/CS135/cs135-24f-assignments/CS-135-Project-B/data_movie_lens_100k/movie_info.csv')\n",
    "ratings_df = pd.read_csv('/Users/brandonmukadziwashe/CS135/cs135-24f-assignments/CS-135-Project-B/data_movie_lens_100k/ratings_all_development_set.csv')\n",
    "ratings_df = ratings_df.rename(columns={'user_id': 'userId', 'item_id': 'movieId'})\n",
    "movies_df = movies_df.rename(columns={'item_id': 'movieId'})\n",
    "leaderboard_data = pd.read_csv('/Users/brandonmukadziwashe/CS135/cs135-24f-assignments/CS-135-Project-B/data_movie_lens_100k/ratings_masked_leaderboard_set.csv') "
   ]
  },
  {
   "cell_type": "markdown",
   "metadata": {},
   "source": [
    "### Data Preprocessing"
   ]
  },
  {
   "cell_type": "code",
   "execution_count": 15,
   "metadata": {},
   "outputs": [],
   "source": [
    "# Ensure required columns exist\n",
    "assert 'userId' in ratings_df.columns and 'movieId' in ratings_df.columns and 'rating' in ratings_df.columns\n",
    "\n",
    "# Encode user and movie IDs\n",
    "user_encoder = LabelEncoder()\n",
    "ratings_df['user_id_encoded'] = user_encoder.fit_transform(ratings_df['userId'])\n",
    "\n",
    "movie_encoder = LabelEncoder()\n",
    "ratings_df['movie_id_encoded'] = movie_encoder.fit_transform(ratings_df['movieId'])\n",
    "\n",
    "# Copy the dataset and split into train and test sets\n",
    "df = ratings_df.copy()\n",
    "train, test = train_test_split(df, test_size=0.2, random_state=42)\n",
    "\n",
    "# Convert columns to NumPy arrays\n",
    "train_user_ids = np.array(train['user_id_encoded'].values)\n",
    "train_movie_ids = np.array(train['movie_id_encoded'].values)\n",
    "train_ratings = np.array(train['rating'].values)\n",
    "\n",
    "test_user_ids = np.array(test['user_id_encoded'].values)\n",
    "test_movie_ids = np.array(test['movie_id_encoded'].values)\n",
    "test_ratings = np.array(test['rating'].values)\n",
    "\n",
    "\n",
    "# Define the number of unique users, movies, and embedding dimensions\n",
    "num_users = df['user_id_encoded'].nunique()\n",
    "num_movies = df['movie_id_encoded'].nunique()\n",
    "embedding_dim = 50"
   ]
  },
  {
   "cell_type": "markdown",
   "metadata": {},
   "source": [
    "### Getting embeddings"
   ]
  },
  {
   "cell_type": "code",
   "execution_count": 16,
   "metadata": {},
   "outputs": [],
   "source": [
    "# User input and embedding\n",
    "user_input = Input(shape=(1,), name='user_input')\n",
    "user_embedding = Embedding(input_dim=num_users + 1, output_dim=embedding_dim, name='user_embedding')(user_input)\n",
    "user_embedding = Flatten()(user_embedding)\n",
    "\n",
    "# Movie input and embedding\n",
    "movie_input = Input(shape=(1,), name='movie_input')\n",
    "movie_embedding = Embedding(input_dim=num_movies + 1, output_dim=embedding_dim, name='movie_embedding')(movie_input)\n",
    "movie_embedding = Flatten()(movie_embedding)"
   ]
  },
  {
   "cell_type": "markdown",
   "metadata": {},
   "source": [
    "### Defining the model and training"
   ]
  },
  {
   "cell_type": "code",
   "execution_count": null,
   "metadata": {},
   "outputs": [
    {
     "name": "stdout",
     "output_type": "stream",
     "text": [
      "Epoch 1/20\n",
      "\u001b[1m1125/1125\u001b[0m \u001b[32m━━━━━━━━━━━━━━━━━━━━\u001b[0m\u001b[37m\u001b[0m \u001b[1m2s\u001b[0m 1ms/step - loss: 5.0660 - val_loss: 2.6133\n",
      "Epoch 2/20\n",
      "\u001b[1m1125/1125\u001b[0m \u001b[32m━━━━━━━━━━━━━━━━━━━━\u001b[0m\u001b[37m\u001b[0m \u001b[1m1s\u001b[0m 1ms/step - loss: 2.2886 - val_loss: 1.4039\n",
      "Epoch 3/20\n",
      "\u001b[1m1125/1125\u001b[0m \u001b[32m━━━━━━━━━━━━━━━━━━━━\u001b[0m\u001b[37m\u001b[0m \u001b[1m1s\u001b[0m 1ms/step - loss: 0.9330 - val_loss: 0.7618\n",
      "Epoch 4/20\n",
      "\u001b[1m1125/1125\u001b[0m \u001b[32m━━━━━━━━━━━━━━━━━━━━\u001b[0m\u001b[37m\u001b[0m \u001b[1m1s\u001b[0m 1ms/step - loss: 0.4178 - val_loss: 0.7766\n",
      "Epoch 5/20\n",
      "\u001b[1m1125/1125\u001b[0m \u001b[32m━━━━━━━━━━━━━━━━━━━━\u001b[0m\u001b[37m\u001b[0m \u001b[1m1s\u001b[0m 1ms/step - loss: 0.3677 - val_loss: 0.7866\n",
      "Epoch 6/20\n",
      "\u001b[1m1125/1125\u001b[0m \u001b[32m━━━━━━━━━━━━━━━━━━━━\u001b[0m\u001b[37m\u001b[0m \u001b[1m2s\u001b[0m 1ms/step - loss: 0.3430 - val_loss: 0.7937\n",
      "\u001b[1m563/563\u001b[0m \u001b[32m━━━━━━━━━━━━━━━━━━━━\u001b[0m\u001b[37m\u001b[0m \u001b[1m0s\u001b[0m 461us/step - loss: 0.7601\n",
      "Test loss (MAE): 0.7618473768234253\n"
     ]
    }
   ],
   "source": [
    "# Define the model\n",
    "\n",
    "# Dot product of embeddings and output layer\n",
    "dot_product = Dot(axes=1)([user_embedding, movie_embedding])\n",
    "output = Dense(1, activation='linear')(dot_product)\n",
    "\n",
    "# Compile the model\n",
    "model = Model(inputs=[user_input, movie_input], outputs=output)\n",
    "model.compile(optimizer='adam', loss='mae')\n",
    "\n",
    "# Add early stopping\n",
    "early_stopping = EarlyStopping(monitor='val_loss', patience=3, restore_best_weights=True)\n",
    "\n",
    "# Train the model\n",
    "history = model.fit(\n",
    "    [train_user_ids, train_movie_ids], train_ratings,\n",
    "    epochs=20,\n",
    "    batch_size=64,\n",
    "    validation_data=([test_user_ids, test_movie_ids], test_ratings),\n",
    "    callbacks=[early_stopping]\n",
    ")\n",
    "\n",
    "# Evaluate the model\n",
    "test_loss = model.evaluate([test_user_ids, test_movie_ids], test_ratings)\n",
    "print(f\"Test loss (MAE): {test_loss}\")"
   ]
  },
  {
   "cell_type": "markdown",
   "metadata": {},
   "source": [
    "### Making the predictions"
   ]
  },
  {
   "cell_type": "code",
   "execution_count": 26,
   "metadata": {},
   "outputs": [
    {
     "name": "stdout",
     "output_type": "stream",
     "text": [
      "\u001b[1m563/563\u001b[0m \u001b[32m━━━━━━━━━━━━━━━━━━━━\u001b[0m\u001b[37m\u001b[0m \u001b[1m0s\u001b[0m 517us/step\n",
      "Predictions for user 772, ordered by closest rating difference:\n",
      "       original_user_id  original_movie_id  actual_rating  predicted_rating  \\\n",
      "10398               772                946              2          2.012197   \n",
      "44904               772                 69              3          2.972420   \n",
      "67026               772                893              2          2.291149   \n",
      "21632               772                284              3          3.333319   \n",
      "525                 772                175              4          3.547417   \n",
      "13524               772                565              2          2.478595   \n",
      "89249               772                391              2          2.483319   \n",
      "19940               772               1019              5          4.372835   \n",
      "38949               772                 95              2          2.643290   \n",
      "74901               772                187              3          3.695869   \n",
      "56211               772                170              5          4.297007   \n",
      "76753               772                230              2          2.712610   \n",
      "8138                772                431              3          3.743736   \n",
      "71188               772                183              2          2.966233   \n",
      "74708               772                126              5          4.010796   \n",
      "26294               772                401              2          2.999296   \n",
      "62191               772                917              5          3.965481   \n",
      "89978               772                728              3          4.072872   \n",
      "70790               772               1034              3          1.921283   \n",
      "57334               772                  6              2          3.201119   \n",
      "63078               772                180              5          3.295390   \n",
      "89032               772                922              1          2.967140   \n",
      "78013               772                257              5          2.950654   \n",
      "\n",
      "       rating_difference  \n",
      "10398           0.012197  \n",
      "44904           0.027580  \n",
      "67026           0.291149  \n",
      "21632           0.333319  \n",
      "525             0.452583  \n",
      "13524           0.478595  \n",
      "89249           0.483319  \n",
      "19940           0.627165  \n",
      "38949           0.643290  \n",
      "74901           0.695869  \n",
      "56211           0.702993  \n",
      "76753           0.712610  \n",
      "8138            0.743736  \n",
      "71188           0.966233  \n",
      "74708           0.989204  \n",
      "26294           0.999296  \n",
      "62191           1.034519  \n",
      "89978           1.072872  \n",
      "70790           1.078717  \n",
      "57334           1.201119  \n",
      "63078           1.704610  \n",
      "89032           1.967140  \n",
      "78013           2.049346  \n",
      "\u001b[1m313/313\u001b[0m \u001b[32m━━━━━━━━━━━━━━━━━━━━\u001b[0m\u001b[37m\u001b[0m \u001b[1m0s\u001b[0m 468us/step\n"
     ]
    }
   ],
   "source": [
    "# Predict ratings for the test set\n",
    "test_predictions = model.predict([test_user_ids, test_movie_ids])\n",
    "\n",
    "# Create a DataFrame with predictions\n",
    "test_results = pd.DataFrame({\n",
    "    'original_user_id': test['userId'],\n",
    "    'original_movie_id': test['movieId'],\n",
    "    'actual_rating': test_ratings,\n",
    "    'predicted_rating': test_predictions.flatten()\n",
    "})\n",
    "test_results['rating_difference'] = abs(test_results['actual_rating'] - test_results['predicted_rating'])\n",
    "\n",
    "# Filter results for a specific user and sort by rating difference\n",
    "filter_user_id = 772  # Replace with your desired user ID\n",
    "filtered_results = test_results[test_results['original_user_id'] == filter_user_id]\n",
    "filtered_results_sorted = filtered_results.sort_values(by='rating_difference')\n",
    "\n",
    "print(f\"Predictions for user {filter_user_id}, ordered by closest rating difference:\")\n",
    "print(filtered_results_sorted)\n",
    "\n",
    "# Load leaderboard data\n",
    "leaderboard_data = pd.read_csv('/Users/brandonmukadziwashe/CS135/cs135-24f-assignments/CS-135-Project-B/data_movie_lens_100k/ratings_masked_leaderboard_set.csv')  # Replace with your leaderboard file path\n",
    "assert 'user_id' in leaderboard_data.columns and 'item_id' in leaderboard_data.columns\n",
    "\n",
    "# Handle unseen user and movie IDs using mapping\n",
    "user_mapping = dict(zip(user_encoder.classes_, user_encoder.transform(user_encoder.classes_)))\n",
    "movie_mapping = dict(zip(movie_encoder.classes_, movie_encoder.transform(movie_encoder.classes_)))\n",
    "\n",
    "# Map user and movie IDs, assigning unseen IDs to placeholder index\n",
    "leaderboard_data['user_id_encoded'] = leaderboard_data['user_id'].map(\n",
    "    lambda x: user_mapping.get(x, num_users)\n",
    ").astype(int)\n",
    "\n",
    "leaderboard_data['item_id_encoded'] = leaderboard_data['item_id'].map(\n",
    "    lambda x: movie_mapping.get(x, num_movies)\n",
    ").astype(int)\n",
    "\n",
    "# Predict leaderboard ratings\n",
    "user_ids = leaderboard_data['user_id_encoded'].values\n",
    "item_ids = leaderboard_data['item_id_encoded'].values\n",
    "predictions = model.predict([user_ids, item_ids]).flatten()\n",
    "\n",
    "# Save leaderboard predictions to a file\n",
    "with open(\"predicted_ratings_leaderboard3.txt\", \"w\") as f:\n",
    "    for pred in predictions:\n",
    "        f.write(f\"{pred}\\n\")"
   ]
  },
  {
   "cell_type": "markdown",
   "metadata": {},
   "source": [
    "### Part B\n",
    "1 figure (with caption) relevant to reporting how you trained the model or selected model complexity. This could be a trace plot or a hyperparameter selection plot."
   ]
  },
  {
   "cell_type": "markdown",
   "metadata": {},
   "source": [
    "### Finding best hyperparameters"
   ]
  },
  {
   "cell_type": "code",
   "execution_count": null,
   "metadata": {},
   "outputs": [],
   "source": [
    "import itertools\n",
    "\n",
    "from tensorflow.keras.callbacks import EarlyStopping\n",
    "from tensorflow.keras.models import Model\n",
    "from tensorflow.keras.layers import Input, Embedding, Flatten, Dot, Dense\n",
    "from sklearn.metrics import mean_absolute_error\n",
    "\n",
    "def build_and_train_model(num_users, num_movies, embedding_dim, learning_rate, batch_size, epochs, patience, activation):\n",
    "    # Define the model\n",
    "    user_input = Input(shape=(1,), name='user_input')\n",
    "    user_embedding = Embedding(input_dim=num_users, output_dim=embedding_dim, name='user_embedding')(user_input)\n",
    "    user_embedding = Flatten()(user_embedding)\n",
    "\n",
    "    movie_input = Input(shape=(1,), name='movie_input')\n",
    "    movie_embedding = Embedding(input_dim=num_movies, output_dim=embedding_dim, name='movie_embedding')(movie_input)\n",
    "    movie_embedding = Flatten()(movie_embedding)\n",
    "\n",
    "    dot_product = Dot(axes=1)([user_embedding, movie_embedding])\n",
    "    output = Dense(1, activation=activation)(dot_product)\n",
    "\n",
    "    model = Model(inputs=[user_input, movie_input], outputs=output)\n",
    "    optimizer = Adam(learning_rate=learning_rate)\n",
    "    model.compile(optimizer=optimizer, loss='mae')\n",
    "\n",
    "    # Add early stopping\n",
    "    early_stopping = EarlyStopping(monitor='val_loss', patience=patience, restore_best_weights=True)\n",
    "\n",
    "    # Train the model\n",
    "    history = model.fit(\n",
    "        [train_user_ids, train_movie_ids], train_ratings,\n",
    "        epochs=epochs,\n",
    "        batch_size=batch_size,\n",
    "        validation_data=([test_user_ids, test_movie_ids], test_ratings),\n",
    "        callbacks=[early_stopping],\n",
    "        verbose=0\n",
    "    )\n",
    "\n",
    "    # Evaluate the model\n",
    "    val_loss = model.evaluate([test_user_ids, test_movie_ids], test_ratings, verbose=0)\n",
    "    return model, val_loss\n",
    "\n",
    "# Define the hyperparameter grid\n",
    "embedding_dims = [16, 32, 64, 128]\n",
    "learning_rates = [0.001, 0.005, 0.01, 0.05]\n",
    "batch_sizes = [32, 64, 128, 256]\n",
    "activation = ['relu', 'linear']\n",
    "epochs = [10, 50]\n",
    "patience = 3\n",
    "\n",
    "best_model = None\n",
    "best_params = None\n",
    "lowest_mae = float('inf')\n",
    "\n",
    "results = {}\n",
    "counter = 1\n",
    "# 256 expected combinations\n",
    "# Perform grid search\n",
    "for emb_dim, lr, batch_size, act, epoch in itertools.product(embedding_dims, learning_rates, batch_sizes, activation, epochs):\n",
    "    model, val_mae = build_and_train_model(num_users, num_movies, emb_dim, lr, batch_size, epoch, patience, act)\n",
    "\n",
    "    print(counter)\n",
    "\n",
    "    if val_mae < lowest_mae:\n",
    "        lowest_mae = val_mae\n",
    "        best_model = model\n",
    "        best_params = (emb_dim, lr, batch_size)\n",
    "        \n",
    "    results[(emb_dim, lr, batch_size, act, epoch)] = val_mae\n",
    "\n",
    "    counter += 1\n",
    "    \n",
    "print(f\"\\nBest Model Found: Embedding Dim={best_params[0]}, Learning Rate={best_params[1]}, Batch Size={best_params[2]}\")\n",
    "print(f\"Lowest Validation MAE: {lowest_mae:.4f}\")"
   ]
  },
  {
   "cell_type": "code",
   "execution_count": 55,
   "metadata": {},
   "outputs": [
    {
     "name": "stdout",
     "output_type": "stream",
     "text": [
      "{(16, 0.001, 32, 'relu', 10): 0.7434951663017273, (16, 0.001, 32, 'relu', 50): 0.7407206892967224, (16, 0.001, 32, 'linear', 10): 0.7396008372306824, (16, 0.001, 32, 'linear', 50): 0.7466884851455688, (16, 0.001, 64, 'relu', 10): 0.7389902472496033, (16, 0.001, 64, 'relu', 50): 0.736417293548584, (16, 0.001, 64, 'linear', 10): 0.7417230606079102, (16, 0.001, 64, 'linear', 50): 0.738938570022583, (16, 0.001, 128, 'relu', 10): 0.7487221956253052, (16, 0.001, 128, 'relu', 50): 0.7389059066772461, (16, 0.001, 128, 'linear', 10): 0.7350518107414246, (16, 0.001, 128, 'linear', 50): 0.7322984337806702, (16, 0.001, 256, 'relu', 10): 0.7354264259338379, (16, 0.001, 256, 'relu', 50): 0.7357543706893921, (16, 0.001, 256, 'linear', 10): 0.744534432888031, (16, 0.001, 256, 'linear', 50): 0.7364530563354492, (16, 0.005, 32, 'relu', 10): 0.7660120725631714, (16, 0.005, 32, 'relu', 50): 0.7701802253723145, (16, 0.005, 32, 'linear', 10): 0.7710860371589661, (16, 0.005, 32, 'linear', 50): 0.7687979936599731, (16, 0.005, 64, 'relu', 10): 0.7663257122039795, (16, 0.005, 64, 'relu', 50): 0.7614063620567322, (16, 0.005, 64, 'linear', 10): 0.7653692364692688, (16, 0.005, 64, 'linear', 50): 0.7610154747962952, (16, 0.005, 128, 'relu', 10): 0.7690936326980591, (16, 0.005, 128, 'relu', 50): 0.7622886896133423, (16, 0.005, 128, 'linear', 10): 0.7670800685882568, (16, 0.005, 128, 'linear', 50): 0.767151951789856, (16, 0.005, 256, 'relu', 10): 0.7588658332824707, (16, 0.005, 256, 'relu', 50): 0.7475464940071106, (16, 0.005, 256, 'linear', 10): 0.7520395517349243, (16, 0.005, 256, 'linear', 50): 0.7517420649528503, (16, 0.01, 32, 'relu', 10): 0.7756189703941345, (16, 0.01, 32, 'relu', 50): 0.766692578792572, (16, 0.01, 32, 'linear', 10): 0.7693005204200745, (16, 0.01, 32, 'linear', 50): 0.7764025926589966, (16, 0.01, 64, 'relu', 10): 0.7718514800071716, (16, 0.01, 64, 'relu', 50): 0.7769867777824402, (16, 0.01, 64, 'linear', 10): 0.7695532441139221, (16, 0.01, 64, 'linear', 50): 0.7696634531021118, (16, 0.01, 128, 'relu', 10): 0.7739232182502747, (16, 0.01, 128, 'relu', 50): 0.7692853212356567, (16, 0.01, 128, 'linear', 10): 0.7629544138908386, (16, 0.01, 128, 'linear', 50): 0.7664785385131836, (16, 0.01, 256, 'relu', 10): 0.7694708704948425, (16, 0.01, 256, 'relu', 50): 0.7700781226158142, (16, 0.01, 256, 'linear', 10): 0.7682311534881592, (16, 0.01, 256, 'linear', 50): 0.7634321451187134, (16, 0.05, 32, 'relu', 10): 0.900814414024353, (16, 0.05, 32, 'relu', 50): 0.9062106013298035, (16, 0.05, 32, 'linear', 10): 0.8959019780158997, (16, 0.05, 32, 'linear', 50): 0.8992287516593933, (16, 0.05, 64, 'relu', 10): 0.899516761302948, (16, 0.05, 64, 'relu', 50): 0.7886375188827515, (16, 0.05, 64, 'linear', 10): 0.807229220867157, (16, 0.05, 64, 'linear', 50): 0.7915253043174744, (16, 0.05, 128, 'relu', 10): 0.788815975189209, (16, 0.05, 128, 'relu', 50): 0.7758840322494507, (16, 0.05, 128, 'linear', 10): 0.7822118401527405, (16, 0.05, 128, 'linear', 50): 0.7939257621765137, (16, 0.05, 256, 'relu', 10): 0.7828906178474426, (16, 0.05, 256, 'relu', 50): 0.7733977437019348, (16, 0.05, 256, 'linear', 10): 0.7745512127876282, (16, 0.05, 256, 'linear', 50): 0.7802144885063171, (32, 0.001, 32, 'relu', 10): 0.7484573721885681, (32, 0.001, 32, 'relu', 50): 0.7469156384468079, (32, 0.001, 32, 'linear', 10): 0.7415098547935486, (32, 0.001, 32, 'linear', 50): 0.7485195398330688, (32, 0.001, 64, 'relu', 10): 0.7361441850662231, (32, 0.001, 64, 'relu', 50): 0.737695038318634, (32, 0.001, 64, 'linear', 10): 0.7366321682929993, (32, 0.001, 64, 'linear', 50): 0.7415816783905029, (32, 0.001, 128, 'relu', 10): 0.735840380191803, (32, 0.001, 128, 'relu', 50): 0.7371057868003845, (32, 0.001, 128, 'linear', 10): 0.7339118123054504, (32, 0.001, 128, 'linear', 50): 0.7334234118461609, (32, 0.001, 256, 'relu', 10): 0.737619936466217, (32, 0.001, 256, 'relu', 50): 0.7318860292434692, (32, 0.001, 256, 'linear', 10): 0.7461909055709839, (32, 0.001, 256, 'linear', 50): 0.736663818359375, (32, 0.005, 32, 'relu', 10): 0.7737521529197693, (32, 0.005, 32, 'relu', 50): 0.7729184627532959, (32, 0.005, 32, 'linear', 10): 0.7759753465652466, (32, 0.005, 32, 'linear', 50): 0.7732860445976257, (32, 0.005, 64, 'relu', 10): 0.7653204798698425, (32, 0.005, 64, 'relu', 50): 0.7741163372993469, (32, 0.005, 64, 'linear', 10): 0.7735593318939209, (32, 0.005, 64, 'linear', 50): 0.7788866758346558, (32, 0.005, 128, 'relu', 10): 0.7713897228240967, (32, 0.005, 128, 'relu', 50): 0.7646169066429138, (32, 0.005, 128, 'linear', 10): 0.7745664715766907, (32, 0.005, 128, 'linear', 50): 0.7691728472709656, (32, 0.005, 256, 'relu', 10): 0.7696163058280945, (32, 0.005, 256, 'relu', 50): 0.7643257975578308, (32, 0.005, 256, 'linear', 10): 0.7669816017150879, (32, 0.005, 256, 'linear', 50): 0.7678291201591492, (32, 0.01, 32, 'relu', 10): 0.7863627076148987, (32, 0.01, 32, 'relu', 50): 0.7815673351287842, (32, 0.01, 32, 'linear', 10): 0.7794622778892517, (32, 0.01, 32, 'linear', 50): 0.7792587876319885, (32, 0.01, 64, 'relu', 10): 0.774711012840271, (32, 0.01, 64, 'relu', 50): 0.7765093445777893, (32, 0.01, 64, 'linear', 10): 0.7785449028015137, (32, 0.01, 64, 'linear', 50): 0.780954122543335, (32, 0.01, 128, 'relu', 10): 0.7764020562171936, (32, 0.01, 128, 'relu', 50): 0.7779049277305603, (32, 0.01, 128, 'linear', 10): 0.7739303708076477, (32, 0.01, 128, 'linear', 50): 0.7760113477706909, (32, 0.01, 256, 'relu', 10): 0.7767121195793152, (32, 0.01, 256, 'relu', 50): 0.7908373475074768, (32, 0.01, 256, 'linear', 10): 0.7671726942062378, (32, 0.01, 256, 'linear', 50): 0.7833460569381714, (32, 0.05, 32, 'relu', 10): 0.8980393409729004, (32, 0.05, 32, 'relu', 50): 0.9151236414909363, (32, 0.05, 32, 'linear', 10): 0.9158661961555481, (32, 0.05, 32, 'linear', 50): 0.9144543409347534, (32, 0.05, 64, 'relu', 10): 0.8063008189201355, (32, 0.05, 64, 'relu', 50): 0.810575008392334, (32, 0.05, 64, 'linear', 10): 0.8204942345619202, (32, 0.05, 64, 'linear', 50): 0.8198510408401489, (32, 0.05, 128, 'relu', 10): 0.7864260077476501, (32, 0.05, 128, 'relu', 50): 0.7872477769851685, (32, 0.05, 128, 'linear', 10): 0.7870697975158691, (32, 0.05, 128, 'linear', 50): 0.7994351983070374, (32, 0.05, 256, 'relu', 10): 0.7964822053909302, (32, 0.05, 256, 'relu', 50): 0.7877065539360046, (32, 0.05, 256, 'linear', 10): 0.7885683178901672, (32, 0.05, 256, 'linear', 50): 0.7882599234580994, (64, 0.001, 32, 'relu', 10): 0.7560786008834839, (64, 0.001, 32, 'relu', 50): 0.7487145662307739, (64, 0.001, 32, 'linear', 10): 0.7579062581062317, (64, 0.001, 32, 'linear', 50): 0.7576157450675964, (64, 0.001, 64, 'relu', 10): 0.7494492530822754, (64, 0.001, 64, 'relu', 50): 0.7373076677322388, (64, 0.001, 64, 'linear', 10): 0.7357891201972961, (64, 0.001, 64, 'linear', 50): 0.7445159554481506, (64, 0.001, 128, 'relu', 10): 0.7318254113197327, (64, 0.001, 128, 'relu', 50): 0.733728289604187, (64, 0.001, 128, 'linear', 10): 0.7368267178535461, (64, 0.001, 128, 'linear', 50): 0.7350267171859741, (64, 0.001, 256, 'relu', 10): 0.7367371320724487, (64, 0.001, 256, 'relu', 50): 0.7308167815208435, (64, 0.001, 256, 'linear', 10): 0.7395397424697876, (64, 0.001, 256, 'linear', 50): 0.7351638674736023, (64, 0.005, 32, 'relu', 10): 0.7787929773330688, (64, 0.005, 32, 'relu', 50): 0.7753775715827942, (64, 0.005, 32, 'linear', 10): 0.7828010320663452, (64, 0.005, 32, 'linear', 50): 0.7793827056884766, (64, 0.005, 64, 'relu', 10): 0.779736340045929, (64, 0.005, 64, 'relu', 50): 0.7796852588653564, (64, 0.005, 64, 'linear', 10): 0.7767600417137146, (64, 0.005, 64, 'linear', 50): 0.7801334857940674, (64, 0.005, 128, 'relu', 10): 0.7829663753509521, (64, 0.005, 128, 'relu', 50): 0.7730951905250549, (64, 0.005, 128, 'linear', 10): 0.785345196723938, (64, 0.005, 128, 'linear', 50): 0.7881721258163452, (64, 0.005, 256, 'relu', 10): 0.7768633961677551, (64, 0.005, 256, 'relu', 50): 0.757696270942688, (64, 0.005, 256, 'linear', 10): 0.7729949951171875, (64, 0.005, 256, 'linear', 50): 0.7818132638931274, (64, 0.01, 32, 'relu', 10): 0.7857367992401123, (64, 0.01, 32, 'relu', 50): 0.7797279357910156, (64, 0.01, 32, 'linear', 10): 0.7868494987487793, (64, 0.01, 32, 'linear', 50): 0.7921305894851685, (64, 0.01, 64, 'relu', 10): 0.7784992456436157, (64, 0.01, 64, 'relu', 50): 0.7856665253639221, (64, 0.01, 64, 'linear', 10): 0.781552255153656, (64, 0.01, 64, 'linear', 50): 0.7809207439422607, (64, 0.01, 128, 'relu', 10): 0.7763367891311646, (64, 0.01, 128, 'relu', 50): 0.7771686911582947, (64, 0.01, 128, 'linear', 10): 0.7700849175453186, (64, 0.01, 128, 'linear', 50): 0.7689141631126404, (64, 0.01, 256, 'relu', 10): 0.7865098118782043, (64, 0.01, 256, 'relu', 50): 0.790388822555542, (64, 0.01, 256, 'linear', 10): 0.7854359745979309, (64, 0.01, 256, 'linear', 50): 0.7993758916854858, (64, 0.05, 32, 'relu', 10): 0.9233744144439697, (64, 0.05, 32, 'relu', 50): 0.9051094651222229, (64, 0.05, 32, 'linear', 10): 0.9211984276771545, (64, 0.05, 32, 'linear', 50): 0.9217110276222229, (64, 0.05, 64, 'relu', 10): 0.8123323917388916, (64, 0.05, 64, 'relu', 50): 0.8090875744819641, (64, 0.05, 64, 'linear', 10): 0.8044430017471313, (64, 0.05, 64, 'linear', 50): 0.8205008506774902, (64, 0.05, 128, 'relu', 10): 0.8053382039070129, (64, 0.05, 128, 'relu', 50): 0.799251914024353, (64, 0.05, 128, 'linear', 10): 0.7989875078201294, (64, 0.05, 128, 'linear', 50): 0.800937294960022, (64, 0.05, 256, 'relu', 10): 0.7932257652282715, (64, 0.05, 256, 'relu', 50): 0.7944192886352539, (64, 0.05, 256, 'linear', 10): 0.78913414478302, (64, 0.05, 256, 'linear', 50): 0.7900534272193909, (128, 0.001, 32, 'relu', 10): 0.7690280079841614, (128, 0.001, 32, 'relu', 50): 0.758758008480072, (128, 0.001, 32, 'linear', 10): 0.7637186050415039, (128, 0.001, 32, 'linear', 50): 0.7741915583610535, (128, 0.001, 64, 'relu', 10): 0.7465077638626099, (128, 0.001, 64, 'relu', 50): 0.7569159865379333, (128, 0.001, 64, 'linear', 10): 0.7499285936355591, (128, 0.001, 64, 'linear', 50): 0.7474719285964966, (128, 0.001, 128, 'relu', 10): 0.7369340658187866, (128, 0.001, 128, 'relu', 50): 0.746858537197113, (128, 0.001, 128, 'linear', 10): 0.7426599264144897, (128, 0.001, 128, 'linear', 50): 0.7381566762924194, (128, 0.001, 256, 'relu', 10): 0.7353672981262207, (128, 0.001, 256, 'relu', 50): 0.737171471118927, (128, 0.001, 256, 'linear', 10): 0.7321480512619019, (128, 0.001, 256, 'linear', 50): 0.7286162376403809, (128, 0.005, 32, 'relu', 10): 0.7809159755706787, (128, 0.005, 32, 'relu', 50): 0.78151935338974, (128, 0.005, 32, 'linear', 10): 0.7828125357627869, (128, 0.005, 32, 'linear', 50): 0.7787469029426575, (128, 0.005, 64, 'relu', 10): 0.7826022505760193, (128, 0.005, 64, 'relu', 50): 0.7844569087028503, (128, 0.005, 64, 'linear', 10): 0.7763770222663879, (128, 0.005, 64, 'linear', 50): 0.7784034609794617, (128, 0.005, 128, 'relu', 10): 0.7835966944694519, (128, 0.005, 128, 'relu', 50): 0.7830862998962402, (128, 0.005, 128, 'linear', 10): 0.7880728244781494, (128, 0.005, 128, 'linear', 50): 0.7820159792900085, (128, 0.005, 256, 'relu', 10): 0.7771778106689453, (128, 0.005, 256, 'relu', 50): 0.7908924221992493, (128, 0.005, 256, 'linear', 10): 0.7899178266525269, (128, 0.005, 256, 'linear', 50): 0.7905185222625732, (128, 0.01, 32, 'relu', 10): 0.7859880924224854, (128, 0.01, 32, 'relu', 50): 0.7877827882766724, (128, 0.01, 32, 'linear', 10): 0.7863228917121887, (128, 0.01, 32, 'linear', 50): 0.7848060131072998, (128, 0.01, 64, 'relu', 10): 0.7848432064056396, (128, 0.01, 64, 'relu', 50): 0.7846161127090454, (128, 0.01, 64, 'linear', 10): 0.7807326912879944, (128, 0.01, 64, 'linear', 50): 0.7884031534194946, (128, 0.01, 128, 'relu', 10): 0.780209481716156, (128, 0.01, 128, 'relu', 50): 0.7767903804779053, (128, 0.01, 128, 'linear', 10): 0.776495635509491, (128, 0.01, 128, 'linear', 50): 0.7769029140472412, (128, 0.01, 256, 'relu', 10): 0.7829907536506653, (128, 0.01, 256, 'relu', 50): 0.7829060554504395, (128, 0.01, 256, 'linear', 10): 0.7888724207878113, (128, 0.01, 256, 'linear', 50): 0.7837061285972595, (128, 0.05, 32, 'relu', 10): 0.9170181751251221, (128, 0.05, 32, 'relu', 50): 0.9206127524375916, (128, 0.05, 32, 'linear', 10): 0.9238486289978027, (128, 0.05, 32, 'linear', 50): 0.9069765210151672, (128, 0.05, 64, 'relu', 10): 0.8318747878074646, (128, 0.05, 64, 'relu', 50): 0.8238415122032166, (128, 0.05, 64, 'linear', 10): 0.8227657675743103, (128, 0.05, 64, 'linear', 50): 0.8309546709060669, (128, 0.05, 128, 'relu', 10): 0.798376202583313, (128, 0.05, 128, 'relu', 50): 0.8097265362739563, (128, 0.05, 128, 'linear', 10): 0.7956849932670593, (128, 0.05, 128, 'linear', 50): 0.7979138493537903, (128, 0.05, 256, 'relu', 10): 0.7950884699821472, (128, 0.05, 256, 'relu', 50): 0.794610857963562, (128, 0.05, 256, 'linear', 10): 0.7953792810440063, (128, 0.05, 256, 'linear', 50): 0.7961727976799011}\n"
     ]
    }
   ],
   "source": [
    "print(results)\n",
    "with open(\"results.txt\", \"w\") as f:\n",
    "    f.write(str(results))"
   ]
  },
  {
   "cell_type": "code",
   "execution_count": null,
   "metadata": {},
   "outputs": [],
   "source": []
  },
  {
   "cell_type": "code",
   "execution_count": 47,
   "metadata": {},
   "outputs": [
    {
     "ename": "ImportError",
     "evalue": "cannot import name '_fit_context' from 'sklearn.base' (/Users/brandonmukadziwashe/micromamba/envs/cs135_env/lib/python3.10/site-packages/sklearn/base.py)",
     "output_type": "error",
     "traceback": [
      "\u001b[0;31m---------------------------------------------------------------------------\u001b[0m",
      "\u001b[0;31mImportError\u001b[0m                               Traceback (most recent call last)",
      "Cell \u001b[0;32mIn[47], line 8\u001b[0m\n\u001b[1;32m      4\u001b[0m \u001b[38;5;28;01mfrom\u001b[39;00m \u001b[38;5;21;01mtensorflow\u001b[39;00m\u001b[38;5;21;01m.\u001b[39;00m\u001b[38;5;21;01mkeras\u001b[39;00m\u001b[38;5;21;01m.\u001b[39;00m\u001b[38;5;21;01moptimizers\u001b[39;00m \u001b[38;5;28;01mimport\u001b[39;00m Adam\n\u001b[1;32m      5\u001b[0m \u001b[38;5;66;03m# from tensorflow.keras.wrappers.scikit_learn import KerasRegressor\u001b[39;00m\n\u001b[1;32m      6\u001b[0m \u001b[38;5;66;03m# from tensorflow.keras.wrappers.scikit_learn import KerasRegressor\u001b[39;00m\n\u001b[0;32m----> 8\u001b[0m \u001b[38;5;28;01mfrom\u001b[39;00m \u001b[38;5;21;01mscikeras\u001b[39;00m\u001b[38;5;21;01m.\u001b[39;00m\u001b[38;5;21;01mwrappers\u001b[39;00m \u001b[38;5;28;01mimport\u001b[39;00m KerasRegressor\n\u001b[1;32m     10\u001b[0m \u001b[38;5;28;01mfrom\u001b[39;00m \u001b[38;5;21;01msklearn\u001b[39;00m\u001b[38;5;21;01m.\u001b[39;00m\u001b[38;5;21;01mmodel_selection\u001b[39;00m \u001b[38;5;28;01mimport\u001b[39;00m GridSearchCV\n\u001b[1;32m     12\u001b[0m \u001b[38;5;66;03m# Function to create the model\u001b[39;00m\n",
      "File \u001b[0;32m~/micromamba/envs/cs135_env/lib/python3.10/site-packages/scikeras/wrappers.py:35\u001b[0m\n\u001b[1;32m     33\u001b[0m \u001b[38;5;28;01mfrom\u001b[39;00m \u001b[38;5;21;01mscikeras\u001b[39;00m\u001b[38;5;21;01m.\u001b[39;00m\u001b[38;5;21;01mutils\u001b[39;00m \u001b[38;5;28;01mimport\u001b[39;00m loss_name, metric_name\n\u001b[1;32m     34\u001b[0m \u001b[38;5;28;01mfrom\u001b[39;00m \u001b[38;5;21;01mscikeras\u001b[39;00m\u001b[38;5;21;01m.\u001b[39;00m\u001b[38;5;21;01mutils\u001b[39;00m\u001b[38;5;21;01m.\u001b[39;00m\u001b[38;5;21;01mrandom_state\u001b[39;00m \u001b[38;5;28;01mimport\u001b[39;00m tensorflow_random_state\n\u001b[0;32m---> 35\u001b[0m \u001b[38;5;28;01mfrom\u001b[39;00m \u001b[38;5;21;01mscikeras\u001b[39;00m\u001b[38;5;21;01m.\u001b[39;00m\u001b[38;5;21;01mutils\u001b[39;00m\u001b[38;5;21;01m.\u001b[39;00m\u001b[38;5;21;01mtransformers\u001b[39;00m \u001b[38;5;28;01mimport\u001b[39;00m ClassifierLabelEncoder, RegressorTargetEncoder\n\u001b[1;32m     38\u001b[0m \u001b[38;5;28;01mclass\u001b[39;00m \u001b[38;5;21;01mBaseWrapper\u001b[39;00m(BaseEstimator):\n\u001b[1;32m     39\u001b[0m \u001b[38;5;250m    \u001b[39m\u001b[38;5;124;03m\"\"\"Implementation of the scikit-learn classifier API for Keras.\u001b[39;00m\n\u001b[1;32m     40\u001b[0m \n\u001b[1;32m     41\u001b[0m \u001b[38;5;124;03m    Below are a list of SciKeras specific parameters. For details on other parameters,\u001b[39;00m\n\u001b[0;32m   (...)\u001b[0m\n\u001b[1;32m    124\u001b[0m \u001b[38;5;124;03m        The number of features seen during `fit`.\u001b[39;00m\n\u001b[1;32m    125\u001b[0m \u001b[38;5;124;03m    \"\"\"\u001b[39;00m\n",
      "File \u001b[0;32m~/micromamba/envs/cs135_env/lib/python3.10/site-packages/scikeras/utils/transformers.py:12\u001b[0m\n\u001b[1;32m     10\u001b[0m \u001b[38;5;28;01mfrom\u001b[39;00m \u001b[38;5;21;01msklearn\u001b[39;00m\u001b[38;5;21;01m.\u001b[39;00m\u001b[38;5;21;01mbase\u001b[39;00m \u001b[38;5;28;01mimport\u001b[39;00m BaseEstimator, TransformerMixin\n\u001b[1;32m     11\u001b[0m \u001b[38;5;28;01mfrom\u001b[39;00m \u001b[38;5;21;01msklearn\u001b[39;00m\u001b[38;5;21;01m.\u001b[39;00m\u001b[38;5;21;01mexceptions\u001b[39;00m \u001b[38;5;28;01mimport\u001b[39;00m NotFittedError\n\u001b[0;32m---> 12\u001b[0m \u001b[38;5;28;01mfrom\u001b[39;00m \u001b[38;5;21;01msklearn\u001b[39;00m\u001b[38;5;21;01m.\u001b[39;00m\u001b[38;5;21;01mpipeline\u001b[39;00m \u001b[38;5;28;01mimport\u001b[39;00m make_pipeline\n\u001b[1;32m     13\u001b[0m \u001b[38;5;28;01mfrom\u001b[39;00m \u001b[38;5;21;01msklearn\u001b[39;00m\u001b[38;5;21;01m.\u001b[39;00m\u001b[38;5;21;01mpreprocessing\u001b[39;00m \u001b[38;5;28;01mimport\u001b[39;00m FunctionTransformer, OneHotEncoder, OrdinalEncoder\n\u001b[1;32m     14\u001b[0m \u001b[38;5;28;01mfrom\u001b[39;00m \u001b[38;5;21;01msklearn\u001b[39;00m\u001b[38;5;21;01m.\u001b[39;00m\u001b[38;5;21;01mutils\u001b[39;00m\u001b[38;5;21;01m.\u001b[39;00m\u001b[38;5;21;01mmulticlass\u001b[39;00m \u001b[38;5;28;01mimport\u001b[39;00m type_of_target\n",
      "File \u001b[0;32m~/micromamba/envs/cs135_env/lib/python3.10/site-packages/sklearn/pipeline.py:15\u001b[0m\n\u001b[1;32m     12\u001b[0m \u001b[38;5;28;01mimport\u001b[39;00m \u001b[38;5;21;01mnumpy\u001b[39;00m \u001b[38;5;28;01mas\u001b[39;00m \u001b[38;5;21;01mnp\u001b[39;00m\n\u001b[1;32m     13\u001b[0m \u001b[38;5;28;01mfrom\u001b[39;00m \u001b[38;5;21;01mscipy\u001b[39;00m \u001b[38;5;28;01mimport\u001b[39;00m sparse\n\u001b[0;32m---> 15\u001b[0m \u001b[38;5;28;01mfrom\u001b[39;00m \u001b[38;5;21;01m.\u001b[39;00m\u001b[38;5;21;01mbase\u001b[39;00m \u001b[38;5;28;01mimport\u001b[39;00m TransformerMixin, _fit_context, clone\n\u001b[1;32m     16\u001b[0m \u001b[38;5;28;01mfrom\u001b[39;00m \u001b[38;5;21;01m.\u001b[39;00m\u001b[38;5;21;01mexceptions\u001b[39;00m \u001b[38;5;28;01mimport\u001b[39;00m NotFittedError\n\u001b[1;32m     17\u001b[0m \u001b[38;5;28;01mfrom\u001b[39;00m \u001b[38;5;21;01m.\u001b[39;00m\u001b[38;5;21;01mpreprocessing\u001b[39;00m \u001b[38;5;28;01mimport\u001b[39;00m FunctionTransformer\n",
      "\u001b[0;31mImportError\u001b[0m: cannot import name '_fit_context' from 'sklearn.base' (/Users/brandonmukadziwashe/micromamba/envs/cs135_env/lib/python3.10/site-packages/sklearn/base.py)"
     ]
    }
   ],
   "source": [
    "from tensorflow.keras.callbacks import EarlyStopping\n",
    "from tensorflow.keras.models import Model\n",
    "from tensorflow.keras.layers import Input, Embedding, Flatten, Dot, Dense\n",
    "from tensorflow.keras.optimizers import Adam\n",
    "# from tensorflow.keras.wrappers.scikit_learn import KerasRegressor\n",
    "# from tensorflow.keras.wrappers.scikit_learn import KerasRegressor\n",
    "\n",
    "from scikeras.wrappers import KerasRegressor\n",
    "\n",
    "from sklearn.model_selection import GridSearchCV\n",
    "\n",
    "# Function to create the model\n",
    "def create_model(num_users, num_movies, embedding_dim, learning_rate, activation):\n",
    "    user_input = Input(shape=(1,), name='user_input')\n",
    "    user_embedding = Embedding(input_dim=num_users, output_dim=embedding_dim, name='user_embedding')(user_input)\n",
    "    user_embedding = Flatten()(user_embedding)\n",
    "\n",
    "    movie_input = Input(shape=(1,), name='movie_input')\n",
    "    movie_embedding = Embedding(input_dim=num_movies, output_dim=embedding_dim, name='movie_embedding')(movie_input)\n",
    "    movie_embedding = Flatten()(movie_embedding)\n",
    "\n",
    "    dot_product = Dot(axes=1)([user_embedding, movie_embedding])\n",
    "    output = Dense(1, activation=activation)(dot_product)\n",
    "\n",
    "    model = Model(inputs=[user_input, movie_input], outputs=output)\n",
    "    optimizer = Adam(learning_rate=learning_rate)\n",
    "    model.compile(optimizer=optimizer, loss='mae')\n",
    "\n",
    "    return model\n",
    "\n",
    "# Wrap the model with KerasRegressor\n",
    "num_users = df['user_id_encoded'].nunique()\n",
    "num_movies = df['movie_id_encoded'].nunique()\n",
    "\n",
    "model = KerasRegressor(build_fn=create_model, num_users=num_users, num_movies=num_movies, verbose=0)\n",
    "\n",
    "# Define the hyperparameter grid\n",
    "param_grid = {\n",
    "    'embedding_dim': [16, 32, 64, 128],\n",
    "    'learning_rate': [0.001, 0.005, 0.01, 0.05],\n",
    "    'batch_size': [32, 64, 128, 256],\n",
    "    'activation': ['relu', 'linear'],\n",
    "    'epochs': [10, 50]\n",
    "}\n",
    "\n",
    "# Create GridSearchCV\n",
    "early_stopping = EarlyStopping(monitor='val_loss', patience=3, restore_best_weights=True)\n",
    "grid = GridSearchCV(estimator=model, param_grid=param_grid, cv=3, scoring='neg_mean_absolute_error', verbose=1)\n",
    "\n",
    "# Train and search\n",
    "history = grid.fit(\n",
    "    [train_user_ids, train_movie_ids], train_ratings,\n",
    "    validation_data=([test_user_ids, test_movie_ids], test_ratings),\n",
    "    callbacks=[early_stopping]\n",
    ")\n",
    "\n",
    "# Print the best parameters and lowest MAE\n",
    "print(f\"Best Parameters: {grid.best_params_}\")\n",
    "print(f\"Lowest Validation MAE: {-grid.best_score_:.4f}\")\n",
    "\n",
    "# Retrieve the best model\n",
    "best_model = grid.best_estimator_.model"
   ]
  },
  {
   "cell_type": "code",
   "execution_count": 37,
   "metadata": {},
   "outputs": [
    {
     "data": {
      "image/png": "[encoded data removed]",
      "text/plain": [
       "<Figure size 1000x600 with 1 Axes>"
      ]
     },
     "metadata": {},
     "output_type": "display_data"
    }
   ],
   "source": [
    "import matplotlib.pyplot as plt\n",
    "\n",
    "# Extract training and validation loss\n",
    "train_loss = history.history['loss']\n",
    "val_loss = history.history['val_loss']\n",
    "epochs = range(1, len(train_loss) + 1)\n",
    "# Define batch size\n",
    "batch_size = 64  # Replace with the actual batch size used during training\n",
    "\n",
    "# Plotting the trace\n",
    "plt.figure(figsize=(10, 6))\n",
    "plt.plot(epochs, train_loss, label=f'Training Loss (Batch size: {batch_size})', marker='o')\n",
    "plt.plot(epochs, val_loss, label=f'Validation Loss (Batch size: {batch_size})', marker='o')\n",
    "plt.title(f'Training and Validation Loss (Batch size: {batch_size})')\n",
    "plt.xlabel('Epochs')\n",
    "plt.ylabel('Mean Absolute Error (MAE)')\n",
    "plt.legend()\n",
    "plt.grid(True)\n",
    "plt.show()\n"
   ]
  },
  {
   "cell_type": "code",
   "execution_count": null,
   "metadata": {},
   "outputs": [],
   "source": [
    "\n",
    "# Fully connected layers\n",
    "x = Dense(256, activation='relu')(concatenated)\n",
    "x = Dense(128, activation='relu')(x)\n",
    "x = Dense(64, activation='relu')(x)\n"
   ]
  }
 ],
 "metadata": {
  "kernelspec": {
   "display_name": "Python 3",
   "language": "python",
   "name": "python3"
  },
  "language_info": {
   "codemirror_mode": {
    "name": "ipython",
    "version": 3
   },
   "file_extension": ".py",
   "mimetype": "text/x-python",
   "name": "python",
   "nbconvert_exporter": "python",
   "pygments_lexer": "ipython3",
   "version": "3.10.14"
  }
 },
 "nbformat": 4,
 "nbformat_minor": 2
}
